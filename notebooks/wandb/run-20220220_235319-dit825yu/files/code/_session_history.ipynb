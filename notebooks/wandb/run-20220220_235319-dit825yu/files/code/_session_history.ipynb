{
 "cells": [
  {
   "cell_type": "code",
   "execution_count": 1,
   "id": "09fb6c54",
   "metadata": {},
   "outputs": [],
   "source": [
    "!export AWS_S3_ENDPOINT_URL=http://localhost:8000\n",
    "!export AWS_ACCESS_KEY_ID=DevAccessKey\n",
    "!export AWS_SECRET_ACCESS_KEY=DevSecretKey"
   ]
  },
  {
   "cell_type": "code",
   "execution_count": 2,
   "id": "d9772c7f",
   "metadata": {},
   "outputs": [],
   "source": [
    "import wandb\n",
    "wandb.login(key='local-8c4310dcf3cb371cac7343a466e09de6b04e4282', host='http://localhost:8080')\n",
    "ENTITY = None"
   ]
  },
  {
   "cell_type": "code",
   "execution_count": 3,
   "id": "92a10ce8",
   "metadata": {},
   "outputs": [],
   "source": [
    "import ast\n",
    "import sys\n",
    "import json\n",
    "import boto3\n",
    "from pathlib import Path\n",
    "from dill.source import getsource\n",
    "from dill import detect\n",
    "\n",
    "import pandas as pd\n",
    "import numpy as np\n",
    "import plotly\n",
    "import matplotlib.pyplot as plt\n",
    "\n",
    "from scipy.stats import ks_2samp\n",
    "from sklearn import metrics\n",
    "from sklearn import model_selection\n",
    "import xgboost as xgb\n",
    "\n",
    "pd.set_option('display.max_columns', None)"
   ]
  },
  {
   "cell_type": "code",
   "execution_count": 4,
   "id": "8601b976",
   "metadata": {},
   "outputs": [],
   "source": [
    "data_dir = Path('../data/')\n",
    "model_dir = Path('../models')\n",
    "model_dir.mkdir(exist_ok=True)\n",
    "\n",
    "id_vars = ['UniqueID']\n",
    "targ_var = 'loan_default'"
   ]
  },
  {
   "cell_type": "code",
   "execution_count": 5,
   "id": "246711a2",
   "metadata": {},
   "outputs": [],
   "source": [
    "def function_to_string(fn):\n",
    "    return getsource(detect.code(fn))"
   ]
  },
  {
   "cell_type": "code",
   "execution_count": 6,
   "id": "8a54b577",
   "metadata": {},
   "outputs": [],
   "source": [
    "run = wandb.init(entity=ENTITY, name=\"score1\", project='credit_scorecard', job_type='preprocess-data', config={'wandb_nb':'wandb_credit_soc'})  # config is optional here"
   ]
  },
  {
   "cell_type": "code",
   "execution_count": 7,
   "id": "edeb7f46",
   "metadata": {},
   "outputs": [],
   "source": [
    "from src.data_utils import (\n",
    "    describe_data_g_targ,\n",
    "    one_hot_encode_data,\n",
    "    create_feature_interaction_constraints,\n",
    "    get_monotonic_constraints,\n",
    "    load_training_data,\n",
    "    calculate_credit_scores\n",
    ")\n",
    "\n",
    "from src.scorecard import generate_scorecard"
   ]
  },
  {
   "cell_type": "code",
   "execution_count": 8,
   "id": "a7da5a1f",
   "metadata": {},
   "outputs": [
    {
     "name": "stdout",
     "output_type": "stream",
     "text": [
      "   UniqueID    LTV  manufacturer_id Employment_Type  State_ID  \\\n",
      "0    417428  88.17               86   Self employed         4   \n",
      "1    417429  83.78               86        Salaried         8   \n",
      "2    417430  77.39               86   Self employed         6   \n",
      "3    417431  72.14               86   Self employed         3   \n",
      "4    417432  85.92               86   Self employed         6   \n",
      "\n",
      "   PERFORM_CNS_SCORE  AgeInMonths  DaysSinceDisbursement  loan_default  \n",
      "0              681.0        638.0                  153.0             0  \n",
      "1              384.0        478.0                  153.0             0  \n",
      "2                NaN        441.0                  153.0             0  \n",
      "3                NaN        384.0                  153.0             0  \n",
      "4              721.0        343.0                  153.0             0  "
     ]
    }
   ],
   "source": [
    "dataset = pd.read_csv(data_dir/'vehicle_loans_subset.csv')\n",
    "dataset.head()"
   ]
  },
  {
   "cell_type": "code",
   "execution_count": 9,
   "id": "68caf385",
   "metadata": {},
   "outputs": [],
   "source": [
    "dataset, p_vars = one_hot_encode_data(dataset, id_vars, targ_var)"
   ]
  },
  {
   "cell_type": "code",
   "execution_count": 10,
   "id": "26078593",
   "metadata": {},
   "outputs": [],
   "source": [
    "processed_data_path = data_dir/'proc_ds.csv'\n",
    "dataset.to_csv(processed_data_path, index=False)"
   ]
  },
  {
   "cell_type": "code",
   "execution_count": 11,
   "id": "54eb99d9",
   "metadata": {},
   "outputs": [],
   "source": [
    "processed_ds_art = wandb.Artifact(name='vehicle_defaults_processed',\n",
    "                                  type='processed_dataset',\n",
    "                                  description='One-hot encoded dataset',\n",
    "                                  metadata={'preprocessing_fn': function_to_string(one_hot_encode_data)}\n",
    "                                  )\n",
    "processed_ds_art.add_reference('s3://creditscore/datasets/process')"
   ]
  },
  {
   "cell_type": "code",
   "execution_count": 12,
   "id": "76500f30",
   "metadata": {},
   "outputs": [],
   "source": [
    "import ast\n",
    "import sys\n",
    "import os\n",
    "import json\n",
    "import boto3\n",
    "from pathlib import Path\n",
    "from dill.source import getsource\n",
    "from dill import detect\n",
    "\n",
    "import pandas as pd\n",
    "import numpy as np\n",
    "import plotly\n",
    "import matplotlib.pyplot as plt\n",
    "\n",
    "from scipy.stats import ks_2samp\n",
    "from sklearn import metrics\n",
    "from sklearn import model_selection\n",
    "import xgboost as xgb\n",
    "\n",
    "pd.set_option('display.max_columns', None)"
   ]
  },
  {
   "cell_type": "code",
   "execution_count": 13,
   "id": "268725f6",
   "metadata": {},
   "outputs": [],
   "source": [
    "import ast\n",
    "import sys\n",
    "import os\n",
    "import json\n",
    "import boto3\n",
    "from pathlib import Path\n",
    "from dill.source import getsource\n",
    "from dill import detect\n",
    "\n",
    "import pandas as pd\n",
    "import numpy as np\n",
    "import plotly\n",
    "import matplotlib.pyplot as plt\n",
    "\n",
    "from scipy.stats import ks_2samp\n",
    "from sklearn import metrics\n",
    "from sklearn import model_selection\n",
    "import xgboost as xgb\n",
    "\n",
    "pd.set_option('display.max_columns', None)"
   ]
  },
  {
   "cell_type": "code",
   "execution_count": 14,
   "id": "a45b02a0",
   "metadata": {},
   "outputs": [],
   "source": [
    "os.environ[\"AWS_S3_ENDPOINT_URL\"] = \"http://localhost:8000\"\n",
    "os.environ[\"AWS_ACCESS_KEY_ID\"] = \"DevAccessKey\"\n",
    "os.environ[\"AWS_SECRET_ACCESS_KEY\"] = \"DevSecretKey\""
   ]
  },
  {
   "cell_type": "code",
   "execution_count": 15,
   "id": "8192e1af",
   "metadata": {},
   "outputs": [
    {
     "name": "stdout",
     "output_type": "stream",
     "text": [
      "[]"
     ]
    }
   ],
   "source": [
    "processed_ds_art = wandb.Artifact(name='vehicle_defaults_processed',\n",
    "                                  type='processed_dataset',\n",
    "                                  description='One-hot encoded dataset',\n",
    "                                  metadata={'preprocessing_fn': function_to_string(one_hot_encode_data)}\n",
    "                                  )\n",
    "processed_ds_art.add_reference('s3://creditscore/datasets/process')"
   ]
  },
  {
   "cell_type": "code",
   "execution_count": 16,
   "id": "85d3497c",
   "metadata": {},
   "outputs": [
    {
     "name": "stdout",
     "output_type": "stream",
     "text": [
      "<ManifestEntry digest: cslJubeoq5UrWhqw3sBeqw==>"
     ]
    }
   ],
   "source": [
    "# Attach our processed data to the Artifact\n",
    "processed_ds_art.add_file(processed_data_path)"
   ]
  },
  {
   "cell_type": "code",
   "execution_count": 17,
   "id": "67c277bc",
   "metadata": {},
   "outputs": [],
   "source": [
    "run.log_artifact(processed_ds_art)\n",
    "run.finish()"
   ]
  },
  {
   "cell_type": "code",
   "execution_count": 18,
   "id": "37e1fec7",
   "metadata": {},
   "outputs": [
    {
     "name": "stdout",
     "output_type": "stream",
     "text": [
      "[]"
     ]
    }
   ],
   "source": [
    "processed_ds_art = wandb.Artifact(name='vehicle_defaults_processed',\n",
    "                                  type='processed_dataset',\n",
    "                                  description='One-hot encoded dataset',\n",
    "                                  metadata={'preprocessing_fn': function_to_string(one_hot_encode_data)}\n",
    "                                  )\n",
    "processed_ds_art.add_reference('s3://creditscore/datasets/vehicle_defaults_processed')"
   ]
  },
  {
   "cell_type": "code",
   "execution_count": 19,
   "id": "de88c31c",
   "metadata": {},
   "outputs": [
    {
     "name": "stdout",
     "output_type": "stream",
     "text": [
      "<ManifestEntry digest: cslJubeoq5UrWhqw3sBeqw==>"
     ]
    }
   ],
   "source": [
    "# Attach our processed data to the Artifact\n",
    "processed_ds_art.add_file(processed_data_path)"
   ]
  },
  {
   "cell_type": "code",
   "execution_count": 20,
   "id": "3bf51f5a",
   "metadata": {},
   "outputs": [],
   "source": [
    "run.log_artifact(processed_ds_art)\n",
    "run.finish()"
   ]
  },
  {
   "cell_type": "code",
   "execution_count": 21,
   "id": "5a6e6221",
   "metadata": {},
   "outputs": [],
   "source": [
    "run = wandb.init(entity=ENTITY, name=\"score1\", project='credit_scorecard', job_type='preprocess-data', config={'wandb_nb':'wandb_credit_soc'})  # config is optional here"
   ]
  },
  {
   "cell_type": "code",
   "execution_count": 22,
   "id": "3e2a2f25",
   "metadata": {},
   "outputs": [],
   "source": [
    "from src.data_utils import (\n",
    "    describe_data_g_targ,\n",
    "    one_hot_encode_data,\n",
    "    create_feature_interaction_constraints,\n",
    "    get_monotonic_constraints,\n",
    "    load_training_data,\n",
    "    calculate_credit_scores\n",
    ")\n",
    "\n",
    "from src.scorecard import generate_scorecard"
   ]
  },
  {
   "cell_type": "code",
   "execution_count": 23,
   "id": "5061dae0",
   "metadata": {},
   "outputs": [
    {
     "name": "stdout",
     "output_type": "stream",
     "text": [
      "   UniqueID    LTV  manufacturer_id Employment_Type  State_ID  \\\n",
      "0    417428  88.17               86   Self employed         4   \n",
      "1    417429  83.78               86        Salaried         8   \n",
      "2    417430  77.39               86   Self employed         6   \n",
      "3    417431  72.14               86   Self employed         3   \n",
      "4    417432  85.92               86   Self employed         6   \n",
      "\n",
      "   PERFORM_CNS_SCORE  AgeInMonths  DaysSinceDisbursement  loan_default  \n",
      "0              681.0        638.0                  153.0             0  \n",
      "1              384.0        478.0                  153.0             0  \n",
      "2                NaN        441.0                  153.0             0  \n",
      "3                NaN        384.0                  153.0             0  \n",
      "4              721.0        343.0                  153.0             0  "
     ]
    }
   ],
   "source": [
    "dataset = pd.read_csv(data_dir/'vehicle_loans_subset.csv')\n",
    "dataset.head()"
   ]
  },
  {
   "cell_type": "code",
   "execution_count": 24,
   "id": "6dccc27c",
   "metadata": {},
   "outputs": [],
   "source": [
    "dataset, p_vars = one_hot_encode_data(dataset, id_vars, targ_var)"
   ]
  },
  {
   "cell_type": "code",
   "execution_count": 25,
   "id": "ed607b87",
   "metadata": {},
   "outputs": [],
   "source": [
    "processed_data_path = data_dir/'proc_ds.csv'\n",
    "dataset.to_csv(processed_data_path, index=False)"
   ]
  },
  {
   "cell_type": "code",
   "execution_count": 26,
   "id": "61b38d11",
   "metadata": {},
   "outputs": [
    {
     "name": "stdout",
     "output_type": "stream",
     "text": [
      "[]"
     ]
    }
   ],
   "source": [
    "processed_ds_art = wandb.Artifact(name='vehicle_defaults_processed',\n",
    "                                  type='processed_dataset',\n",
    "                                  description='One-hot encoded dataset',\n",
    "                                  metadata={'preprocessing_fn': function_to_string(one_hot_encode_data)}\n",
    "                                  )\n",
    "processed_ds_art.add_reference('s3://creditscore/datasets/vehicle_defaults_processed')"
   ]
  },
  {
   "cell_type": "code",
   "execution_count": 27,
   "id": "6b20123d",
   "metadata": {},
   "outputs": [
    {
     "name": "stdout",
     "output_type": "stream",
     "text": [
      "<ManifestEntry digest: cslJubeoq5UrWhqw3sBeqw==>"
     ]
    }
   ],
   "source": [
    "# Attach our processed data to the Artifact\n",
    "processed_ds_art.add_file(processed_data_path)"
   ]
  },
  {
   "cell_type": "code",
   "execution_count": 28,
   "id": "30bf5501",
   "metadata": {},
   "outputs": [],
   "source": [
    "run.log_artifact(processed_ds_art)\n",
    "run.finish()"
   ]
  },
  {
   "cell_type": "code",
   "execution_count": 29,
   "id": "a8b99618",
   "metadata": {},
   "outputs": [],
   "source": [
    "run = wandb.init(entity=ENTITY, name=\"score2\", project='credit_scorecard', job_type='preprocess-data', config={'wandb_nb':'wandb_credit_soc'})  # config is optional here"
   ]
  },
  {
   "cell_type": "code",
   "execution_count": 30,
   "id": "78fdc73b",
   "metadata": {},
   "outputs": [],
   "source": [
    "from src.data_utils import (\n",
    "    describe_data_g_targ,\n",
    "    one_hot_encode_data,\n",
    "    create_feature_interaction_constraints,\n",
    "    get_monotonic_constraints,\n",
    "    load_training_data,\n",
    "    calculate_credit_scores\n",
    ")\n",
    "\n",
    "from src.scorecard import generate_scorecard"
   ]
  },
  {
   "cell_type": "code",
   "execution_count": 31,
   "id": "89d7f984",
   "metadata": {},
   "outputs": [
    {
     "name": "stdout",
     "output_type": "stream",
     "text": [
      "   UniqueID    LTV  manufacturer_id Employment_Type  State_ID  \\\n",
      "0    417428  88.17               86   Self employed         4   \n",
      "1    417429  83.78               86        Salaried         8   \n",
      "2    417430  77.39               86   Self employed         6   \n",
      "3    417431  72.14               86   Self employed         3   \n",
      "4    417432  85.92               86   Self employed         6   \n",
      "\n",
      "   PERFORM_CNS_SCORE  AgeInMonths  DaysSinceDisbursement  loan_default  \n",
      "0              681.0        638.0                  153.0             0  \n",
      "1              384.0        478.0                  153.0             0  \n",
      "2                NaN        441.0                  153.0             0  \n",
      "3                NaN        384.0                  153.0             0  \n",
      "4              721.0        343.0                  153.0             0  "
     ]
    }
   ],
   "source": [
    "dataset = pd.read_csv(data_dir/'vehicle_loans_subset.csv')\n",
    "dataset.head()"
   ]
  },
  {
   "cell_type": "code",
   "execution_count": 32,
   "id": "db7417f5",
   "metadata": {},
   "outputs": [],
   "source": [
    "dataset, p_vars = one_hot_encode_data(dataset, id_vars, targ_var)"
   ]
  },
  {
   "cell_type": "code",
   "execution_count": 33,
   "id": "ab7fef18",
   "metadata": {},
   "outputs": [],
   "source": [
    "processed_data_path = data_dir/'proc_ds.csv'\n",
    "dataset.to_csv(processed_data_path, index=False)"
   ]
  },
  {
   "cell_type": "code",
   "execution_count": 34,
   "id": "06441220",
   "metadata": {},
   "outputs": [],
   "source": [
    "s3_client = boto3.client('s3')\n",
    "s3_client.upload_file('proc_ds.csv', 'creditscore', 'datasets/vehicle_defaults_processed')\n",
    "\n",
    "processed_ds_art = wandb.Artifact(name='vehicle_defaults_processed',\n",
    "                                  type='processed_dataset',\n",
    "                                  description='One-hot encoded dataset',\n",
    "                                  metadata={'preprocessing_fn': function_to_string(one_hot_encode_data)}\n",
    "                                  )\n",
    "processed_ds_art.add_reference('s3://creditscore/datasets/vehicle_defaults_processed')"
   ]
  },
  {
   "cell_type": "code",
   "execution_count": 35,
   "id": "7bcf205e",
   "metadata": {},
   "outputs": [],
   "source": [
    "s3_client = boto3.client('s3')\n",
    "s3_client.upload_file(data_dir/'proc_ds.csv', 'creditscore', 'datasets/vehicle_defaults_processed')\n",
    "\n",
    "processed_ds_art = wandb.Artifact(name='vehicle_defaults_processed',\n",
    "                                  type='processed_dataset',\n",
    "                                  description='One-hot encoded dataset',\n",
    "                                  metadata={'preprocessing_fn': function_to_string(one_hot_encode_data)}\n",
    "                                  )\n",
    "processed_ds_art.add_reference('s3://creditscore/datasets/vehicle_defaults_processed')"
   ]
  },
  {
   "cell_type": "code",
   "execution_count": 36,
   "id": "14a4950d",
   "metadata": {},
   "outputs": [],
   "source": [
    "s3_client = boto3.client('s3')\n",
    "s3_client.upload_file(data_dir/'proc_ds.csv', 'creditscore', 'datasets/vehicle_defaults_processed')\n",
    "\n",
    "processed_ds_art = wandb.Artifact(name='vehicle_defaults_processed',\n",
    "                                  type='processed_dataset',\n",
    "                                  description='One-hot encoded dataset',\n",
    "                                  metadata={'preprocessing_fn': function_to_string(one_hot_encode_data)}\n",
    "                                  )\n",
    "processed_ds_art.add_reference('s3://creditscore/datasets/vehicle_defaults_processed')"
   ]
  },
  {
   "cell_type": "code",
   "execution_count": 37,
   "id": "d9cdf51a",
   "metadata": {},
   "outputs": [],
   "source": [
    "s3_client = boto3.client('s3')"
   ]
  },
  {
   "cell_type": "code",
   "execution_count": 38,
   "id": "e8271f4c",
   "metadata": {},
   "outputs": [],
   "source": [
    "s3_client.upload_file(data_dir/'proc_ds.csv', 'creditscore', 'datasets/vehicle_defaults_processed')\n",
    "\n",
    "processed_ds_art = wandb.Artifact(name='vehicle_defaults_processed',\n",
    "                                  type='processed_dataset',\n",
    "                                  description='One-hot encoded dataset',\n",
    "                                  metadata={'preprocessing_fn': function_to_string(one_hot_encode_data)}\n",
    "                                  )\n",
    "processed_ds_art.add_reference('s3://creditscore/datasets/vehicle_defaults_processed')"
   ]
  },
  {
   "cell_type": "code",
   "execution_count": 39,
   "id": "71747d9a",
   "metadata": {},
   "outputs": [],
   "source": [
    "s3_client.upload_file(data_dir + '/proc_ds.csv', 'creditscore', 'datasets/vehicle_defaults_processed')\n",
    "\n",
    "processed_ds_art = wandb.Artifact(name='vehicle_defaults_processed',\n",
    "                                  type='processed_dataset',\n",
    "                                  description='One-hot encoded dataset',\n",
    "                                  metadata={'preprocessing_fn': function_to_string(one_hot_encode_data)}\n",
    "                                  )\n",
    "processed_ds_art.add_reference('s3://creditscore/datasets/vehicle_defaults_processed')"
   ]
  },
  {
   "cell_type": "code",
   "execution_count": 40,
   "id": "943da59a",
   "metadata": {},
   "outputs": [],
   "source": [
    "s3_client.upload_file((data_dir/'proc_ds.csv'.__str__()), 'creditscore', 'datasets/vehicle_defaults_processed')\n",
    "\n",
    "processed_ds_art = wandb.Artifact(name='vehicle_defaults_processed',\n",
    "                                  type='processed_dataset',\n",
    "                                  description='One-hot encoded dataset',\n",
    "                                  metadata={'preprocessing_fn': function_to_string(one_hot_encode_data)}\n",
    "                                  )\n",
    "processed_ds_art.add_reference('s3://creditscore/datasets/vehicle_defaults_processed')"
   ]
  },
  {
   "cell_type": "code",
   "execution_count": 41,
   "id": "9ece5bd0",
   "metadata": {},
   "outputs": [],
   "source": [
    "s3_client.upload_file((data_dir/'proc_ds.csv').__str__()), 'creditscore', 'datasets/vehicle_defaults_processed')\n",
    "\n",
    "processed_ds_art = wandb.Artifact(name='vehicle_defaults_processed',\n",
    "                                  type='processed_dataset',\n",
    "                                  description='One-hot encoded dataset',\n",
    "                                  metadata={'preprocessing_fn': function_to_string(one_hot_encode_data)}\n",
    "                                  )\n",
    "processed_ds_art.add_reference('s3://creditscore/datasets/vehicle_defaults_processed')"
   ]
  },
  {
   "cell_type": "code",
   "execution_count": 42,
   "id": "4b2d0515",
   "metadata": {},
   "outputs": [],
   "source": [
    "s3_client.upload_file((data_dir/'proc_ds.csv').__str__(), 'creditscore', 'datasets/vehicle_defaults_processed')\n",
    "\n",
    "processed_ds_art = wandb.Artifact(name='vehicle_defaults_processed',\n",
    "                                  type='processed_dataset',\n",
    "                                  description='One-hot encoded dataset',\n",
    "                                  metadata={'preprocessing_fn': function_to_string(one_hot_encode_data)}\n",
    "                                  )\n",
    "processed_ds_art.add_reference('s3://creditscore/datasets/vehicle_defaults_processed')"
   ]
  },
  {
   "cell_type": "code",
   "execution_count": 43,
   "id": "284082f0",
   "metadata": {},
   "outputs": [],
   "source": [
    "os.environ[\"AWS_S3_ENDPOINT_URL\"] = \"http://localhost:8000\"\n",
    "os.environ[\"AWS_ACCESS_KEY_ID\"] = \"DevAccessKey\"\n",
    "os.environ[\"AWS_SECRET_ACCESS_KEY\"] = \"DevSecretKey\""
   ]
  },
  {
   "cell_type": "code",
   "execution_count": 44,
   "id": "93f8b46c",
   "metadata": {},
   "outputs": [],
   "source": [
    "s3_client.upload_file((data_dir/'proc_ds.csv').__str__(), 'creditscore', 'datasets/vehicle_defaults_processed')\n",
    "\n",
    "processed_ds_art = wandb.Artifact(name='vehicle_defaults_processed',\n",
    "                                  type='processed_dataset',\n",
    "                                  description='One-hot encoded dataset',\n",
    "                                  metadata={'preprocessing_fn': function_to_string(one_hot_encode_data)}\n",
    "                                  )\n",
    "processed_ds_art.add_reference('s3://creditscore/datasets/vehicle_defaults_processed')"
   ]
  },
  {
   "cell_type": "code",
   "execution_count": 45,
   "id": "37ecd20f",
   "metadata": {},
   "outputs": [],
   "source": [
    "s3_client.upload_file((data_dir/'proc_ds.csv').__str__(), 'creditscore', 'datasets/vehicle_defaults_processed')"
   ]
  },
  {
   "cell_type": "code",
   "execution_count": 46,
   "id": "47a08dc8",
   "metadata": {},
   "outputs": [],
   "source": [
    "s3_client.upload_file((data_dir/'proc_ds.csv').__str__(), 'creditscore', 'datasets/vehicle_defaults_processed')"
   ]
  },
  {
   "cell_type": "code",
   "execution_count": 47,
   "id": "5be922ef",
   "metadata": {},
   "outputs": [],
   "source": [
    "os.environ[\"AWS_S3_ENDPOINT_URL\"] = \"http://localhost:8000\"\n",
    "os.environ[\"AWS_ACCESS_KEY_ID\"] = \"DevAccessKeym\"\n",
    "os.environ[\"AWS_SECRET_ACCESS_KEY\"] = \"DevSecretKey\""
   ]
  },
  {
   "cell_type": "code",
   "execution_count": 48,
   "id": "486d2f83",
   "metadata": {},
   "outputs": [],
   "source": [
    "s3_client.upload_file((data_dir/'proc_ds.csv').__str__(), 'creditscore', 'datasets/vehicle_defaults_processed')"
   ]
  },
  {
   "cell_type": "code",
   "execution_count": 49,
   "id": "b973e8e1",
   "metadata": {},
   "outputs": [],
   "source": [
    "s3_client = boto3.client('s3', endpoint_url=\"http://localhost:8000\",\n",
    "                         aws_access_key_id=\"DevAccessKey\", aws_secret_access_key=\"DevSecretKey\")"
   ]
  },
  {
   "cell_type": "code",
   "execution_count": 50,
   "id": "fac8a8c9",
   "metadata": {},
   "outputs": [],
   "source": [
    "s3_client.upload_file((data_dir/'proc_ds.csv').__str__(), 'creditscore', 'datasets/vehicle_defaults_processed')"
   ]
  },
  {
   "cell_type": "code",
   "execution_count": 51,
   "id": "bee45262",
   "metadata": {},
   "outputs": [],
   "source": [
    "\n",
    "processed_ds_art = wandb.Artifact(name='vehicle_defaults_processed',\n",
    "                                  type='processed_dataset',\n",
    "                                  description='One-hot encoded dataset',\n",
    "                                  metadata={'preprocessing_fn': function_to_string(one_hot_encode_data)}\n",
    "                                  )\n",
    "processed_ds_art.add_reference('s3://creditscore/datasets/vehicle_defaults_processed')"
   ]
  },
  {
   "cell_type": "code",
   "execution_count": 52,
   "id": "822baac6",
   "metadata": {},
   "outputs": [],
   "source": [
    "s3_client.upload_file((data_dir/'proc_ds.csv').__str__(), 'creditscore', 'datasets/vehicle_defaults_processed1')"
   ]
  },
  {
   "cell_type": "code",
   "execution_count": 53,
   "id": "0bc5564e",
   "metadata": {},
   "outputs": [],
   "source": [
    "\n",
    "processed_ds_art = wandb.Artifact(name='vehicle_defaults_processed',\n",
    "                                  type='processed_dataset',\n",
    "                                  description='One-hot encoded dataset',\n",
    "                                  metadata={'preprocessing_fn': function_to_string(one_hot_encode_data)}\n",
    "                                  )\n",
    "processed_ds_art.add_reference('s3://creditscore/datasets/vehicle_defaults_processed')"
   ]
  },
  {
   "cell_type": "code",
   "execution_count": 54,
   "id": "6e8b0f9f",
   "metadata": {},
   "outputs": [],
   "source": [
    "os.environ[\"AWS_S3_ENDPOINT_URL\"] = \"http://localhost:8000\"\n",
    "os.environ[\"AWS_ACCESS_KEY_ID\"] = \"DevAccessKey\"\n",
    "os.environ[\"AWS_SECRET_ACCESS_KEY\"] = \"DevSecretKey\""
   ]
  },
  {
   "cell_type": "code",
   "execution_count": 55,
   "id": "90942120",
   "metadata": {},
   "outputs": [
    {
     "name": "stdout",
     "output_type": "stream",
     "text": [
      "[<ManifestEntry ref: s3://creditscore/datasets/vehicle_defaults_processed/vehicle_defaults_processed>]"
     ]
    }
   ],
   "source": [
    "\n",
    "processed_ds_art = wandb.Artifact(name='vehicle_defaults_processed',\n",
    "                                  type='processed_dataset',\n",
    "                                  description='One-hot encoded dataset',\n",
    "                                  metadata={'preprocessing_fn': function_to_string(one_hot_encode_data)}\n",
    "                                  )\n",
    "processed_ds_art.add_reference('s3://creditscore/datasets/vehicle_defaults_processed')"
   ]
  },
  {
   "cell_type": "code",
   "execution_count": 56,
   "id": "6f983ae4",
   "metadata": {},
   "outputs": [
    {
     "name": "stdout",
     "output_type": "stream",
     "text": [
      "<ManifestEntry digest: cslJubeoq5UrWhqw3sBeqw==>"
     ]
    }
   ],
   "source": [
    "# Attach our processed data to the Artifact\n",
    "processed_ds_art.add_file(processed_data_path)"
   ]
  },
  {
   "cell_type": "code",
   "execution_count": 57,
   "id": "dd3e4345",
   "metadata": {},
   "outputs": [],
   "source": [
    "run.log_artifact(processed_ds_art)\n",
    "run.finish()"
   ]
  },
  {
   "cell_type": "code",
   "execution_count": 58,
   "id": "137e492f",
   "metadata": {},
   "outputs": [],
   "source": [
    "with wandb.init(entity=ENTITY, name=\"model1\", project='credit_scorecard', job_type='train-val-split', config={'wandb_nb':'wandb_credit_soc'}) as run:     # config is optional here\n",
    "\n",
    "    # Download the subset of the vehicle loan default data from W&B\n",
    "    dataset_art = run.use_artifact('vehicle_defaults_processed:latest', type='processed_dataset')\n",
    "    dataset_dir = dataset_art.download(data_dir)\n",
    "    dataset = pd.read_csv(processed_data_path)\n",
    "\n",
    "    # Set Split Params\n",
    "    test_size = 0.25\n",
    "    random_state = 42\n",
    "\n",
    "    # Log the splilt params\n",
    "    run.config.update({'test_size':test_size, 'random_state': random_state})\n",
    "\n",
    "    # Do the Train/Val Split\n",
    "    trndat, valdat = model_selection.train_test_split(dataset, test_size=test_size,\n",
    "                                                      random_state=random_state, stratify=dataset[[targ_var]])\n",
    "\n",
    "    print(f'Train dataset size: {trndat[targ_var].value_counts()} \\n')\n",
    "    print(f'Validation dataset sizeL {valdat[targ_var].value_counts()}')\n",
    "\n",
    "    # Save split datasets\n",
    "    train_path = data_dir/'train.csv'\n",
    "    val_path = data_dir/'val.csv'\n",
    "    trndat.to_csv(train_path, index=False)\n",
    "    valdat.to_csv(val_path, index=False)\n",
    "\n",
    "\n",
    "    # Create a new artifact for the processed data, including the function that created it, to Artifacts\n",
    "    split_ds_art = wandb.Artifact(name='vehicle_defaults_split',\n",
    "                                  type='train-val-dataset',\n",
    "                                  description='Processed dataset split into train and valiation',\n",
    "                                  metadata={'test_size': test_size, 'random_state': random_state}\n",
    "                                  )\n",
    "    split_ds_art.add_reference('s3://creditscore/artefacts')\n",
    "\n",
    "    # Attach our processed data to the Artifact\n",
    "    split_ds_art.add_file(train_path)\n",
    "    split_ds_art.add_file(val_path)\n",
    "\n",
    "    # Log the Artifact\n",
    "    run.log_artifact(split_ds_art)"
   ]
  },
  {
   "cell_type": "code",
   "execution_count": 59,
   "id": "4500c242",
   "metadata": {},
   "outputs": [],
   "source": [
    "with wandb.init(entity=ENTITY, name=\"split2\", project='credit_scorecard', job_type='train-val-split', config={'wandb_nb':'wandb_credit_soc'}) as run:     # config is optional here\n",
    "\n",
    "    # Download the subset of the vehicle loan default data from W&B\n",
    "    dataset_art = run.use_artifact('vehicle_defaults_processed:latest', type='processed_dataset')\n",
    "    dataset_dir = dataset_art.download(data_dir)\n",
    "    dataset = pd.read_csv(processed_data_path)\n",
    "\n",
    "    # Set Split Params\n",
    "    test_size = 0.25\n",
    "    random_state = 42\n",
    "\n",
    "    # Log the splilt params\n",
    "    run.config.update({'test_size':test_size, 'random_state': random_state})\n",
    "\n",
    "    # Do the Train/Val Split\n",
    "    trndat, valdat = model_selection.train_test_split(dataset, test_size=test_size,\n",
    "                                                      random_state=random_state, stratify=dataset[[targ_var]])\n",
    "\n",
    "    print(f'Train dataset size: {trndat[targ_var].value_counts()} \\n')\n",
    "    print(f'Validation dataset sizeL {valdat[targ_var].value_counts()}')\n",
    "\n",
    "    # Save split datasets\n",
    "    train_path = data_dir/'train.csv'\n",
    "    val_path = data_dir/'val.csv'\n",
    "    trndat.to_csv(train_path, index=False)\n",
    "    valdat.to_csv(val_path, index=False)\n",
    "\n",
    "    s3_client.upload_file(train_path.__str__(), 'creditscore', 'artifacts/train.csv')\n",
    "    s3_client.upload_file(val_path.__str__(), 'creditscore', 'artifacts/val.csv')\n",
    "\n",
    "    # Create a new artifact for the processed data, including the function that created it, to Artifacts\n",
    "    split_ds_art = wandb.Artifact(name='vehicle_defaults_split',\n",
    "                                  type='train-val-dataset',\n",
    "                                  description='Processed dataset split into train and valiation',\n",
    "                                  metadata={'test_size': test_size, 'random_state': random_state}\n",
    "                                  )\n",
    "    split_ds_art.add_reference('s3://creditscore/artifacts')\n",
    "\n",
    "    # Attach our processed data to the Artifact\n",
    "    # split_ds_art.add_file('train.csv')\n",
    "    # split_ds_art.add_file('val.csv')\n",
    "\n",
    "    # Log the Artifact\n",
    "    run.log_artifact(split_ds_art)"
   ]
  },
  {
   "cell_type": "code",
   "execution_count": 60,
   "id": "078bbd94",
   "metadata": {},
   "outputs": [],
   "source": [
    "with wandb.init(entity=ENTITY, name=\"split3\", project='credit_scorecard', job_type='train-val-split', config={'wandb_nb':'wandb_credit_soc'}) as run:     # config is optional here\n",
    "\n",
    "    # Download the subset of the vehicle loan default data from W&B\n",
    "    dataset_art = run.use_artifact('vehicle_defaults_processed:latest', type='processed_dataset')\n",
    "    dataset_dir = dataset_art.download(data_dir)\n",
    "    dataset = pd.read_csv(processed_data_path)\n",
    "\n",
    "    # Set Split Params\n",
    "    test_size = 0.25\n",
    "    random_state = 42\n",
    "\n",
    "    # Log the splilt params\n",
    "    run.config.update({'test_size':test_size, 'random_state': random_state})\n",
    "\n",
    "    # Do the Train/Val Split\n",
    "    trndat, valdat = model_selection.train_test_split(dataset, test_size=test_size,\n",
    "                                                      random_state=random_state, stratify=dataset[[targ_var]])\n",
    "\n",
    "    print(f'Train dataset size: {trndat[targ_var].value_counts()} \\n')\n",
    "    print(f'Validation dataset sizeL {valdat[targ_var].value_counts()}')\n",
    "\n",
    "    # Save split datasets\n",
    "    train_path = data_dir/'train.csv'\n",
    "    val_path = data_dir/'val.csv'\n",
    "    trndat.to_csv(train_path, index=False)\n",
    "    valdat.to_csv(val_path, index=False)\n",
    "\n",
    "    s3_client.upload_file(train_path.__str__(), 'creditscore', 'artifacts/train.csv')\n",
    "    s3_client.upload_file(val_path.__str__(), 'creditscore', 'artifacts/val.csv')\n",
    "\n",
    "    # Create a new artifact for the processed data, including the function that created it, to Artifacts\n",
    "    split_ds_art = wandb.Artifact(name='vehicle_defaults_split',\n",
    "                                  type='train-val-dataset',\n",
    "                                  description='Processed dataset split into train and valiation',\n",
    "                                  metadata={'test_size': test_size, 'random_state': random_state}\n",
    "                                  )\n",
    "    split_ds_art.add_reference('http://localhost:8001/creditscore/artifacts')\n",
    "\n",
    "    # Attach our processed data to the Artifact\n",
    "    # split_ds_art.add_file('train.csv')\n",
    "    # split_ds_art.add_file('val.csv')\n",
    "\n",
    "    # Log the Artifact\n",
    "    run.log_artifact(split_ds_art)"
   ]
  },
  {
   "cell_type": "code",
   "execution_count": 61,
   "id": "6972675f",
   "metadata": {},
   "outputs": [],
   "source": [
    "with wandb.init(entity=ENTITY, name=\"split4\", project='credit_scorecard', job_type='train-val-split', config={'wandb_nb':'wandb_credit_soc'}) as run:     # config is optional here\n",
    "\n",
    "    # Download the subset of the vehicle loan default data from W&B\n",
    "    dataset_art = run.use_artifact('vehicle_defaults_processed:latest', type='processed_dataset')\n",
    "    dataset_dir = dataset_art.download(data_dir)\n",
    "    dataset = pd.read_csv(processed_data_path)\n",
    "\n",
    "    # Set Split Params\n",
    "    test_size = 0.25\n",
    "    random_state = 42\n",
    "\n",
    "    # Log the splilt params\n",
    "    run.config.update({'test_size':test_size, 'random_state': random_state})\n",
    "\n",
    "    # Do the Train/Val Split\n",
    "    trndat, valdat = model_selection.train_test_split(dataset, test_size=test_size,\n",
    "                                                      random_state=random_state, stratify=dataset[[targ_var]])\n",
    "\n",
    "    print(f'Train dataset size: {trndat[targ_var].value_counts()} \\n')\n",
    "    print(f'Validation dataset sizeL {valdat[targ_var].value_counts()}')\n",
    "\n",
    "    # Save split datasets\n",
    "    train_path = data_dir/'train.csv'\n",
    "    val_path = data_dir/'val.csv'\n",
    "    trndat.to_csv(train_path, index=False)\n",
    "    valdat.to_csv(val_path, index=False)\n",
    "\n",
    "    s3_client.upload_file(train_path.__str__(), 'creditscore', 'artifacts/train.csv')\n",
    "    s3_client.upload_file(val_path.__str__(), 'creditscore', 'artifacts/val.csv')\n",
    "\n",
    "    # Create a new artifact for the processed data, including the function that created it, to Artifacts\n",
    "    split_ds_art = wandb.Artifact(name='vehicle_defaults_split',\n",
    "                                  type='train-val-dataset',\n",
    "                                  description='Processed dataset split into train and valiation',\n",
    "                                  metadata={'test_size': test_size, 'random_state': random_state}\n",
    "                                  )\n",
    "    split_ds_art.add_reference('s3://creditscore/artifacts')\n",
    "\n",
    "    # Attach our processed data to the Artifact\n",
    "    split_ds_art.add_file('train.csv')\n",
    "    split_ds_art.add_file('val.csv')\n",
    "\n",
    "    # Log the Artifact\n",
    "    run.log_artifact(split_ds_art)"
   ]
  },
  {
   "cell_type": "code",
   "execution_count": 62,
   "id": "23bead80",
   "metadata": {},
   "outputs": [
    {
     "name": "stdout",
     "output_type": "stream",
     "text": [
      "        UniqueID  loan_default  AgeInMonths  DaysSinceDisbursement    LTV  \\\n",
      "17797     435556             0        324.0                  141.0  80.00   \n",
      "4403      421891             0        351.0                  150.0  64.96   \n",
      "190714    611145             0        255.0                   69.0  83.98   \n",
      "115372    534751             0        229.0                   98.0  76.38   \n",
      "98591     517772             0        325.0                  104.0  77.25   \n",
      "\n",
      "        PERFORM_CNS_SCORE  Employment_Type__Salaried  \\\n",
      "17797                 NaN                          0   \n",
      "4403                718.0                          0   \n",
      "190714                NaN                          0   \n",
      "115372                NaN                          0   \n",
      "98591               700.0                          0   \n",
      "\n",
      "        Employment_Type__Self employed  State_ID__1  State_ID__2  State_ID__3  \\\n",
      "17797                                1            0            0            0   \n",
      "4403                                 1            0            0            0   \n",
      "190714                               1            0            0            0   \n",
      "115372                               0            0            0            1   \n",
      "98591                                1            0            0            0   \n",
      "\n",
      "        State_ID__4  State_ID__5  State_ID__6  State_ID__7  State_ID__8  \\\n",
      "17797             0            0            1            0            0   \n",
      "4403              0            0            0            0            0   \n",
      "190714            0            0            0            0            0   \n",
      "115372            0            0            0            0            0   \n",
      "98591             0            0            1            0            0   \n",
      "\n",
      "        State_ID__9  State_ID__10  State_ID__11  State_ID__12  State_ID__13  \\\n",
      "17797             0             0             0             0             0   \n",
      "4403              0             0             0             0             1   \n",
      "190714            0             0             0             0             1   \n",
      "115372            0             0             0             0             0   \n",
      "98591             0             0             0             0             0   \n",
      "\n",
      "        State_ID__14  State_ID__15  State_ID__16  State_ID__17  State_ID__18  \\\n",
      "17797              0             0             0             0             0   \n",
      "4403               0             0             0             0             0   \n",
      "190714             0             0             0             0             0   \n",
      "115372             0             0             0             0             0   \n",
      "98591              0             0             0             0             0   \n",
      "\n",
      "        State_ID__19  State_ID__20  State_ID__21  State_ID__22  \\\n",
      "17797              0             0             0             0   \n",
      "4403               0             0             0             0   \n",
      "190714             0             0             0             0   \n",
      "115372             0             0             0             0   \n",
      "98591              0             0             0             0   \n",
      "\n",
      "        manufacturer_id__45  manufacturer_id__48  manufacturer_id__49  \\\n",
      "17797                     0                    0                    0   \n",
      "4403                      0                    1                    0   \n",
      "190714                    1                    0                    0   \n",
      "115372                    1                    0                    0   \n",
      "98591                     0                    0                    0   \n",
      "\n",
      "        manufacturer_id__51  manufacturer_id__67  manufacturer_id__86  \\\n",
      "17797                     0                    0                    1   \n",
      "4403                      0                    0                    0   \n",
      "190714                    0                    0                    0   \n",
      "115372                    0                    0                    0   \n",
      "98591                     0                    0                    1   \n",
      "\n",
      "        manufacturer_id__120  manufacturer_id__145  manufacturer_id__152  \\\n",
      "17797                      0                     0                     0   \n",
      "4403                       0                     0                     0   \n",
      "190714                     0                     0                     0   \n",
      "115372                     0                     0                     0   \n",
      "98591                      0                     0                     0   \n",
      "\n",
      "        manufacturer_id__153  manufacturer_id__156  \n",
      "17797                      0                     0  \n",
      "4403                       0                     0  \n",
      "190714                     0                     0  \n",
      "115372                     0                     0  \n",
      "98591                      0                     0  "
     ]
    }
   ],
   "source": [
    "trndict = describe_data_g_targ(trndat, targ_var)\n",
    "trndat.head()"
   ]
  },
  {
   "cell_type": "code",
   "execution_count": 63,
   "id": "602c613c",
   "metadata": {},
   "outputs": [
    {
     "data": {
      "text/html": [
       "\n",
       "                    Syncing run <strong><a href=\"http://localhost:8080/den/credit_scorecard/runs/dit825yu\" target=\"_blank\">worthy-totem-11</a></strong> to <a href=\"http://localhost:8080/den/credit_scorecard\" target=\"_blank\">Weights & Biases</a> (<a href=\"https://docs.wandb.com/integrations/jupyter.html\" target=\"_blank\">docs</a>).<br/>\n",
       "\n",
       "                "
      ],
      "text/plain": [
       "<IPython.core.display.HTML object>"
      ]
     },
     "metadata": {},
     "output_type": "display_data"
    }
   ],
   "source": [
    "# Create a wandb run, with an optional \"log-dataset\" job type to keep things tidy\n",
    "run = wandb.init(entity=ENTITY, project='credit_scorecard', job_type='log-dataset', config={'wandb_nb':'wandb_credit_soc'})  # config is optional here\n",
    "\n",
    "# Create a W&B Table and log 1000 random rows of the dataset to explore\n",
    "table = wandb.Table(dataframe=trndat.sample(1000))\n",
    "\n",
    "# Log the Table to your W&B workspace\n",
    "wandb.log({'processed_dataset': table})\n",
    "\n",
    "# Close the wandb run\n",
    "wandb.finish()"
   ]
  }
 ],
 "metadata": {
  "kernelspec": {
   "display_name": "Python 3",
   "language": "python",
   "name": "python3"
  },
  "language_info": {
   "codemirror_mode": {
    "name": "ipython",
    "version": 3
   },
   "file_extension": ".py",
   "mimetype": "text/x-python",
   "name": "python",
   "nbconvert_exporter": "python",
   "pygments_lexer": "ipython3",
   "version": "3.9.9"
  }
 },
 "nbformat": 4,
 "nbformat_minor": 5
}
