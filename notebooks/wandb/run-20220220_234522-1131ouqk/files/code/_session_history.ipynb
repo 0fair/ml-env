{
 "cells": [
  {
   "cell_type": "code",
   "execution_count": 1,
   "id": "38646442",
   "metadata": {},
   "outputs": [],
   "source": [
    "!export AWS_S3_ENDPOINT_URL=http://localhost:8000\n",
    "!export AWS_ACCESS_KEY_ID=DevAccessKey\n",
    "!export AWS_SECRET_ACCESS_KEY=DevSecretKey"
   ]
  },
  {
   "cell_type": "code",
   "execution_count": 2,
   "id": "8a5f419c",
   "metadata": {},
   "outputs": [],
   "source": [
    "import wandb\n",
    "wandb.login(key='local-8c4310dcf3cb371cac7343a466e09de6b04e4282', host='http://localhost:8080')\n",
    "ENTITY = None"
   ]
  },
  {
   "cell_type": "code",
   "execution_count": 3,
   "id": "625f9949",
   "metadata": {},
   "outputs": [],
   "source": [
    "import ast\n",
    "import sys\n",
    "import json\n",
    "import boto3\n",
    "from pathlib import Path\n",
    "from dill.source import getsource\n",
    "from dill import detect\n",
    "\n",
    "import pandas as pd\n",
    "import numpy as np\n",
    "import plotly\n",
    "import matplotlib.pyplot as plt\n",
    "\n",
    "from scipy.stats import ks_2samp\n",
    "from sklearn import metrics\n",
    "from sklearn import model_selection\n",
    "import xgboost as xgb\n",
    "\n",
    "pd.set_option('display.max_columns', None)"
   ]
  },
  {
   "cell_type": "code",
   "execution_count": 4,
   "id": "c779454a",
   "metadata": {},
   "outputs": [],
   "source": [
    "data_dir = Path('../data/')\n",
    "model_dir = Path('../models')\n",
    "model_dir.mkdir(exist_ok=True)\n",
    "\n",
    "id_vars = ['UniqueID']\n",
    "targ_var = 'loan_default'"
   ]
  },
  {
   "cell_type": "code",
   "execution_count": 5,
   "id": "9610696a",
   "metadata": {},
   "outputs": [],
   "source": [
    "def function_to_string(fn):\n",
    "    return getsource(detect.code(fn))"
   ]
  },
  {
   "cell_type": "code",
   "execution_count": 6,
   "id": "a4358328",
   "metadata": {},
   "outputs": [],
   "source": [
    "run = wandb.init(entity=ENTITY, name=\"score1\", project='credit_scorecard', job_type='preprocess-data', config={'wandb_nb':'wandb_credit_soc'})  # config is optional here"
   ]
  },
  {
   "cell_type": "code",
   "execution_count": 7,
   "id": "0dd0f323",
   "metadata": {},
   "outputs": [],
   "source": [
    "from src.data_utils import (\n",
    "    describe_data_g_targ,\n",
    "    one_hot_encode_data,\n",
    "    create_feature_interaction_constraints,\n",
    "    get_monotonic_constraints,\n",
    "    load_training_data,\n",
    "    calculate_credit_scores\n",
    ")\n",
    "\n",
    "from src.scorecard import generate_scorecard"
   ]
  },
  {
   "cell_type": "code",
   "execution_count": 8,
   "id": "214516a1",
   "metadata": {},
   "outputs": [
    {
     "name": "stdout",
     "output_type": "stream",
     "text": [
      "   UniqueID    LTV  manufacturer_id Employment_Type  State_ID  \\\n",
      "0    417428  88.17               86   Self employed         4   \n",
      "1    417429  83.78               86        Salaried         8   \n",
      "2    417430  77.39               86   Self employed         6   \n",
      "3    417431  72.14               86   Self employed         3   \n",
      "4    417432  85.92               86   Self employed         6   \n",
      "\n",
      "   PERFORM_CNS_SCORE  AgeInMonths  DaysSinceDisbursement  loan_default  \n",
      "0              681.0        638.0                  153.0             0  \n",
      "1              384.0        478.0                  153.0             0  \n",
      "2                NaN        441.0                  153.0             0  \n",
      "3                NaN        384.0                  153.0             0  \n",
      "4              721.0        343.0                  153.0             0  "
     ]
    }
   ],
   "source": [
    "dataset = pd.read_csv(data_dir/'vehicle_loans_subset.csv')\n",
    "dataset.head()"
   ]
  },
  {
   "cell_type": "code",
   "execution_count": 9,
   "id": "842cbd78",
   "metadata": {},
   "outputs": [],
   "source": [
    "dataset, p_vars = one_hot_encode_data(dataset, id_vars, targ_var)"
   ]
  },
  {
   "cell_type": "code",
   "execution_count": 10,
   "id": "3b81ad4d",
   "metadata": {},
   "outputs": [],
   "source": [
    "processed_data_path = data_dir/'proc_ds.csv'\n",
    "dataset.to_csv(processed_data_path, index=False)"
   ]
  },
  {
   "cell_type": "code",
   "execution_count": 11,
   "id": "3b18377c",
   "metadata": {},
   "outputs": [],
   "source": [
    "processed_ds_art = wandb.Artifact(name='vehicle_defaults_processed',\n",
    "                                  type='processed_dataset',\n",
    "                                  description='One-hot encoded dataset',\n",
    "                                  metadata={'preprocessing_fn': function_to_string(one_hot_encode_data)}\n",
    "                                  )\n",
    "processed_ds_art.add_reference('s3://creditscore/datasets/process')"
   ]
  },
  {
   "cell_type": "code",
   "execution_count": 12,
   "id": "49d60f85",
   "metadata": {},
   "outputs": [],
   "source": [
    "import ast\n",
    "import sys\n",
    "import os\n",
    "import json\n",
    "import boto3\n",
    "from pathlib import Path\n",
    "from dill.source import getsource\n",
    "from dill import detect\n",
    "\n",
    "import pandas as pd\n",
    "import numpy as np\n",
    "import plotly\n",
    "import matplotlib.pyplot as plt\n",
    "\n",
    "from scipy.stats import ks_2samp\n",
    "from sklearn import metrics\n",
    "from sklearn import model_selection\n",
    "import xgboost as xgb\n",
    "\n",
    "pd.set_option('display.max_columns', None)"
   ]
  },
  {
   "cell_type": "code",
   "execution_count": 13,
   "id": "222053fb",
   "metadata": {},
   "outputs": [],
   "source": [
    "import ast\n",
    "import sys\n",
    "import os\n",
    "import json\n",
    "import boto3\n",
    "from pathlib import Path\n",
    "from dill.source import getsource\n",
    "from dill import detect\n",
    "\n",
    "import pandas as pd\n",
    "import numpy as np\n",
    "import plotly\n",
    "import matplotlib.pyplot as plt\n",
    "\n",
    "from scipy.stats import ks_2samp\n",
    "from sklearn import metrics\n",
    "from sklearn import model_selection\n",
    "import xgboost as xgb\n",
    "\n",
    "pd.set_option('display.max_columns', None)"
   ]
  },
  {
   "cell_type": "code",
   "execution_count": 14,
   "id": "29562a10",
   "metadata": {},
   "outputs": [],
   "source": [
    "os.environ[\"AWS_S3_ENDPOINT_URL\"] = \"http://localhost:8000\"\n",
    "os.environ[\"AWS_ACCESS_KEY_ID\"] = \"DevAccessKey\"\n",
    "os.environ[\"AWS_SECRET_ACCESS_KEY\"] = \"DevSecretKey\""
   ]
  },
  {
   "cell_type": "code",
   "execution_count": 15,
   "id": "6277a33b",
   "metadata": {},
   "outputs": [
    {
     "name": "stdout",
     "output_type": "stream",
     "text": [
      "[]"
     ]
    }
   ],
   "source": [
    "processed_ds_art = wandb.Artifact(name='vehicle_defaults_processed',\n",
    "                                  type='processed_dataset',\n",
    "                                  description='One-hot encoded dataset',\n",
    "                                  metadata={'preprocessing_fn': function_to_string(one_hot_encode_data)}\n",
    "                                  )\n",
    "processed_ds_art.add_reference('s3://creditscore/datasets/process')"
   ]
  },
  {
   "cell_type": "code",
   "execution_count": 16,
   "id": "92775695",
   "metadata": {},
   "outputs": [
    {
     "name": "stdout",
     "output_type": "stream",
     "text": [
      "<ManifestEntry digest: cslJubeoq5UrWhqw3sBeqw==>"
     ]
    }
   ],
   "source": [
    "# Attach our processed data to the Artifact\n",
    "processed_ds_art.add_file(processed_data_path)"
   ]
  },
  {
   "cell_type": "code",
   "execution_count": 17,
   "id": "83baea8b",
   "metadata": {},
   "outputs": [],
   "source": [
    "run.log_artifact(processed_ds_art)\n",
    "run.finish()"
   ]
  },
  {
   "cell_type": "code",
   "execution_count": 18,
   "id": "95d35778",
   "metadata": {},
   "outputs": [
    {
     "name": "stdout",
     "output_type": "stream",
     "text": [
      "[]"
     ]
    }
   ],
   "source": [
    "processed_ds_art = wandb.Artifact(name='vehicle_defaults_processed',\n",
    "                                  type='processed_dataset',\n",
    "                                  description='One-hot encoded dataset',\n",
    "                                  metadata={'preprocessing_fn': function_to_string(one_hot_encode_data)}\n",
    "                                  )\n",
    "processed_ds_art.add_reference('s3://creditscore/datasets/vehicle_defaults_processed')"
   ]
  },
  {
   "cell_type": "code",
   "execution_count": 19,
   "id": "e638cf85",
   "metadata": {},
   "outputs": [
    {
     "name": "stdout",
     "output_type": "stream",
     "text": [
      "<ManifestEntry digest: cslJubeoq5UrWhqw3sBeqw==>"
     ]
    }
   ],
   "source": [
    "# Attach our processed data to the Artifact\n",
    "processed_ds_art.add_file(processed_data_path)"
   ]
  },
  {
   "cell_type": "code",
   "execution_count": 20,
   "id": "fd76301f",
   "metadata": {},
   "outputs": [],
   "source": [
    "run.log_artifact(processed_ds_art)\n",
    "run.finish()"
   ]
  },
  {
   "cell_type": "code",
   "execution_count": 21,
   "id": "262496c1",
   "metadata": {},
   "outputs": [],
   "source": [
    "run = wandb.init(entity=ENTITY, name=\"score1\", project='credit_scorecard', job_type='preprocess-data', config={'wandb_nb':'wandb_credit_soc'})  # config is optional here"
   ]
  },
  {
   "cell_type": "code",
   "execution_count": 22,
   "id": "398136a3",
   "metadata": {},
   "outputs": [],
   "source": [
    "from src.data_utils import (\n",
    "    describe_data_g_targ,\n",
    "    one_hot_encode_data,\n",
    "    create_feature_interaction_constraints,\n",
    "    get_monotonic_constraints,\n",
    "    load_training_data,\n",
    "    calculate_credit_scores\n",
    ")\n",
    "\n",
    "from src.scorecard import generate_scorecard"
   ]
  },
  {
   "cell_type": "code",
   "execution_count": 23,
   "id": "481ac23d",
   "metadata": {},
   "outputs": [
    {
     "name": "stdout",
     "output_type": "stream",
     "text": [
      "   UniqueID    LTV  manufacturer_id Employment_Type  State_ID  \\\n",
      "0    417428  88.17               86   Self employed         4   \n",
      "1    417429  83.78               86        Salaried         8   \n",
      "2    417430  77.39               86   Self employed         6   \n",
      "3    417431  72.14               86   Self employed         3   \n",
      "4    417432  85.92               86   Self employed         6   \n",
      "\n",
      "   PERFORM_CNS_SCORE  AgeInMonths  DaysSinceDisbursement  loan_default  \n",
      "0              681.0        638.0                  153.0             0  \n",
      "1              384.0        478.0                  153.0             0  \n",
      "2                NaN        441.0                  153.0             0  \n",
      "3                NaN        384.0                  153.0             0  \n",
      "4              721.0        343.0                  153.0             0  "
     ]
    }
   ],
   "source": [
    "dataset = pd.read_csv(data_dir/'vehicle_loans_subset.csv')\n",
    "dataset.head()"
   ]
  },
  {
   "cell_type": "code",
   "execution_count": 24,
   "id": "b4d70b02",
   "metadata": {},
   "outputs": [],
   "source": [
    "dataset, p_vars = one_hot_encode_data(dataset, id_vars, targ_var)"
   ]
  },
  {
   "cell_type": "code",
   "execution_count": 25,
   "id": "4284a392",
   "metadata": {},
   "outputs": [],
   "source": [
    "processed_data_path = data_dir/'proc_ds.csv'\n",
    "dataset.to_csv(processed_data_path, index=False)"
   ]
  },
  {
   "cell_type": "code",
   "execution_count": 26,
   "id": "86c765fa",
   "metadata": {},
   "outputs": [
    {
     "name": "stdout",
     "output_type": "stream",
     "text": [
      "[]"
     ]
    }
   ],
   "source": [
    "processed_ds_art = wandb.Artifact(name='vehicle_defaults_processed',\n",
    "                                  type='processed_dataset',\n",
    "                                  description='One-hot encoded dataset',\n",
    "                                  metadata={'preprocessing_fn': function_to_string(one_hot_encode_data)}\n",
    "                                  )\n",
    "processed_ds_art.add_reference('s3://creditscore/datasets/vehicle_defaults_processed')"
   ]
  },
  {
   "cell_type": "code",
   "execution_count": 27,
   "id": "a0d24598",
   "metadata": {},
   "outputs": [
    {
     "name": "stdout",
     "output_type": "stream",
     "text": [
      "<ManifestEntry digest: cslJubeoq5UrWhqw3sBeqw==>"
     ]
    }
   ],
   "source": [
    "# Attach our processed data to the Artifact\n",
    "processed_ds_art.add_file(processed_data_path)"
   ]
  },
  {
   "cell_type": "code",
   "execution_count": 28,
   "id": "c6da8126",
   "metadata": {},
   "outputs": [],
   "source": [
    "run.log_artifact(processed_ds_art)\n",
    "run.finish()"
   ]
  },
  {
   "cell_type": "code",
   "execution_count": 29,
   "id": "778d632e",
   "metadata": {},
   "outputs": [],
   "source": [
    "run = wandb.init(entity=ENTITY, name=\"score2\", project='credit_scorecard', job_type='preprocess-data', config={'wandb_nb':'wandb_credit_soc'})  # config is optional here"
   ]
  },
  {
   "cell_type": "code",
   "execution_count": 30,
   "id": "608855f5",
   "metadata": {},
   "outputs": [],
   "source": [
    "from src.data_utils import (\n",
    "    describe_data_g_targ,\n",
    "    one_hot_encode_data,\n",
    "    create_feature_interaction_constraints,\n",
    "    get_monotonic_constraints,\n",
    "    load_training_data,\n",
    "    calculate_credit_scores\n",
    ")\n",
    "\n",
    "from src.scorecard import generate_scorecard"
   ]
  },
  {
   "cell_type": "code",
   "execution_count": 31,
   "id": "e890e7fa",
   "metadata": {},
   "outputs": [
    {
     "name": "stdout",
     "output_type": "stream",
     "text": [
      "   UniqueID    LTV  manufacturer_id Employment_Type  State_ID  \\\n",
      "0    417428  88.17               86   Self employed         4   \n",
      "1    417429  83.78               86        Salaried         8   \n",
      "2    417430  77.39               86   Self employed         6   \n",
      "3    417431  72.14               86   Self employed         3   \n",
      "4    417432  85.92               86   Self employed         6   \n",
      "\n",
      "   PERFORM_CNS_SCORE  AgeInMonths  DaysSinceDisbursement  loan_default  \n",
      "0              681.0        638.0                  153.0             0  \n",
      "1              384.0        478.0                  153.0             0  \n",
      "2                NaN        441.0                  153.0             0  \n",
      "3                NaN        384.0                  153.0             0  \n",
      "4              721.0        343.0                  153.0             0  "
     ]
    }
   ],
   "source": [
    "dataset = pd.read_csv(data_dir/'vehicle_loans_subset.csv')\n",
    "dataset.head()"
   ]
  },
  {
   "cell_type": "code",
   "execution_count": 32,
   "id": "a87b9664",
   "metadata": {},
   "outputs": [],
   "source": [
    "dataset, p_vars = one_hot_encode_data(dataset, id_vars, targ_var)"
   ]
  },
  {
   "cell_type": "code",
   "execution_count": 33,
   "id": "a037352c",
   "metadata": {},
   "outputs": [],
   "source": [
    "processed_data_path = data_dir/'proc_ds.csv'\n",
    "dataset.to_csv(processed_data_path, index=False)"
   ]
  },
  {
   "cell_type": "code",
   "execution_count": 34,
   "id": "de38ec29",
   "metadata": {},
   "outputs": [],
   "source": [
    "s3_client = boto3.client('s3')\n",
    "s3_client.upload_file('proc_ds.csv', 'creditscore', 'datasets/vehicle_defaults_processed')\n",
    "\n",
    "processed_ds_art = wandb.Artifact(name='vehicle_defaults_processed',\n",
    "                                  type='processed_dataset',\n",
    "                                  description='One-hot encoded dataset',\n",
    "                                  metadata={'preprocessing_fn': function_to_string(one_hot_encode_data)}\n",
    "                                  )\n",
    "processed_ds_art.add_reference('s3://creditscore/datasets/vehicle_defaults_processed')"
   ]
  },
  {
   "cell_type": "code",
   "execution_count": 35,
   "id": "8200a66b",
   "metadata": {},
   "outputs": [],
   "source": [
    "s3_client = boto3.client('s3')\n",
    "s3_client.upload_file(data_dir/'proc_ds.csv', 'creditscore', 'datasets/vehicle_defaults_processed')\n",
    "\n",
    "processed_ds_art = wandb.Artifact(name='vehicle_defaults_processed',\n",
    "                                  type='processed_dataset',\n",
    "                                  description='One-hot encoded dataset',\n",
    "                                  metadata={'preprocessing_fn': function_to_string(one_hot_encode_data)}\n",
    "                                  )\n",
    "processed_ds_art.add_reference('s3://creditscore/datasets/vehicle_defaults_processed')"
   ]
  },
  {
   "cell_type": "code",
   "execution_count": 36,
   "id": "6e7a3430",
   "metadata": {},
   "outputs": [],
   "source": [
    "s3_client = boto3.client('s3')\n",
    "s3_client.upload_file(data_dir/'proc_ds.csv', 'creditscore', 'datasets/vehicle_defaults_processed')\n",
    "\n",
    "processed_ds_art = wandb.Artifact(name='vehicle_defaults_processed',\n",
    "                                  type='processed_dataset',\n",
    "                                  description='One-hot encoded dataset',\n",
    "                                  metadata={'preprocessing_fn': function_to_string(one_hot_encode_data)}\n",
    "                                  )\n",
    "processed_ds_art.add_reference('s3://creditscore/datasets/vehicle_defaults_processed')"
   ]
  },
  {
   "cell_type": "code",
   "execution_count": 37,
   "id": "223e7501",
   "metadata": {},
   "outputs": [],
   "source": [
    "s3_client = boto3.client('s3')"
   ]
  },
  {
   "cell_type": "code",
   "execution_count": 38,
   "id": "fc2ad9c8",
   "metadata": {},
   "outputs": [],
   "source": [
    "s3_client.upload_file(data_dir/'proc_ds.csv', 'creditscore', 'datasets/vehicle_defaults_processed')\n",
    "\n",
    "processed_ds_art = wandb.Artifact(name='vehicle_defaults_processed',\n",
    "                                  type='processed_dataset',\n",
    "                                  description='One-hot encoded dataset',\n",
    "                                  metadata={'preprocessing_fn': function_to_string(one_hot_encode_data)}\n",
    "                                  )\n",
    "processed_ds_art.add_reference('s3://creditscore/datasets/vehicle_defaults_processed')"
   ]
  },
  {
   "cell_type": "code",
   "execution_count": 39,
   "id": "7423096d",
   "metadata": {},
   "outputs": [],
   "source": [
    "s3_client.upload_file(data_dir + '/proc_ds.csv', 'creditscore', 'datasets/vehicle_defaults_processed')\n",
    "\n",
    "processed_ds_art = wandb.Artifact(name='vehicle_defaults_processed',\n",
    "                                  type='processed_dataset',\n",
    "                                  description='One-hot encoded dataset',\n",
    "                                  metadata={'preprocessing_fn': function_to_string(one_hot_encode_data)}\n",
    "                                  )\n",
    "processed_ds_art.add_reference('s3://creditscore/datasets/vehicle_defaults_processed')"
   ]
  },
  {
   "cell_type": "code",
   "execution_count": 40,
   "id": "a748748c",
   "metadata": {},
   "outputs": [],
   "source": [
    "s3_client.upload_file((data_dir/'proc_ds.csv'.__str__()), 'creditscore', 'datasets/vehicle_defaults_processed')\n",
    "\n",
    "processed_ds_art = wandb.Artifact(name='vehicle_defaults_processed',\n",
    "                                  type='processed_dataset',\n",
    "                                  description='One-hot encoded dataset',\n",
    "                                  metadata={'preprocessing_fn': function_to_string(one_hot_encode_data)}\n",
    "                                  )\n",
    "processed_ds_art.add_reference('s3://creditscore/datasets/vehicle_defaults_processed')"
   ]
  },
  {
   "cell_type": "code",
   "execution_count": 41,
   "id": "e7e1a24c",
   "metadata": {},
   "outputs": [],
   "source": [
    "s3_client.upload_file((data_dir/'proc_ds.csv').__str__()), 'creditscore', 'datasets/vehicle_defaults_processed')\n",
    "\n",
    "processed_ds_art = wandb.Artifact(name='vehicle_defaults_processed',\n",
    "                                  type='processed_dataset',\n",
    "                                  description='One-hot encoded dataset',\n",
    "                                  metadata={'preprocessing_fn': function_to_string(one_hot_encode_data)}\n",
    "                                  )\n",
    "processed_ds_art.add_reference('s3://creditscore/datasets/vehicle_defaults_processed')"
   ]
  },
  {
   "cell_type": "code",
   "execution_count": 42,
   "id": "7bc00704",
   "metadata": {},
   "outputs": [],
   "source": [
    "s3_client.upload_file((data_dir/'proc_ds.csv').__str__(), 'creditscore', 'datasets/vehicle_defaults_processed')\n",
    "\n",
    "processed_ds_art = wandb.Artifact(name='vehicle_defaults_processed',\n",
    "                                  type='processed_dataset',\n",
    "                                  description='One-hot encoded dataset',\n",
    "                                  metadata={'preprocessing_fn': function_to_string(one_hot_encode_data)}\n",
    "                                  )\n",
    "processed_ds_art.add_reference('s3://creditscore/datasets/vehicle_defaults_processed')"
   ]
  },
  {
   "cell_type": "code",
   "execution_count": 43,
   "id": "6f1605af",
   "metadata": {},
   "outputs": [],
   "source": [
    "os.environ[\"AWS_S3_ENDPOINT_URL\"] = \"http://localhost:8000\"\n",
    "os.environ[\"AWS_ACCESS_KEY_ID\"] = \"DevAccessKey\"\n",
    "os.environ[\"AWS_SECRET_ACCESS_KEY\"] = \"DevSecretKey\""
   ]
  },
  {
   "cell_type": "code",
   "execution_count": 44,
   "id": "43d9ddc6",
   "metadata": {},
   "outputs": [],
   "source": [
    "s3_client.upload_file((data_dir/'proc_ds.csv').__str__(), 'creditscore', 'datasets/vehicle_defaults_processed')\n",
    "\n",
    "processed_ds_art = wandb.Artifact(name='vehicle_defaults_processed',\n",
    "                                  type='processed_dataset',\n",
    "                                  description='One-hot encoded dataset',\n",
    "                                  metadata={'preprocessing_fn': function_to_string(one_hot_encode_data)}\n",
    "                                  )\n",
    "processed_ds_art.add_reference('s3://creditscore/datasets/vehicle_defaults_processed')"
   ]
  },
  {
   "cell_type": "code",
   "execution_count": 45,
   "id": "47a632fc",
   "metadata": {},
   "outputs": [],
   "source": [
    "s3_client.upload_file((data_dir/'proc_ds.csv').__str__(), 'creditscore', 'datasets/vehicle_defaults_processed')"
   ]
  },
  {
   "cell_type": "code",
   "execution_count": 46,
   "id": "c4e1a7a1",
   "metadata": {},
   "outputs": [],
   "source": [
    "s3_client.upload_file((data_dir/'proc_ds.csv').__str__(), 'creditscore', 'datasets/vehicle_defaults_processed')"
   ]
  },
  {
   "cell_type": "code",
   "execution_count": 47,
   "id": "d646777b",
   "metadata": {},
   "outputs": [],
   "source": [
    "os.environ[\"AWS_S3_ENDPOINT_URL\"] = \"http://localhost:8000\"\n",
    "os.environ[\"AWS_ACCESS_KEY_ID\"] = \"DevAccessKeym\"\n",
    "os.environ[\"AWS_SECRET_ACCESS_KEY\"] = \"DevSecretKey\""
   ]
  },
  {
   "cell_type": "code",
   "execution_count": 48,
   "id": "7f4dfa5d",
   "metadata": {},
   "outputs": [],
   "source": [
    "s3_client.upload_file((data_dir/'proc_ds.csv').__str__(), 'creditscore', 'datasets/vehicle_defaults_processed')"
   ]
  },
  {
   "cell_type": "code",
   "execution_count": 49,
   "id": "632ed4a4",
   "metadata": {},
   "outputs": [],
   "source": [
    "s3_client = boto3.client('s3', endpoint_url=\"http://localhost:8000\",\n",
    "                         aws_access_key_id=\"DevAccessKey\", aws_secret_access_key=\"DevSecretKey\")"
   ]
  },
  {
   "cell_type": "code",
   "execution_count": 50,
   "id": "fd092b9e",
   "metadata": {},
   "outputs": [],
   "source": [
    "s3_client.upload_file((data_dir/'proc_ds.csv').__str__(), 'creditscore', 'datasets/vehicle_defaults_processed')"
   ]
  },
  {
   "cell_type": "code",
   "execution_count": 51,
   "id": "09fd45b5",
   "metadata": {},
   "outputs": [],
   "source": [
    "\n",
    "processed_ds_art = wandb.Artifact(name='vehicle_defaults_processed',\n",
    "                                  type='processed_dataset',\n",
    "                                  description='One-hot encoded dataset',\n",
    "                                  metadata={'preprocessing_fn': function_to_string(one_hot_encode_data)}\n",
    "                                  )\n",
    "processed_ds_art.add_reference('s3://creditscore/datasets/vehicle_defaults_processed')"
   ]
  },
  {
   "cell_type": "code",
   "execution_count": 52,
   "id": "659c0c51",
   "metadata": {},
   "outputs": [],
   "source": [
    "s3_client.upload_file((data_dir/'proc_ds.csv').__str__(), 'creditscore', 'datasets/vehicle_defaults_processed1')"
   ]
  },
  {
   "cell_type": "code",
   "execution_count": 53,
   "id": "e5cf7534",
   "metadata": {},
   "outputs": [],
   "source": [
    "\n",
    "processed_ds_art = wandb.Artifact(name='vehicle_defaults_processed',\n",
    "                                  type='processed_dataset',\n",
    "                                  description='One-hot encoded dataset',\n",
    "                                  metadata={'preprocessing_fn': function_to_string(one_hot_encode_data)}\n",
    "                                  )\n",
    "processed_ds_art.add_reference('s3://creditscore/datasets/vehicle_defaults_processed')"
   ]
  },
  {
   "cell_type": "code",
   "execution_count": 54,
   "id": "33ba6b80",
   "metadata": {},
   "outputs": [],
   "source": [
    "os.environ[\"AWS_S3_ENDPOINT_URL\"] = \"http://localhost:8000\"\n",
    "os.environ[\"AWS_ACCESS_KEY_ID\"] = \"DevAccessKey\"\n",
    "os.environ[\"AWS_SECRET_ACCESS_KEY\"] = \"DevSecretKey\""
   ]
  },
  {
   "cell_type": "code",
   "execution_count": 55,
   "id": "3eefbb48",
   "metadata": {},
   "outputs": [
    {
     "name": "stdout",
     "output_type": "stream",
     "text": [
      "[<ManifestEntry ref: s3://creditscore/datasets/vehicle_defaults_processed/vehicle_defaults_processed>]"
     ]
    }
   ],
   "source": [
    "\n",
    "processed_ds_art = wandb.Artifact(name='vehicle_defaults_processed',\n",
    "                                  type='processed_dataset',\n",
    "                                  description='One-hot encoded dataset',\n",
    "                                  metadata={'preprocessing_fn': function_to_string(one_hot_encode_data)}\n",
    "                                  )\n",
    "processed_ds_art.add_reference('s3://creditscore/datasets/vehicle_defaults_processed')"
   ]
  },
  {
   "cell_type": "code",
   "execution_count": 56,
   "id": "43055583",
   "metadata": {},
   "outputs": [
    {
     "name": "stdout",
     "output_type": "stream",
     "text": [
      "<ManifestEntry digest: cslJubeoq5UrWhqw3sBeqw==>"
     ]
    }
   ],
   "source": [
    "# Attach our processed data to the Artifact\n",
    "processed_ds_art.add_file(processed_data_path)"
   ]
  },
  {
   "cell_type": "code",
   "execution_count": 57,
   "id": "de5fdbb2",
   "metadata": {},
   "outputs": [],
   "source": [
    "run.log_artifact(processed_ds_art)\n",
    "run.finish()"
   ]
  },
  {
   "cell_type": "code",
   "execution_count": 58,
   "id": "2412bf47",
   "metadata": {},
   "outputs": [],
   "source": [
    "with wandb.init(entity=ENTITY, name=\"model1\", project='credit_scorecard', job_type='train-val-split', config={'wandb_nb':'wandb_credit_soc'}) as run:     # config is optional here\n",
    "\n",
    "    # Download the subset of the vehicle loan default data from W&B\n",
    "    dataset_art = run.use_artifact('vehicle_defaults_processed:latest', type='processed_dataset')\n",
    "    dataset_dir = dataset_art.download(data_dir)\n",
    "    dataset = pd.read_csv(processed_data_path)\n",
    "\n",
    "    # Set Split Params\n",
    "    test_size = 0.25\n",
    "    random_state = 42\n",
    "\n",
    "    # Log the splilt params\n",
    "    run.config.update({'test_size':test_size, 'random_state': random_state})\n",
    "\n",
    "    # Do the Train/Val Split\n",
    "    trndat, valdat = model_selection.train_test_split(dataset, test_size=test_size,\n",
    "                                                      random_state=random_state, stratify=dataset[[targ_var]])\n",
    "\n",
    "    print(f'Train dataset size: {trndat[targ_var].value_counts()} \\n')\n",
    "    print(f'Validation dataset sizeL {valdat[targ_var].value_counts()}')\n",
    "\n",
    "    # Save split datasets\n",
    "    train_path = data_dir/'train.csv'\n",
    "    val_path = data_dir/'val.csv'\n",
    "    trndat.to_csv(train_path, index=False)\n",
    "    valdat.to_csv(val_path, index=False)\n",
    "\n",
    "\n",
    "    # Create a new artifact for the processed data, including the function that created it, to Artifacts\n",
    "    split_ds_art = wandb.Artifact(name='vehicle_defaults_split',\n",
    "                                  type='train-val-dataset',\n",
    "                                  description='Processed dataset split into train and valiation',\n",
    "                                  metadata={'test_size': test_size, 'random_state': random_state}\n",
    "                                  )\n",
    "    split_ds_art.add_reference('s3://creditscore/artefacts')\n",
    "\n",
    "    # Attach our processed data to the Artifact\n",
    "    split_ds_art.add_file(train_path)\n",
    "    split_ds_art.add_file(val_path)\n",
    "\n",
    "    # Log the Artifact\n",
    "    run.log_artifact(split_ds_art)"
   ]
  },
  {
   "cell_type": "code",
   "execution_count": 59,
   "id": "8cb365ac",
   "metadata": {},
   "outputs": [],
   "source": [
    "with wandb.init(entity=ENTITY, name=\"split2\", project='credit_scorecard', job_type='train-val-split', config={'wandb_nb':'wandb_credit_soc'}) as run:     # config is optional here\n",
    "\n",
    "    # Download the subset of the vehicle loan default data from W&B\n",
    "    dataset_art = run.use_artifact('vehicle_defaults_processed:latest', type='processed_dataset')\n",
    "    dataset_dir = dataset_art.download(data_dir)\n",
    "    dataset = pd.read_csv(processed_data_path)\n",
    "\n",
    "    # Set Split Params\n",
    "    test_size = 0.25\n",
    "    random_state = 42\n",
    "\n",
    "    # Log the splilt params\n",
    "    run.config.update({'test_size':test_size, 'random_state': random_state})\n",
    "\n",
    "    # Do the Train/Val Split\n",
    "    trndat, valdat = model_selection.train_test_split(dataset, test_size=test_size,\n",
    "                                                      random_state=random_state, stratify=dataset[[targ_var]])\n",
    "\n",
    "    print(f'Train dataset size: {trndat[targ_var].value_counts()} \\n')\n",
    "    print(f'Validation dataset sizeL {valdat[targ_var].value_counts()}')\n",
    "\n",
    "    # Save split datasets\n",
    "    train_path = data_dir/'train.csv'\n",
    "    val_path = data_dir/'val.csv'\n",
    "    trndat.to_csv(train_path, index=False)\n",
    "    valdat.to_csv(val_path, index=False)\n",
    "\n",
    "    s3_client.upload_file(train_path.__str__(), 'creditscore', 'artifacts/train.csv')\n",
    "    s3_client.upload_file(val_path.__str__(), 'creditscore', 'artifacts/val.csv')\n",
    "\n",
    "    # Create a new artifact for the processed data, including the function that created it, to Artifacts\n",
    "    split_ds_art = wandb.Artifact(name='vehicle_defaults_split',\n",
    "                                  type='train-val-dataset',\n",
    "                                  description='Processed dataset split into train and valiation',\n",
    "                                  metadata={'test_size': test_size, 'random_state': random_state}\n",
    "                                  )\n",
    "    split_ds_art.add_reference('s3://creditscore/artifacts')\n",
    "\n",
    "    # Attach our processed data to the Artifact\n",
    "    # split_ds_art.add_file('train.csv')\n",
    "    # split_ds_art.add_file('val.csv')\n",
    "\n",
    "    # Log the Artifact\n",
    "    run.log_artifact(split_ds_art)"
   ]
  },
  {
   "cell_type": "code",
   "execution_count": 60,
   "id": "4dea520c",
   "metadata": {},
   "outputs": [
    {
     "data": {
      "text/html": [
       "\n",
       "                    Syncing run <strong><a href=\"http://localhost:8080/den/credit_scorecard/runs/1131ouqk\" target=\"_blank\">split3</a></strong> to <a href=\"http://localhost:8080/den/credit_scorecard\" target=\"_blank\">Weights & Biases</a> (<a href=\"https://docs.wandb.com/integrations/jupyter.html\" target=\"_blank\">docs</a>).<br/>\n",
       "\n",
       "                "
      ],
      "text/plain": [
       "<IPython.core.display.HTML object>"
      ]
     },
     "metadata": {},
     "output_type": "display_data"
    }
   ],
   "source": [
    "with wandb.init(entity=ENTITY, name=\"split3\", project='credit_scorecard', job_type='train-val-split', config={'wandb_nb':'wandb_credit_soc'}) as run:     # config is optional here\n",
    "\n",
    "    # Download the subset of the vehicle loan default data from W&B\n",
    "    dataset_art = run.use_artifact('vehicle_defaults_processed:latest', type='processed_dataset')\n",
    "    dataset_dir = dataset_art.download(data_dir)\n",
    "    dataset = pd.read_csv(processed_data_path)\n",
    "\n",
    "    # Set Split Params\n",
    "    test_size = 0.25\n",
    "    random_state = 42\n",
    "\n",
    "    # Log the splilt params\n",
    "    run.config.update({'test_size':test_size, 'random_state': random_state})\n",
    "\n",
    "    # Do the Train/Val Split\n",
    "    trndat, valdat = model_selection.train_test_split(dataset, test_size=test_size,\n",
    "                                                      random_state=random_state, stratify=dataset[[targ_var]])\n",
    "\n",
    "    print(f'Train dataset size: {trndat[targ_var].value_counts()} \\n')\n",
    "    print(f'Validation dataset sizeL {valdat[targ_var].value_counts()}')\n",
    "\n",
    "    # Save split datasets\n",
    "    train_path = data_dir/'train.csv'\n",
    "    val_path = data_dir/'val.csv'\n",
    "    trndat.to_csv(train_path, index=False)\n",
    "    valdat.to_csv(val_path, index=False)\n",
    "\n",
    "    s3_client.upload_file(train_path.__str__(), 'creditscore', 'artifacts/train.csv')\n",
    "    s3_client.upload_file(val_path.__str__(), 'creditscore', 'artifacts/val.csv')\n",
    "\n",
    "    # Create a new artifact for the processed data, including the function that created it, to Artifacts\n",
    "    split_ds_art = wandb.Artifact(name='vehicle_defaults_split',\n",
    "                                  type='train-val-dataset',\n",
    "                                  description='Processed dataset split into train and valiation',\n",
    "                                  metadata={'test_size': test_size, 'random_state': random_state}\n",
    "                                  )\n",
    "    split_ds_art.add_reference('http://localhost:8001/creditscore/artifacts')\n",
    "\n",
    "    # Attach our processed data to the Artifact\n",
    "    # split_ds_art.add_file('train.csv')\n",
    "    # split_ds_art.add_file('val.csv')\n",
    "\n",
    "    # Log the Artifact\n",
    "    run.log_artifact(split_ds_art)"
   ]
  }
 ],
 "metadata": {
  "kernelspec": {
   "display_name": "Python 3",
   "language": "python",
   "name": "python3"
  },
  "language_info": {
   "codemirror_mode": {
    "name": "ipython",
    "version": 3
   },
   "file_extension": ".py",
   "mimetype": "text/x-python",
   "name": "python",
   "nbconvert_exporter": "python",
   "pygments_lexer": "ipython3",
   "version": "3.9.9"
  }
 },
 "nbformat": 4,
 "nbformat_minor": 5
}
