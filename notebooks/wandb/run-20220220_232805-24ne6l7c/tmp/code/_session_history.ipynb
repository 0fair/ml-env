{
 "cells": [
  {
   "cell_type": "code",
   "execution_count": 1,
   "id": "fe944f29",
   "metadata": {},
   "outputs": [],
   "source": [
    "!export AWS_S3_ENDPOINT_URL=http://localhost:8000\n",
    "!export AWS_ACCESS_KEY_ID=DevAccessKey\n",
    "!export AWS_SECRET_ACCESS_KEY=DevSecretKey"
   ]
  },
  {
   "cell_type": "code",
   "execution_count": 2,
   "id": "8ba67bc4",
   "metadata": {},
   "outputs": [],
   "source": [
    "import wandb\n",
    "wandb.login(key='local-8c4310dcf3cb371cac7343a466e09de6b04e4282', host='http://localhost:8080')\n",
    "ENTITY = None"
   ]
  },
  {
   "cell_type": "code",
   "execution_count": 3,
   "id": "e76344ac",
   "metadata": {},
   "outputs": [],
   "source": [
    "import ast\n",
    "import sys\n",
    "import json\n",
    "import boto3\n",
    "from pathlib import Path\n",
    "from dill.source import getsource\n",
    "from dill import detect\n",
    "\n",
    "import pandas as pd\n",
    "import numpy as np\n",
    "import plotly\n",
    "import matplotlib.pyplot as plt\n",
    "\n",
    "from scipy.stats import ks_2samp\n",
    "from sklearn import metrics\n",
    "from sklearn import model_selection\n",
    "import xgboost as xgb\n",
    "\n",
    "pd.set_option('display.max_columns', None)"
   ]
  },
  {
   "cell_type": "code",
   "execution_count": 4,
   "id": "2becdf42",
   "metadata": {},
   "outputs": [],
   "source": [
    "data_dir = Path('../data/')\n",
    "model_dir = Path('../models')\n",
    "model_dir.mkdir(exist_ok=True)\n",
    "\n",
    "id_vars = ['UniqueID']\n",
    "targ_var = 'loan_default'"
   ]
  },
  {
   "cell_type": "code",
   "execution_count": 5,
   "id": "3d3bab78",
   "metadata": {},
   "outputs": [],
   "source": [
    "def function_to_string(fn):\n",
    "    return getsource(detect.code(fn))"
   ]
  },
  {
   "cell_type": "code",
   "execution_count": 6,
   "id": "a8664a58",
   "metadata": {},
   "outputs": [],
   "source": [
    "run = wandb.init(entity=ENTITY, name=\"score1\", project='credit_scorecard', job_type='preprocess-data', config={'wandb_nb':'wandb_credit_soc'})  # config is optional here"
   ]
  },
  {
   "cell_type": "code",
   "execution_count": 7,
   "id": "f2059898",
   "metadata": {},
   "outputs": [],
   "source": [
    "from src.data_utils import (\n",
    "    describe_data_g_targ,\n",
    "    one_hot_encode_data,\n",
    "    create_feature_interaction_constraints,\n",
    "    get_monotonic_constraints,\n",
    "    load_training_data,\n",
    "    calculate_credit_scores\n",
    ")\n",
    "\n",
    "from src.scorecard import generate_scorecard"
   ]
  },
  {
   "cell_type": "code",
   "execution_count": 8,
   "id": "9803886b",
   "metadata": {},
   "outputs": [
    {
     "name": "stdout",
     "output_type": "stream",
     "text": [
      "   UniqueID    LTV  manufacturer_id Employment_Type  State_ID  \\\n",
      "0    417428  88.17               86   Self employed         4   \n",
      "1    417429  83.78               86        Salaried         8   \n",
      "2    417430  77.39               86   Self employed         6   \n",
      "3    417431  72.14               86   Self employed         3   \n",
      "4    417432  85.92               86   Self employed         6   \n",
      "\n",
      "   PERFORM_CNS_SCORE  AgeInMonths  DaysSinceDisbursement  loan_default  \n",
      "0              681.0        638.0                  153.0             0  \n",
      "1              384.0        478.0                  153.0             0  \n",
      "2                NaN        441.0                  153.0             0  \n",
      "3                NaN        384.0                  153.0             0  \n",
      "4              721.0        343.0                  153.0             0  "
     ]
    }
   ],
   "source": [
    "dataset = pd.read_csv(data_dir/'vehicle_loans_subset.csv')\n",
    "dataset.head()"
   ]
  },
  {
   "cell_type": "code",
   "execution_count": 9,
   "id": "845f4957",
   "metadata": {},
   "outputs": [],
   "source": [
    "dataset, p_vars = one_hot_encode_data(dataset, id_vars, targ_var)"
   ]
  },
  {
   "cell_type": "code",
   "execution_count": 10,
   "id": "48435819",
   "metadata": {},
   "outputs": [],
   "source": [
    "processed_data_path = data_dir/'proc_ds.csv'\n",
    "dataset.to_csv(processed_data_path, index=False)"
   ]
  },
  {
   "cell_type": "code",
   "execution_count": 11,
   "id": "771a343c",
   "metadata": {},
   "outputs": [],
   "source": [
    "processed_ds_art = wandb.Artifact(name='vehicle_defaults_processed',\n",
    "                                  type='processed_dataset',\n",
    "                                  description='One-hot encoded dataset',\n",
    "                                  metadata={'preprocessing_fn': function_to_string(one_hot_encode_data)}\n",
    "                                  )\n",
    "processed_ds_art.add_reference('s3://creditscore/datasets/process')"
   ]
  },
  {
   "cell_type": "code",
   "execution_count": 12,
   "id": "f9650550",
   "metadata": {},
   "outputs": [],
   "source": [
    "import ast\n",
    "import sys\n",
    "import os\n",
    "import json\n",
    "import boto3\n",
    "from pathlib import Path\n",
    "from dill.source import getsource\n",
    "from dill import detect\n",
    "\n",
    "import pandas as pd\n",
    "import numpy as np\n",
    "import plotly\n",
    "import matplotlib.pyplot as plt\n",
    "\n",
    "from scipy.stats import ks_2samp\n",
    "from sklearn import metrics\n",
    "from sklearn import model_selection\n",
    "import xgboost as xgb\n",
    "\n",
    "pd.set_option('display.max_columns', None)"
   ]
  },
  {
   "cell_type": "code",
   "execution_count": 13,
   "id": "becc1d78",
   "metadata": {},
   "outputs": [],
   "source": [
    "import ast\n",
    "import sys\n",
    "import os\n",
    "import json\n",
    "import boto3\n",
    "from pathlib import Path\n",
    "from dill.source import getsource\n",
    "from dill import detect\n",
    "\n",
    "import pandas as pd\n",
    "import numpy as np\n",
    "import plotly\n",
    "import matplotlib.pyplot as plt\n",
    "\n",
    "from scipy.stats import ks_2samp\n",
    "from sklearn import metrics\n",
    "from sklearn import model_selection\n",
    "import xgboost as xgb\n",
    "\n",
    "pd.set_option('display.max_columns', None)"
   ]
  },
  {
   "cell_type": "code",
   "execution_count": 14,
   "id": "9bfdbb5f",
   "metadata": {},
   "outputs": [],
   "source": [
    "os.environ[\"AWS_S3_ENDPOINT_URL\"] = \"http://localhost:8000\"\n",
    "os.environ[\"AWS_ACCESS_KEY_ID\"] = \"DevAccessKey\"\n",
    "os.environ[\"AWS_SECRET_ACCESS_KEY\"] = \"DevSecretKey\""
   ]
  },
  {
   "cell_type": "code",
   "execution_count": 15,
   "id": "3342bddc",
   "metadata": {},
   "outputs": [
    {
     "name": "stdout",
     "output_type": "stream",
     "text": [
      "[]"
     ]
    }
   ],
   "source": [
    "processed_ds_art = wandb.Artifact(name='vehicle_defaults_processed',\n",
    "                                  type='processed_dataset',\n",
    "                                  description='One-hot encoded dataset',\n",
    "                                  metadata={'preprocessing_fn': function_to_string(one_hot_encode_data)}\n",
    "                                  )\n",
    "processed_ds_art.add_reference('s3://creditscore/datasets/process')"
   ]
  },
  {
   "cell_type": "code",
   "execution_count": 16,
   "id": "3a39aee4",
   "metadata": {},
   "outputs": [
    {
     "name": "stdout",
     "output_type": "stream",
     "text": [
      "<ManifestEntry digest: cslJubeoq5UrWhqw3sBeqw==>"
     ]
    }
   ],
   "source": [
    "# Attach our processed data to the Artifact\n",
    "processed_ds_art.add_file(processed_data_path)"
   ]
  },
  {
   "cell_type": "code",
   "execution_count": 17,
   "id": "9d72197c",
   "metadata": {},
   "outputs": [],
   "source": [
    "run.log_artifact(processed_ds_art)\n",
    "run.finish()"
   ]
  },
  {
   "cell_type": "code",
   "execution_count": 18,
   "id": "5d4d0775",
   "metadata": {},
   "outputs": [
    {
     "name": "stdout",
     "output_type": "stream",
     "text": [
      "[]"
     ]
    }
   ],
   "source": [
    "processed_ds_art = wandb.Artifact(name='vehicle_defaults_processed',\n",
    "                                  type='processed_dataset',\n",
    "                                  description='One-hot encoded dataset',\n",
    "                                  metadata={'preprocessing_fn': function_to_string(one_hot_encode_data)}\n",
    "                                  )\n",
    "processed_ds_art.add_reference('s3://creditscore/datasets/vehicle_defaults_processed')"
   ]
  },
  {
   "cell_type": "code",
   "execution_count": 19,
   "id": "5fb02f60",
   "metadata": {},
   "outputs": [
    {
     "name": "stdout",
     "output_type": "stream",
     "text": [
      "<ManifestEntry digest: cslJubeoq5UrWhqw3sBeqw==>"
     ]
    }
   ],
   "source": [
    "# Attach our processed data to the Artifact\n",
    "processed_ds_art.add_file(processed_data_path)"
   ]
  },
  {
   "cell_type": "code",
   "execution_count": 20,
   "id": "f7110b54",
   "metadata": {},
   "outputs": [],
   "source": [
    "run.log_artifact(processed_ds_art)\n",
    "run.finish()"
   ]
  },
  {
   "cell_type": "code",
   "execution_count": 21,
   "id": "4447bc83",
   "metadata": {},
   "outputs": [],
   "source": [
    "run = wandb.init(entity=ENTITY, name=\"score1\", project='credit_scorecard', job_type='preprocess-data', config={'wandb_nb':'wandb_credit_soc'})  # config is optional here"
   ]
  },
  {
   "cell_type": "code",
   "execution_count": 22,
   "id": "9a0412b0",
   "metadata": {},
   "outputs": [],
   "source": [
    "from src.data_utils import (\n",
    "    describe_data_g_targ,\n",
    "    one_hot_encode_data,\n",
    "    create_feature_interaction_constraints,\n",
    "    get_monotonic_constraints,\n",
    "    load_training_data,\n",
    "    calculate_credit_scores\n",
    ")\n",
    "\n",
    "from src.scorecard import generate_scorecard"
   ]
  },
  {
   "cell_type": "code",
   "execution_count": 23,
   "id": "bceaa3d8",
   "metadata": {},
   "outputs": [
    {
     "name": "stdout",
     "output_type": "stream",
     "text": [
      "   UniqueID    LTV  manufacturer_id Employment_Type  State_ID  \\\n",
      "0    417428  88.17               86   Self employed         4   \n",
      "1    417429  83.78               86        Salaried         8   \n",
      "2    417430  77.39               86   Self employed         6   \n",
      "3    417431  72.14               86   Self employed         3   \n",
      "4    417432  85.92               86   Self employed         6   \n",
      "\n",
      "   PERFORM_CNS_SCORE  AgeInMonths  DaysSinceDisbursement  loan_default  \n",
      "0              681.0        638.0                  153.0             0  \n",
      "1              384.0        478.0                  153.0             0  \n",
      "2                NaN        441.0                  153.0             0  \n",
      "3                NaN        384.0                  153.0             0  \n",
      "4              721.0        343.0                  153.0             0  "
     ]
    }
   ],
   "source": [
    "dataset = pd.read_csv(data_dir/'vehicle_loans_subset.csv')\n",
    "dataset.head()"
   ]
  },
  {
   "cell_type": "code",
   "execution_count": 24,
   "id": "fe4206f9",
   "metadata": {},
   "outputs": [],
   "source": [
    "dataset, p_vars = one_hot_encode_data(dataset, id_vars, targ_var)"
   ]
  },
  {
   "cell_type": "code",
   "execution_count": 25,
   "id": "b0302a11",
   "metadata": {},
   "outputs": [],
   "source": [
    "processed_data_path = data_dir/'proc_ds.csv'\n",
    "dataset.to_csv(processed_data_path, index=False)"
   ]
  },
  {
   "cell_type": "code",
   "execution_count": 26,
   "id": "9aa05aa7",
   "metadata": {},
   "outputs": [
    {
     "name": "stdout",
     "output_type": "stream",
     "text": [
      "[]"
     ]
    }
   ],
   "source": [
    "processed_ds_art = wandb.Artifact(name='vehicle_defaults_processed',\n",
    "                                  type='processed_dataset',\n",
    "                                  description='One-hot encoded dataset',\n",
    "                                  metadata={'preprocessing_fn': function_to_string(one_hot_encode_data)}\n",
    "                                  )\n",
    "processed_ds_art.add_reference('s3://creditscore/datasets/vehicle_defaults_processed')"
   ]
  },
  {
   "cell_type": "code",
   "execution_count": 27,
   "id": "acd8fc82",
   "metadata": {},
   "outputs": [
    {
     "name": "stdout",
     "output_type": "stream",
     "text": [
      "<ManifestEntry digest: cslJubeoq5UrWhqw3sBeqw==>"
     ]
    }
   ],
   "source": [
    "# Attach our processed data to the Artifact\n",
    "processed_ds_art.add_file(processed_data_path)"
   ]
  },
  {
   "cell_type": "code",
   "execution_count": 28,
   "id": "3ca85504",
   "metadata": {},
   "outputs": [],
   "source": [
    "run.log_artifact(processed_ds_art)\n",
    "run.finish()"
   ]
  },
  {
   "cell_type": "code",
   "execution_count": 29,
   "id": "41de8726",
   "metadata": {},
   "outputs": [],
   "source": [
    "run = wandb.init(entity=ENTITY, name=\"score2\", project='credit_scorecard', job_type='preprocess-data', config={'wandb_nb':'wandb_credit_soc'})  # config is optional here"
   ]
  },
  {
   "cell_type": "code",
   "execution_count": 30,
   "id": "f7d67318",
   "metadata": {},
   "outputs": [],
   "source": [
    "from src.data_utils import (\n",
    "    describe_data_g_targ,\n",
    "    one_hot_encode_data,\n",
    "    create_feature_interaction_constraints,\n",
    "    get_monotonic_constraints,\n",
    "    load_training_data,\n",
    "    calculate_credit_scores\n",
    ")\n",
    "\n",
    "from src.scorecard import generate_scorecard"
   ]
  },
  {
   "cell_type": "code",
   "execution_count": 31,
   "id": "116dc20d",
   "metadata": {},
   "outputs": [
    {
     "name": "stdout",
     "output_type": "stream",
     "text": [
      "   UniqueID    LTV  manufacturer_id Employment_Type  State_ID  \\\n",
      "0    417428  88.17               86   Self employed         4   \n",
      "1    417429  83.78               86        Salaried         8   \n",
      "2    417430  77.39               86   Self employed         6   \n",
      "3    417431  72.14               86   Self employed         3   \n",
      "4    417432  85.92               86   Self employed         6   \n",
      "\n",
      "   PERFORM_CNS_SCORE  AgeInMonths  DaysSinceDisbursement  loan_default  \n",
      "0              681.0        638.0                  153.0             0  \n",
      "1              384.0        478.0                  153.0             0  \n",
      "2                NaN        441.0                  153.0             0  \n",
      "3                NaN        384.0                  153.0             0  \n",
      "4              721.0        343.0                  153.0             0  "
     ]
    }
   ],
   "source": [
    "dataset = pd.read_csv(data_dir/'vehicle_loans_subset.csv')\n",
    "dataset.head()"
   ]
  },
  {
   "cell_type": "code",
   "execution_count": 32,
   "id": "ef4931e4",
   "metadata": {},
   "outputs": [],
   "source": [
    "dataset, p_vars = one_hot_encode_data(dataset, id_vars, targ_var)"
   ]
  },
  {
   "cell_type": "code",
   "execution_count": 33,
   "id": "e8cee503",
   "metadata": {},
   "outputs": [],
   "source": [
    "processed_data_path = data_dir/'proc_ds.csv'\n",
    "dataset.to_csv(processed_data_path, index=False)"
   ]
  },
  {
   "cell_type": "code",
   "execution_count": 34,
   "id": "f9770ad0",
   "metadata": {},
   "outputs": [],
   "source": [
    "s3_client = boto3.client('s3')\n",
    "s3_client.upload_file('proc_ds.csv', 'creditscore', 'datasets/vehicle_defaults_processed')\n",
    "\n",
    "processed_ds_art = wandb.Artifact(name='vehicle_defaults_processed',\n",
    "                                  type='processed_dataset',\n",
    "                                  description='One-hot encoded dataset',\n",
    "                                  metadata={'preprocessing_fn': function_to_string(one_hot_encode_data)}\n",
    "                                  )\n",
    "processed_ds_art.add_reference('s3://creditscore/datasets/vehicle_defaults_processed')"
   ]
  },
  {
   "cell_type": "code",
   "execution_count": 35,
   "id": "e23b54e4",
   "metadata": {},
   "outputs": [],
   "source": [
    "s3_client = boto3.client('s3')\n",
    "s3_client.upload_file(data_dir/'proc_ds.csv', 'creditscore', 'datasets/vehicle_defaults_processed')\n",
    "\n",
    "processed_ds_art = wandb.Artifact(name='vehicle_defaults_processed',\n",
    "                                  type='processed_dataset',\n",
    "                                  description='One-hot encoded dataset',\n",
    "                                  metadata={'preprocessing_fn': function_to_string(one_hot_encode_data)}\n",
    "                                  )\n",
    "processed_ds_art.add_reference('s3://creditscore/datasets/vehicle_defaults_processed')"
   ]
  },
  {
   "cell_type": "code",
   "execution_count": 36,
   "id": "2b8985ac",
   "metadata": {},
   "outputs": [],
   "source": [
    "s3_client = boto3.client('s3')\n",
    "s3_client.upload_file(data_dir/'proc_ds.csv', 'creditscore', 'datasets/vehicle_defaults_processed')\n",
    "\n",
    "processed_ds_art = wandb.Artifact(name='vehicle_defaults_processed',\n",
    "                                  type='processed_dataset',\n",
    "                                  description='One-hot encoded dataset',\n",
    "                                  metadata={'preprocessing_fn': function_to_string(one_hot_encode_data)}\n",
    "                                  )\n",
    "processed_ds_art.add_reference('s3://creditscore/datasets/vehicle_defaults_processed')"
   ]
  },
  {
   "cell_type": "code",
   "execution_count": 37,
   "id": "3cb0edf7",
   "metadata": {},
   "outputs": [],
   "source": [
    "s3_client = boto3.client('s3')"
   ]
  },
  {
   "cell_type": "code",
   "execution_count": 38,
   "id": "1fc31775",
   "metadata": {},
   "outputs": [],
   "source": [
    "s3_client.upload_file(data_dir/'proc_ds.csv', 'creditscore', 'datasets/vehicle_defaults_processed')\n",
    "\n",
    "processed_ds_art = wandb.Artifact(name='vehicle_defaults_processed',\n",
    "                                  type='processed_dataset',\n",
    "                                  description='One-hot encoded dataset',\n",
    "                                  metadata={'preprocessing_fn': function_to_string(one_hot_encode_data)}\n",
    "                                  )\n",
    "processed_ds_art.add_reference('s3://creditscore/datasets/vehicle_defaults_processed')"
   ]
  },
  {
   "cell_type": "code",
   "execution_count": 39,
   "id": "7d3958b1",
   "metadata": {},
   "outputs": [],
   "source": [
    "s3_client.upload_file(data_dir + '/proc_ds.csv', 'creditscore', 'datasets/vehicle_defaults_processed')\n",
    "\n",
    "processed_ds_art = wandb.Artifact(name='vehicle_defaults_processed',\n",
    "                                  type='processed_dataset',\n",
    "                                  description='One-hot encoded dataset',\n",
    "                                  metadata={'preprocessing_fn': function_to_string(one_hot_encode_data)}\n",
    "                                  )\n",
    "processed_ds_art.add_reference('s3://creditscore/datasets/vehicle_defaults_processed')"
   ]
  },
  {
   "cell_type": "code",
   "execution_count": 40,
   "id": "73f2a648",
   "metadata": {},
   "outputs": [],
   "source": [
    "s3_client.upload_file((data_dir/'proc_ds.csv'.__str__()), 'creditscore', 'datasets/vehicle_defaults_processed')\n",
    "\n",
    "processed_ds_art = wandb.Artifact(name='vehicle_defaults_processed',\n",
    "                                  type='processed_dataset',\n",
    "                                  description='One-hot encoded dataset',\n",
    "                                  metadata={'preprocessing_fn': function_to_string(one_hot_encode_data)}\n",
    "                                  )\n",
    "processed_ds_art.add_reference('s3://creditscore/datasets/vehicle_defaults_processed')"
   ]
  },
  {
   "cell_type": "code",
   "execution_count": 41,
   "id": "fd70abd6",
   "metadata": {},
   "outputs": [],
   "source": [
    "s3_client.upload_file((data_dir/'proc_ds.csv').__str__()), 'creditscore', 'datasets/vehicle_defaults_processed')\n",
    "\n",
    "processed_ds_art = wandb.Artifact(name='vehicle_defaults_processed',\n",
    "                                  type='processed_dataset',\n",
    "                                  description='One-hot encoded dataset',\n",
    "                                  metadata={'preprocessing_fn': function_to_string(one_hot_encode_data)}\n",
    "                                  )\n",
    "processed_ds_art.add_reference('s3://creditscore/datasets/vehicle_defaults_processed')"
   ]
  },
  {
   "cell_type": "code",
   "execution_count": 42,
   "id": "1db8a6d0",
   "metadata": {},
   "outputs": [],
   "source": [
    "s3_client.upload_file((data_dir/'proc_ds.csv').__str__(), 'creditscore', 'datasets/vehicle_defaults_processed')\n",
    "\n",
    "processed_ds_art = wandb.Artifact(name='vehicle_defaults_processed',\n",
    "                                  type='processed_dataset',\n",
    "                                  description='One-hot encoded dataset',\n",
    "                                  metadata={'preprocessing_fn': function_to_string(one_hot_encode_data)}\n",
    "                                  )\n",
    "processed_ds_art.add_reference('s3://creditscore/datasets/vehicle_defaults_processed')"
   ]
  },
  {
   "cell_type": "code",
   "execution_count": 43,
   "id": "c90415f8",
   "metadata": {},
   "outputs": [],
   "source": [
    "os.environ[\"AWS_S3_ENDPOINT_URL\"] = \"http://localhost:8000\"\n",
    "os.environ[\"AWS_ACCESS_KEY_ID\"] = \"DevAccessKey\"\n",
    "os.environ[\"AWS_SECRET_ACCESS_KEY\"] = \"DevSecretKey\""
   ]
  },
  {
   "cell_type": "code",
   "execution_count": 44,
   "id": "d33324d5",
   "metadata": {},
   "outputs": [],
   "source": [
    "s3_client.upload_file((data_dir/'proc_ds.csv').__str__(), 'creditscore', 'datasets/vehicle_defaults_processed')\n",
    "\n",
    "processed_ds_art = wandb.Artifact(name='vehicle_defaults_processed',\n",
    "                                  type='processed_dataset',\n",
    "                                  description='One-hot encoded dataset',\n",
    "                                  metadata={'preprocessing_fn': function_to_string(one_hot_encode_data)}\n",
    "                                  )\n",
    "processed_ds_art.add_reference('s3://creditscore/datasets/vehicle_defaults_processed')"
   ]
  },
  {
   "cell_type": "code",
   "execution_count": 45,
   "id": "f923e562",
   "metadata": {},
   "outputs": [],
   "source": [
    "s3_client.upload_file((data_dir/'proc_ds.csv').__str__(), 'creditscore', 'datasets/vehicle_defaults_processed')"
   ]
  },
  {
   "cell_type": "code",
   "execution_count": 46,
   "id": "4c7ce608",
   "metadata": {},
   "outputs": [],
   "source": [
    "s3_client.upload_file((data_dir/'proc_ds.csv').__str__(), 'creditscore', 'datasets/vehicle_defaults_processed')"
   ]
  },
  {
   "cell_type": "code",
   "execution_count": 47,
   "id": "0bf192ca",
   "metadata": {},
   "outputs": [],
   "source": [
    "os.environ[\"AWS_S3_ENDPOINT_URL\"] = \"http://localhost:8000\"\n",
    "os.environ[\"AWS_ACCESS_KEY_ID\"] = \"DevAccessKeym\"\n",
    "os.environ[\"AWS_SECRET_ACCESS_KEY\"] = \"DevSecretKey\""
   ]
  },
  {
   "cell_type": "code",
   "execution_count": 48,
   "id": "456b32b4",
   "metadata": {},
   "outputs": [],
   "source": [
    "s3_client.upload_file((data_dir/'proc_ds.csv').__str__(), 'creditscore', 'datasets/vehicle_defaults_processed')"
   ]
  },
  {
   "cell_type": "code",
   "execution_count": 49,
   "id": "8a707aff",
   "metadata": {},
   "outputs": [],
   "source": [
    "s3_client = boto3.client('s3', endpoint_url=\"http://localhost:8000\",\n",
    "                         aws_access_key_id=\"DevAccessKey\", aws_secret_access_key=\"DevSecretKey\")"
   ]
  },
  {
   "cell_type": "code",
   "execution_count": 50,
   "id": "42a8a7d3",
   "metadata": {},
   "outputs": [],
   "source": [
    "s3_client.upload_file((data_dir/'proc_ds.csv').__str__(), 'creditscore', 'datasets/vehicle_defaults_processed')"
   ]
  },
  {
   "cell_type": "code",
   "execution_count": 51,
   "id": "05321a29",
   "metadata": {},
   "outputs": [],
   "source": [
    "\n",
    "processed_ds_art = wandb.Artifact(name='vehicle_defaults_processed',\n",
    "                                  type='processed_dataset',\n",
    "                                  description='One-hot encoded dataset',\n",
    "                                  metadata={'preprocessing_fn': function_to_string(one_hot_encode_data)}\n",
    "                                  )\n",
    "processed_ds_art.add_reference('s3://creditscore/datasets/vehicle_defaults_processed')"
   ]
  },
  {
   "cell_type": "code",
   "execution_count": 52,
   "id": "290430fc",
   "metadata": {},
   "outputs": [],
   "source": [
    "s3_client.upload_file((data_dir/'proc_ds.csv').__str__(), 'creditscore', 'datasets/vehicle_defaults_processed1')"
   ]
  },
  {
   "cell_type": "code",
   "execution_count": 53,
   "id": "d29bdf67",
   "metadata": {},
   "outputs": [],
   "source": [
    "\n",
    "processed_ds_art = wandb.Artifact(name='vehicle_defaults_processed',\n",
    "                                  type='processed_dataset',\n",
    "                                  description='One-hot encoded dataset',\n",
    "                                  metadata={'preprocessing_fn': function_to_string(one_hot_encode_data)}\n",
    "                                  )\n",
    "processed_ds_art.add_reference('s3://creditscore/datasets/vehicle_defaults_processed')"
   ]
  },
  {
   "cell_type": "code",
   "execution_count": 54,
   "id": "615c6f0d",
   "metadata": {},
   "outputs": [],
   "source": [
    "os.environ[\"AWS_S3_ENDPOINT_URL\"] = \"http://localhost:8000\"\n",
    "os.environ[\"AWS_ACCESS_KEY_ID\"] = \"DevAccessKey\"\n",
    "os.environ[\"AWS_SECRET_ACCESS_KEY\"] = \"DevSecretKey\""
   ]
  },
  {
   "cell_type": "code",
   "execution_count": 55,
   "id": "cdbe1097",
   "metadata": {},
   "outputs": [
    {
     "name": "stdout",
     "output_type": "stream",
     "text": [
      "[<ManifestEntry ref: s3://creditscore/datasets/vehicle_defaults_processed/vehicle_defaults_processed>]"
     ]
    }
   ],
   "source": [
    "\n",
    "processed_ds_art = wandb.Artifact(name='vehicle_defaults_processed',\n",
    "                                  type='processed_dataset',\n",
    "                                  description='One-hot encoded dataset',\n",
    "                                  metadata={'preprocessing_fn': function_to_string(one_hot_encode_data)}\n",
    "                                  )\n",
    "processed_ds_art.add_reference('s3://creditscore/datasets/vehicle_defaults_processed')"
   ]
  },
  {
   "cell_type": "code",
   "execution_count": 56,
   "id": "c1380e87",
   "metadata": {},
   "outputs": [
    {
     "name": "stdout",
     "output_type": "stream",
     "text": [
      "<ManifestEntry digest: cslJubeoq5UrWhqw3sBeqw==>"
     ]
    }
   ],
   "source": [
    "# Attach our processed data to the Artifact\n",
    "processed_ds_art.add_file(processed_data_path)"
   ]
  },
  {
   "cell_type": "code",
   "execution_count": 57,
   "id": "36d04dfe",
   "metadata": {},
   "outputs": [],
   "source": [
    "run.log_artifact(processed_ds_art)\n",
    "run.finish()"
   ]
  },
  {
   "cell_type": "code",
   "execution_count": 58,
   "id": "49d68b5d",
   "metadata": {},
   "outputs": [
    {
     "data": {
      "text/html": [
       "\n",
       "                    Syncing run <strong><a href=\"http://localhost:8080/den/credit_scorecard/runs/24ne6l7c\" target=\"_blank\">model1</a></strong> to <a href=\"http://localhost:8080/den/credit_scorecard\" target=\"_blank\">Weights & Biases</a> (<a href=\"https://docs.wandb.com/integrations/jupyter.html\" target=\"_blank\">docs</a>).<br/>\n",
       "\n",
       "                "
      ],
      "text/plain": [
       "<IPython.core.display.HTML object>"
      ]
     },
     "metadata": {},
     "output_type": "display_data"
    }
   ],
   "source": [
    "with wandb.init(entity=ENTITY, name=\"model1\", project='credit_scorecard', job_type='train-val-split', config={'wandb_nb':'wandb_credit_soc'}) as run:     # config is optional here\n",
    "\n",
    "    # Download the subset of the vehicle loan default data from W&B\n",
    "    dataset_art = run.use_artifact('vehicle_defaults_processed:latest', type='processed_dataset')\n",
    "    dataset_dir = dataset_art.download(data_dir)\n",
    "    dataset = pd.read_csv(processed_data_path)\n",
    "\n",
    "    # Set Split Params\n",
    "    test_size = 0.25\n",
    "    random_state = 42\n",
    "\n",
    "    # Log the splilt params\n",
    "    run.config.update({'test_size':test_size, 'random_state': random_state})\n",
    "\n",
    "    # Do the Train/Val Split\n",
    "    trndat, valdat = model_selection.train_test_split(dataset, test_size=test_size,\n",
    "                                                      random_state=random_state, stratify=dataset[[targ_var]])\n",
    "\n",
    "    print(f'Train dataset size: {trndat[targ_var].value_counts()} \\n')\n",
    "    print(f'Validation dataset sizeL {valdat[targ_var].value_counts()}')\n",
    "\n",
    "    # Save split datasets\n",
    "    train_path = data_dir/'train.csv'\n",
    "    val_path = data_dir/'val.csv'\n",
    "    trndat.to_csv(train_path, index=False)\n",
    "    valdat.to_csv(val_path, index=False)\n",
    "\n",
    "\n",
    "    # Create a new artifact for the processed data, including the function that created it, to Artifacts\n",
    "    split_ds_art = wandb.Artifact(name='vehicle_defaults_split',\n",
    "                                  type='train-val-dataset',\n",
    "                                  description='Processed dataset split into train and valiation',\n",
    "                                  metadata={'test_size': test_size, 'random_state': random_state}\n",
    "                                  )\n",
    "    split_ds_art.add_reference('s3://creditscore/artefacts')\n",
    "\n",
    "    # Attach our processed data to the Artifact\n",
    "    split_ds_art.add_file(train_path)\n",
    "    split_ds_art.add_file(val_path)\n",
    "\n",
    "    # Log the Artifact\n",
    "    run.log_artifact(split_ds_art)"
   ]
  }
 ],
 "metadata": {
  "kernelspec": {
   "display_name": "Python 3",
   "language": "python",
   "name": "python3"
  },
  "language_info": {
   "codemirror_mode": {
    "name": "ipython",
    "version": 3
   },
   "file_extension": ".py",
   "mimetype": "text/x-python",
   "name": "python",
   "nbconvert_exporter": "python",
   "pygments_lexer": "ipython3",
   "version": "3.9.9"
  }
 },
 "nbformat": 4,
 "nbformat_minor": 5
}
