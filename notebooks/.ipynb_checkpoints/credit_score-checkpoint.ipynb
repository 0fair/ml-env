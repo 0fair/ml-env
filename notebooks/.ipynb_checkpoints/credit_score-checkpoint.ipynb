{
 "cells": [
  {
   "cell_type": "code",
   "execution_count": 2,
   "metadata": {
    "pycharm": {
     "name": "#%%\n"
    }
   },
   "outputs": [
    {
     "name": "stderr",
     "output_type": "stream",
     "text": [
      "\u001b[34m\u001b[1mwandb\u001b[0m: Currently logged in as: \u001b[33mden\u001b[0m (use `wandb login --relogin` to force relogin)\n",
      "\u001b[34m\u001b[1mwandb\u001b[0m: \u001b[33mWARNING\u001b[0m If you're specifying your api key in code, ensure this code is not shared publicly.\n",
      "\u001b[34m\u001b[1mwandb\u001b[0m: \u001b[33mWARNING\u001b[0m Consider setting the WANDB_API_KEY environment variable, or running `wandb login` from the command line.\n",
      "\u001b[34m\u001b[1mwandb\u001b[0m: Appending key for localhost to your netrc file: /Users/den/.netrc\n"
     ]
    }
   ],
   "source": [
    "import wandb\n",
    "wandb.login(key='local-8c4310dcf3cb371cac7343a466e09de6b04e4282', host='http://localhost:8080')\n",
    "ENTITY = None"
   ]
  },
  {
   "cell_type": "code",
   "execution_count": 13,
   "metadata": {
    "pycharm": {
     "name": "#%%\n"
    }
   },
   "outputs": [],
   "source": [
    "import ast\n",
    "import sys\n",
    "import os\n",
    "import json\n",
    "import boto3\n",
    "from pathlib import Path\n",
    "from dill.source import getsource\n",
    "from dill import detect\n",
    "\n",
    "import pandas as pd\n",
    "import numpy as np\n",
    "import plotly\n",
    "import matplotlib.pyplot as plt\n",
    "\n",
    "from scipy.stats import ks_2samp\n",
    "from sklearn import metrics\n",
    "from sklearn import model_selection\n",
    "import xgboost as xgb\n",
    "\n",
    "pd.set_option('display.max_columns', None)"
   ]
  },
  {
   "cell_type": "code",
   "execution_count": 14,
   "metadata": {
    "pycharm": {
     "name": "#%%\n"
    }
   },
   "outputs": [],
   "source": [
    "os.environ[\"AWS_S3_ENDPOINT_URL\"] = \"http://localhost:8000\"\n",
    "os.environ[\"AWS_ACCESS_KEY_ID\"] = \"DevAccessKey\"\n",
    "os.environ[\"AWS_SECRET_ACCESS_KEY\"] = \"DevSecretKey\""
   ]
  },
  {
   "cell_type": "code",
   "execution_count": 4,
   "metadata": {
    "pycharm": {
     "name": "#%%\n"
    }
   },
   "outputs": [],
   "source": [
    "data_dir = Path('../data/')\n",
    "model_dir = Path('../models')\n",
    "model_dir.mkdir(exist_ok=True)\n",
    "\n",
    "id_vars = ['UniqueID']\n",
    "targ_var = 'loan_default'\n",
    "s3_client = boto3.client('s3', endpoint_url=\"http://localhost:8000\",\n",
    "                         aws_access_key_id=\"DevAccessKey\", aws_secret_access_key=\"DevSecretKey\")\n"
   ]
  },
  {
   "cell_type": "code",
   "execution_count": 4,
   "metadata": {
    "pycharm": {
     "name": "#%%\n"
    }
   },
   "outputs": [],
   "source": []
  },
  {
   "cell_type": "code",
   "execution_count": 5,
   "metadata": {
    "pycharm": {
     "name": "#%%\n"
    }
   },
   "outputs": [],
   "source": [
    "def function_to_string(fn):\n",
    "    return getsource(detect.code(fn))"
   ]
  },
  {
   "cell_type": "code",
   "execution_count": 29,
   "metadata": {
    "pycharm": {
     "name": "#%%\n"
    }
   },
   "outputs": [
    {
     "data": {
      "text/html": [
       "\n",
       "                    Syncing run <strong><a href=\"http://localhost:8080/den/credit_scorecard/runs/2dahspcv\" target=\"_blank\">score2</a></strong> to <a href=\"http://localhost:8080/den/credit_scorecard\" target=\"_blank\">Weights & Biases</a> (<a href=\"https://docs.wandb.com/integrations/jupyter.html\" target=\"_blank\">docs</a>).<br/>\n",
       "\n",
       "                "
      ],
      "text/plain": [
       "<IPython.core.display.HTML object>"
      ]
     },
     "metadata": {},
     "output_type": "display_data"
    }
   ],
   "source": [
    "run = wandb.init(entity=ENTITY, name=\"score2\", project='credit_scorecard', job_type='preprocess-data', config={'wandb_nb':'wandb_credit_soc'})  # config is optional here\n"
   ]
  },
  {
   "cell_type": "code",
   "execution_count": 30,
   "metadata": {
    "pycharm": {
     "name": "#%%\n"
    }
   },
   "outputs": [],
   "source": [
    "from src.data_utils import (\n",
    "    describe_data_g_targ,\n",
    "    one_hot_encode_data,\n",
    "    create_feature_interaction_constraints,\n",
    "    get_monotonic_constraints,\n",
    "    load_training_data,\n",
    "    calculate_credit_scores\n",
    ")\n",
    "\n",
    "from src.scorecard import generate_scorecard"
   ]
  },
  {
   "cell_type": "code",
   "execution_count": 31,
   "metadata": {
    "pycharm": {
     "name": "#%%\n"
    }
   },
   "outputs": [
    {
     "data": {
      "text/html": [
       "<div>\n",
       "<style scoped>\n",
       "    .dataframe tbody tr th:only-of-type {\n",
       "        vertical-align: middle;\n",
       "    }\n",
       "\n",
       "    .dataframe tbody tr th {\n",
       "        vertical-align: top;\n",
       "    }\n",
       "\n",
       "    .dataframe thead th {\n",
       "        text-align: right;\n",
       "    }\n",
       "</style>\n",
       "<table border=\"1\" class=\"dataframe\">\n",
       "  <thead>\n",
       "    <tr style=\"text-align: right;\">\n",
       "      <th></th>\n",
       "      <th>UniqueID</th>\n",
       "      <th>LTV</th>\n",
       "      <th>manufacturer_id</th>\n",
       "      <th>Employment_Type</th>\n",
       "      <th>State_ID</th>\n",
       "      <th>PERFORM_CNS_SCORE</th>\n",
       "      <th>AgeInMonths</th>\n",
       "      <th>DaysSinceDisbursement</th>\n",
       "      <th>loan_default</th>\n",
       "    </tr>\n",
       "  </thead>\n",
       "  <tbody>\n",
       "    <tr>\n",
       "      <th>0</th>\n",
       "      <td>417428</td>\n",
       "      <td>88.17</td>\n",
       "      <td>86</td>\n",
       "      <td>Self employed</td>\n",
       "      <td>4</td>\n",
       "      <td>681.0</td>\n",
       "      <td>638.0</td>\n",
       "      <td>153.0</td>\n",
       "      <td>0</td>\n",
       "    </tr>\n",
       "    <tr>\n",
       "      <th>1</th>\n",
       "      <td>417429</td>\n",
       "      <td>83.78</td>\n",
       "      <td>86</td>\n",
       "      <td>Salaried</td>\n",
       "      <td>8</td>\n",
       "      <td>384.0</td>\n",
       "      <td>478.0</td>\n",
       "      <td>153.0</td>\n",
       "      <td>0</td>\n",
       "    </tr>\n",
       "    <tr>\n",
       "      <th>2</th>\n",
       "      <td>417430</td>\n",
       "      <td>77.39</td>\n",
       "      <td>86</td>\n",
       "      <td>Self employed</td>\n",
       "      <td>6</td>\n",
       "      <td>NaN</td>\n",
       "      <td>441.0</td>\n",
       "      <td>153.0</td>\n",
       "      <td>0</td>\n",
       "    </tr>\n",
       "    <tr>\n",
       "      <th>3</th>\n",
       "      <td>417431</td>\n",
       "      <td>72.14</td>\n",
       "      <td>86</td>\n",
       "      <td>Self employed</td>\n",
       "      <td>3</td>\n",
       "      <td>NaN</td>\n",
       "      <td>384.0</td>\n",
       "      <td>153.0</td>\n",
       "      <td>0</td>\n",
       "    </tr>\n",
       "    <tr>\n",
       "      <th>4</th>\n",
       "      <td>417432</td>\n",
       "      <td>85.92</td>\n",
       "      <td>86</td>\n",
       "      <td>Self employed</td>\n",
       "      <td>6</td>\n",
       "      <td>721.0</td>\n",
       "      <td>343.0</td>\n",
       "      <td>153.0</td>\n",
       "      <td>0</td>\n",
       "    </tr>\n",
       "  </tbody>\n",
       "</table>\n",
       "</div>"
      ],
      "text/plain": [
       "   UniqueID    LTV  manufacturer_id Employment_Type  State_ID  \\\n",
       "0    417428  88.17               86   Self employed         4   \n",
       "1    417429  83.78               86        Salaried         8   \n",
       "2    417430  77.39               86   Self employed         6   \n",
       "3    417431  72.14               86   Self employed         3   \n",
       "4    417432  85.92               86   Self employed         6   \n",
       "\n",
       "   PERFORM_CNS_SCORE  AgeInMonths  DaysSinceDisbursement  loan_default  \n",
       "0              681.0        638.0                  153.0             0  \n",
       "1              384.0        478.0                  153.0             0  \n",
       "2                NaN        441.0                  153.0             0  \n",
       "3                NaN        384.0                  153.0             0  \n",
       "4              721.0        343.0                  153.0             0  "
      ]
     },
     "execution_count": 31,
     "metadata": {},
     "output_type": "execute_result"
    }
   ],
   "source": [
    "dataset = pd.read_csv(data_dir/'vehicle_loans_subset.csv')\n",
    "dataset.head()"
   ]
  },
  {
   "cell_type": "markdown",
   "metadata": {
    "pycharm": {
     "name": "#%% md\n"
    }
   },
   "source": [
    "# additional\n",
    "p_vars - это фичи, числовые и категориальные\n",
    "делаем датасет, где подготовлены категориальные колонки"
   ]
  },
  {
   "cell_type": "code",
   "execution_count": 32,
   "metadata": {
    "pycharm": {
     "name": "#%%\n"
    }
   },
   "outputs": [],
   "source": [
    "dataset, p_vars = one_hot_encode_data(dataset, id_vars, targ_var)"
   ]
  },
  {
   "cell_type": "code",
   "execution_count": 33,
   "metadata": {
    "pycharm": {
     "name": "#%%\n"
    }
   },
   "outputs": [],
   "source": [
    "processed_data_path = data_dir/'proc_ds.csv'\n",
    "dataset.to_csv(processed_data_path, index=False)"
   ]
  },
  {
   "cell_type": "code",
   "execution_count": 49,
   "metadata": {
    "pycharm": {
     "name": "#%%\n"
    }
   },
   "outputs": [],
   "source": []
  },
  {
   "cell_type": "code",
   "execution_count": 54,
   "metadata": {
    "pycharm": {
     "name": "#%%\n"
    }
   },
   "outputs": [],
   "source": []
  },
  {
   "cell_type": "code",
   "execution_count": 52,
   "metadata": {
    "pycharm": {
     "name": "#%%\n"
    }
   },
   "outputs": [],
   "source": [
    "s3_client.upload_file((data_dir/'proc_ds.csv').__str__(), 'creditscore', 'datasets/vehicle_defaults_processed')\n"
   ]
  },
  {
   "cell_type": "code",
   "execution_count": 55,
   "metadata": {
    "pycharm": {
     "name": "#%%\n"
    }
   },
   "outputs": [
    {
     "data": {
      "text/plain": [
       "[<ManifestEntry ref: s3://creditscore/datasets/vehicle_defaults_processed/vehicle_defaults_processed>]"
      ]
     },
     "execution_count": 55,
     "metadata": {},
     "output_type": "execute_result"
    }
   ],
   "source": [
    "os.environ[\"AWS_S3_ENDPOINT_URL\"] = \"http://localhost:8000\"\n",
    "os.environ[\"AWS_ACCESS_KEY_ID\"] = \"DevAccessKey\"\n",
    "os.environ[\"AWS_SECRET_ACCESS_KEY\"] = \"DevSecretKey\"\n",
    "processed_ds_art = wandb.Artifact(name='vehicle_defaults_processed',\n",
    "                                  type='processed_dataset',\n",
    "                                  description='One-hot encoded dataset',\n",
    "                                  metadata={'preprocessing_fn': function_to_string(one_hot_encode_data)}\n",
    "                                  )\n",
    "processed_ds_art.add_reference('s3://creditscore/datasets/vehicle_defaults_processed')\n"
   ]
  },
  {
   "cell_type": "code",
   "execution_count": null,
   "metadata": {
    "pycharm": {
     "name": "#%%\n"
    }
   },
   "outputs": [],
   "source": []
  },
  {
   "cell_type": "code",
   "execution_count": 56,
   "metadata": {
    "pycharm": {
     "name": "#%%\n"
    }
   },
   "outputs": [
    {
     "data": {
      "text/plain": [
       "<ManifestEntry digest: cslJubeoq5UrWhqw3sBeqw==>"
      ]
     },
     "execution_count": 56,
     "metadata": {},
     "output_type": "execute_result"
    }
   ],
   "source": [
    "# Attach our processed data to the Artifact\n",
    "processed_ds_art.add_file(processed_data_path)"
   ]
  },
  {
   "cell_type": "code",
   "execution_count": 57,
   "metadata": {
    "pycharm": {
     "name": "#%%\n"
    }
   },
   "outputs": [
    {
     "data": {
      "text/html": [
       "<br/>Waiting for W&B process to finish, PID 67562... <strong style=\"color:green\">(success).</strong>"
      ],
      "text/plain": [
       "<IPython.core.display.HTML object>"
      ]
     },
     "metadata": {},
     "output_type": "display_data"
    },
    {
     "data": {
      "application/vnd.jupyter.widget-view+json": {
       "model_id": "d1c89dd4976c4d15860160a373f1f8ef",
       "version_major": 2,
       "version_minor": 0
      },
      "text/plain": [
       "VBox(children=(Label(value=' 22.14MB of 22.14MB uploaded (22.14MB deduped)\\r'), FloatProgress(value=1.0, max=1…"
      ]
     },
     "metadata": {},
     "output_type": "display_data"
    },
    {
     "data": {
      "text/html": [
       "<style>\n",
       "    table.wandb td:nth-child(1) { padding: 0 10px; text-align: right }\n",
       "    .wandb-row { display: flex; flex-direction: row; flex-wrap: wrap; width: 100% }\n",
       "    .wandb-col { display: flex; flex-direction: column; flex-basis: 100%; flex: 1; padding: 10px; }\n",
       "    </style>\n",
       "<div class=\"wandb-row\"><div class=\"wandb-col\">\n",
       "</div><div class=\"wandb-col\">\n",
       "</div></div>\n",
       "Synced 6 W&B file(s), 0 media file(s), 1 artifact file(s) and 1 other file(s)\n",
       "<br/>Synced <strong style=\"color:#cdcd00\">score2</strong>: <a href=\"http://localhost:8080/den/credit_scorecard/runs/2dahspcv\" target=\"_blank\">http://localhost:8080/den/credit_scorecard/runs/2dahspcv</a><br/>\n",
       "Find logs at: <code>./wandb/run-20220220_220213-2dahspcv/logs</code><br/>\n"
      ],
      "text/plain": [
       "<IPython.core.display.HTML object>"
      ]
     },
     "metadata": {},
     "output_type": "display_data"
    }
   ],
   "source": [
    "run.log_artifact(processed_ds_art)\n",
    "run.finish()"
   ]
  },
  {
   "cell_type": "code",
   "execution_count": null,
   "metadata": {
    "pycharm": {
     "name": "#%%\n"
    }
   },
   "outputs": [],
   "source": []
  },
  {
   "cell_type": "code",
   "execution_count": null,
   "metadata": {
    "pycharm": {
     "name": "#%%\n"
    }
   },
   "outputs": [],
   "source": []
  },
  {
   "cell_type": "code",
   "execution_count": null,
   "metadata": {
    "pycharm": {
     "name": "#%%\n"
    }
   },
   "outputs": [],
   "source": []
  },
  {
   "cell_type": "code",
   "execution_count": 58,
   "metadata": {
    "pycharm": {
     "name": "#%%\n"
    }
   },
   "outputs": [
    {
     "data": {
      "text/html": [
       "\n",
       "                    Syncing run <strong><a href=\"http://localhost:8080/den/credit_scorecard/runs/24ne6l7c\" target=\"_blank\">model1</a></strong> to <a href=\"http://localhost:8080/den/credit_scorecard\" target=\"_blank\">Weights & Biases</a> (<a href=\"https://docs.wandb.com/integrations/jupyter.html\" target=\"_blank\">docs</a>).<br/>\n",
       "\n",
       "                "
      ],
      "text/plain": [
       "<IPython.core.display.HTML object>"
      ]
     },
     "metadata": {},
     "output_type": "display_data"
    },
    {
     "name": "stdout",
     "output_type": "stream",
     "text": [
      "Train dataset size: 0    136907\n",
      "1     37958\n",
      "Name: loan_default, dtype: int64 \n",
      "\n",
      "Validation dataset sizeL 0    45636\n",
      "1    12653\n",
      "Name: loan_default, dtype: int64\n"
     ]
    },
    {
     "name": "stderr",
     "output_type": "stream",
     "text": [
      "\u001b[34m\u001b[1mwandb\u001b[0m: Generating checksum for up to 10000 objects with prefix \"artefacts\"... Done. 0.0s\n"
     ]
    },
    {
     "data": {
      "text/html": [
       "<br/>Waiting for W&B process to finish, PID 75093... <strong style=\"color:green\">(success).</strong>"
      ],
      "text/plain": [
       "<IPython.core.display.HTML object>"
      ]
     },
     "metadata": {},
     "output_type": "display_data"
    },
    {
     "data": {
      "application/vnd.jupyter.widget-view+json": {
       "model_id": "101d4f8ec9584e9d9e8516abbd282ead",
       "version_major": 2,
       "version_minor": 0
      },
      "text/plain": [
       "VBox(children=(Label(value=' 22.14MB of 22.14MB uploaded (0.00MB deduped)\\r'), FloatProgress(value=1.0, max=1.…"
      ]
     },
     "metadata": {},
     "output_type": "display_data"
    },
    {
     "data": {
      "text/html": [
       "<style>\n",
       "    table.wandb td:nth-child(1) { padding: 0 10px; text-align: right }\n",
       "    .wandb-row { display: flex; flex-direction: row; flex-wrap: wrap; width: 100% }\n",
       "    .wandb-col { display: flex; flex-direction: column; flex-basis: 100%; flex: 1; padding: 10px; }\n",
       "    </style>\n",
       "<div class=\"wandb-row\"><div class=\"wandb-col\">\n",
       "</div><div class=\"wandb-col\">\n",
       "</div></div>\n",
       "Synced 6 W&B file(s), 0 media file(s), 2 artifact file(s) and 1 other file(s)\n",
       "<br/>Synced <strong style=\"color:#cdcd00\">model1</strong>: <a href=\"http://localhost:8080/den/credit_scorecard/runs/24ne6l7c\" target=\"_blank\">http://localhost:8080/den/credit_scorecard/runs/24ne6l7c</a><br/>\n",
       "Find logs at: <code>./wandb/run-20220220_232805-24ne6l7c/logs</code><br/>\n"
      ],
      "text/plain": [
       "<IPython.core.display.HTML object>"
      ]
     },
     "metadata": {},
     "output_type": "display_data"
    }
   ],
   "source": [
    "with wandb.init(entity=ENTITY, name=\"model1\", project='credit_scorecard', job_type='train-val-split', config={'wandb_nb':'wandb_credit_soc'}) as run:     # config is optional here\n",
    "\n",
    "    # Download the subset of the vehicle loan default data from W&B\n",
    "    dataset_art = run.use_artifact('vehicle_defaults_processed:latest', type='processed_dataset')\n",
    "    dataset_dir = dataset_art.download(data_dir)\n",
    "    dataset = pd.read_csv(processed_data_path)\n",
    "\n",
    "    # Set Split Params\n",
    "    test_size = 0.25\n",
    "    random_state = 42\n",
    "\n",
    "    # Log the splilt params\n",
    "    run.config.update({'test_size':test_size, 'random_state': random_state})\n",
    "\n",
    "    # Do the Train/Val Split\n",
    "    trndat, valdat = model_selection.train_test_split(dataset, test_size=test_size,\n",
    "                                                      random_state=random_state, stratify=dataset[[targ_var]])\n",
    "\n",
    "    print(f'Train dataset size: {trndat[targ_var].value_counts()} \\n')\n",
    "    print(f'Validation dataset sizeL {valdat[targ_var].value_counts()}')\n",
    "\n",
    "    # Save split datasets\n",
    "    train_path = data_dir/'train.csv'\n",
    "    val_path = data_dir/'val.csv'\n",
    "    trndat.to_csv(train_path, index=False)\n",
    "    valdat.to_csv(val_path, index=False)\n",
    "\n",
    "    s3_client.upload_file(train_path.__str__(), 'creditscore', '')\n",
    "    # Create a new artifact for the processed data, including the function that created it, to Artifacts\n",
    "    split_ds_art = wandb.Artifact(name='vehicle_defaults_split',\n",
    "                                  type='train-val-dataset',\n",
    "                                  description='Processed dataset split into train and valiation',\n",
    "                                  metadata={'test_size': test_size, 'random_state': random_state}\n",
    "                                  )\n",
    "    split_ds_art.add_reference('s3://creditscore/artefacts')\n",
    "\n",
    "    # Attach our processed data to the Artifact\n",
    "    split_ds_art.add_file('train.csv')\n",
    "    split_ds_art.add_file('val.csv')\n",
    "\n",
    "    # Log the Artifact\n",
    "    run.log_artifact(split_ds_art)"
   ]
  },
  {
   "cell_type": "code",
   "execution_count": null,
   "metadata": {
    "pycharm": {
     "name": "#%%\n"
    }
   },
   "outputs": [],
   "source": []
  }
 ],
 "metadata": {
  "kernelspec": {
   "display_name": "Python 3",
   "language": "python",
   "name": "python3"
  },
  "language_info": {
   "codemirror_mode": {
    "name": "ipython",
    "version": 3
   },
   "file_extension": ".py",
   "mimetype": "text/x-python",
   "name": "python",
   "nbconvert_exporter": "python",
   "pygments_lexer": "ipython3",
   "version": "3.9.9"
  }
 },
 "nbformat": 4,
 "nbformat_minor": 1
}
