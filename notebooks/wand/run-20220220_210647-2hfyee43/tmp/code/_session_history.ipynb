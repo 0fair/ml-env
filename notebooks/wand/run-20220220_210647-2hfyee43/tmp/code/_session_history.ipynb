{
 "cells": [
  {
   "cell_type": "code",
   "execution_count": 1,
   "id": "6e05fdd0",
   "metadata": {},
   "outputs": [],
   "source": [
    "print 'test'"
   ]
  },
  {
   "cell_type": "code",
   "execution_count": 2,
   "id": "dbc49d6d",
   "metadata": {},
   "outputs": [],
   "source": [
    "print('test')"
   ]
  },
  {
   "cell_type": "code",
   "execution_count": 3,
   "id": "43918a4b",
   "metadata": {},
   "outputs": [],
   "source": [
    "!pip install -r ../requirements.txt"
   ]
  },
  {
   "cell_type": "code",
   "execution_count": 4,
   "id": "6096567a",
   "metadata": {},
   "outputs": [],
   "source": [
    "!pip install wandb"
   ]
  },
  {
   "cell_type": "code",
   "execution_count": 5,
   "id": "86728804",
   "metadata": {},
   "outputs": [],
   "source": [
    " !wandb login --host=http://localhost:8080"
   ]
  },
  {
   "cell_type": "code",
   "execution_count": 6,
   "id": "a0454254",
   "metadata": {},
   "outputs": [],
   "source": [
    " !wandb login --help"
   ]
  },
  {
   "cell_type": "code",
   "execution_count": 7,
   "id": "1d980089",
   "metadata": {},
   "outputs": [],
   "source": [
    "wandb.login(key='local-8c4310dcf3cb371cac7343a466e09de6b04e4282', host='http://localhost:8080')"
   ]
  },
  {
   "cell_type": "code",
   "execution_count": 8,
   "id": "460c8735",
   "metadata": {},
   "outputs": [],
   "source": [
    "import wandb"
   ]
  },
  {
   "cell_type": "code",
   "execution_count": 9,
   "id": "780b6325",
   "metadata": {},
   "outputs": [
    {
     "name": "stdout",
     "output_type": "stream",
     "text": [
      "True"
     ]
    }
   ],
   "source": [
    "wandb.login(key='local-8c4310dcf3cb371cac7343a466e09de6b04e4282', host='http://localhost:8080')"
   ]
  },
  {
   "cell_type": "code",
   "execution_count": 10,
   "id": "b976f5d9",
   "metadata": {},
   "outputs": [],
   "source": [
    "!pip install -qq wandb\n",
    "!pip install -qq xgboost==1.3.3\n",
    "!pip install -Uqq scikit-learn==0.24.1"
   ]
  },
  {
   "cell_type": "code",
   "execution_count": 11,
   "id": "dd628d42",
   "metadata": {},
   "outputs": [],
   "source": [
    "!pip install -qq wandb\n",
    "!pip install -qq xgboost==1.3.3\n",
    "!pip install -Uqq scikit-learn==0.24.1"
   ]
  },
  {
   "cell_type": "code",
   "execution_count": 12,
   "id": "6e868fbd",
   "metadata": {},
   "outputs": [],
   "source": [
    "import ast\n",
    "import sys\n",
    "import json\n",
    "from pathlib import Path\n",
    "from dill.source import getsource\n",
    "from dill import detect\n",
    "\n",
    "import pandas as pd\n",
    "import numpy as np\n",
    "import plotly\n",
    "import matplotlib.pyplot as plt\n",
    "\n",
    "from scipy.stats import ks_2samp\n",
    "from sklearn import metrics\n",
    "from sklearn import model_selection\n",
    "import xgboost as xgb\n",
    "\n",
    "pd.set_option('display.max_columns', None)"
   ]
  },
  {
   "cell_type": "code",
   "execution_count": 13,
   "id": "c9c7225d",
   "metadata": {},
   "outputs": [],
   "source": [
    "!pip install dill"
   ]
  },
  {
   "cell_type": "code",
   "execution_count": 14,
   "id": "99c4e0d2",
   "metadata": {},
   "outputs": [],
   "source": [
    "import ast\n",
    "import sys\n",
    "import json\n",
    "from pathlib import Path\n",
    "from dill.source import getsource\n",
    "from dill import detect\n",
    "\n",
    "import pandas as pd\n",
    "import numpy as np\n",
    "import plotly\n",
    "import matplotlib.pyplot as plt\n",
    "\n",
    "from scipy.stats import ks_2samp\n",
    "from sklearn import metrics\n",
    "from sklearn import model_selection\n",
    "import xgboost as xgb\n",
    "\n",
    "pd.set_option('display.max_columns', None)"
   ]
  },
  {
   "cell_type": "code",
   "execution_count": 15,
   "id": "fec1313b",
   "metadata": {},
   "outputs": [],
   "source": [
    "!pip install pandas"
   ]
  },
  {
   "cell_type": "code",
   "execution_count": 16,
   "id": "36d930ea",
   "metadata": {},
   "outputs": [],
   "source": [
    "import ast\n",
    "import sys\n",
    "import json\n",
    "from pathlib import Path\n",
    "from dill.source import getsource\n",
    "from dill import detect\n",
    "\n",
    "import pandas as pd\n",
    "import numpy as np\n",
    "import plotly\n",
    "import matplotlib.pyplot as plt\n",
    "\n",
    "from scipy.stats import ks_2samp\n",
    "from sklearn import metrics\n",
    "from sklearn import model_selection\n",
    "import xgboost as xgb\n",
    "\n",
    "pd.set_option('display.max_columns', None)"
   ]
  },
  {
   "cell_type": "code",
   "execution_count": 17,
   "id": "550e4d4b",
   "metadata": {},
   "outputs": [],
   "source": [
    "!pip install plotly"
   ]
  },
  {
   "cell_type": "code",
   "execution_count": 18,
   "id": "cee68d7c",
   "metadata": {},
   "outputs": [],
   "source": [
    "!pip install --upgrade pip"
   ]
  },
  {
   "cell_type": "code",
   "execution_count": 19,
   "id": "68873f53",
   "metadata": {},
   "outputs": [],
   "source": [
    "import ast\n",
    "import sys\n",
    "import json\n",
    "from pathlib import Path\n",
    "from dill.source import getsource\n",
    "from dill import detect\n",
    "\n",
    "import pandas as pd\n",
    "import numpy as np\n",
    "import plotly\n",
    "import matplotlib.pyplot as plt\n",
    "\n",
    "from scipy.stats import ks_2samp\n",
    "from sklearn import metrics\n",
    "from sklearn import model_selection\n",
    "import xgboost as xgb\n",
    "\n",
    "pd.set_option('display.max_columns', None)"
   ]
  },
  {
   "cell_type": "code",
   "execution_count": 20,
   "id": "705908b5",
   "metadata": {},
   "outputs": [],
   "source": [
    "!pip install matplotlib"
   ]
  },
  {
   "cell_type": "code",
   "execution_count": 21,
   "id": "f7dd650d",
   "metadata": {},
   "outputs": [],
   "source": [
    "import ast\n",
    "import sys\n",
    "import json\n",
    "from pathlib import Path\n",
    "from dill.source import getsource\n",
    "from dill import detect\n",
    "\n",
    "import pandas as pd\n",
    "import numpy as np\n",
    "import plotly\n",
    "import matplotlib.pyplot as plt\n",
    "\n",
    "from scipy.stats import ks_2samp\n",
    "from sklearn import metrics\n",
    "from sklearn import model_selection\n",
    "import xgboost as xgb\n",
    "\n",
    "pd.set_option('display.max_columns', None)"
   ]
  },
  {
   "cell_type": "code",
   "execution_count": 22,
   "id": "ba4f8b23",
   "metadata": {},
   "outputs": [],
   "source": [
    "import ast\n",
    "import sys\n",
    "import json\n",
    "from pathlib import Path\n",
    "from dill.source import getsource\n",
    "from dill import detect\n",
    "\n",
    "import pandas as pd\n",
    "import numpy as np\n",
    "import plotly\n",
    "import matplotlib.pyplot as plt\n",
    "\n",
    "from scipy.stats import ks_2samp\n",
    "from sklearn import metrics\n",
    "from sklearn import model_selection\n",
    "import xgboost as xgb\n",
    "\n",
    "pd.set_option('display.max_columns', None)"
   ]
  },
  {
   "cell_type": "code",
   "execution_count": 23,
   "id": "1c2993c8",
   "metadata": {},
   "outputs": [],
   "source": [
    "ENTITY = None"
   ]
  },
  {
   "cell_type": "code",
   "execution_count": 24,
   "id": "fe97a734",
   "metadata": {},
   "outputs": [],
   "source": [
    "data_dir = Path('.')\n",
    "model_dir = Path('models')\n",
    "model_dir.mkdir(exist_ok=True)\n",
    "\n",
    "id_vars = ['UniqueID']\n",
    "targ_var = 'loan_default'"
   ]
  },
  {
   "cell_type": "code",
   "execution_count": 25,
   "id": "93521d0c",
   "metadata": {},
   "outputs": [],
   "source": [
    "def function_to_string(fn):\n",
    "    return getsource(detect.code(fn)) "
   ]
  },
  {
   "cell_type": "code",
   "execution_count": 26,
   "id": "a3fb63f5",
   "metadata": {},
   "outputs": [],
   "source": [
    "run = wandb.init(entity=ENTITY, project='credit_scorecard', job_type='preprocess-data', config={'wandb_nb':'wandb_credit_soc'})  # config is optional here"
   ]
  },
  {
   "cell_type": "code",
   "execution_count": 27,
   "id": "86749036",
   "metadata": {},
   "outputs": [],
   "source": [
    "data_dir = Path('../data/')\n",
    "model_dir = Path('../models')\n",
    "model_dir.mkdir(exist_ok=True)\n",
    "\n",
    "id_vars = ['UniqueID']\n",
    "targ_var = 'loan_default'"
   ]
  },
  {
   "cell_type": "code",
   "execution_count": 28,
   "id": "ea88b020",
   "metadata": {},
   "outputs": [],
   "source": [
    "dataset_art = run.use_artifact('morgan/credit_scorecard/vehicle_loan_defaults:latest', type='dataset')\n",
    "dataset_dir = dataset_art.download(data_dir)"
   ]
  },
  {
   "cell_type": "code",
   "execution_count": 29,
   "id": "8ca1acd4",
   "metadata": {},
   "outputs": [],
   "source": [
    "from src.data_utils import (\n",
    "    describe_data_g_targ,\n",
    "    one_hot_encode_data,\n",
    "    create_feature_interaction_constraints,\n",
    "    get_monotonic_constraints,\n",
    "    load_training_data,\n",
    "    calculate_credit_scores\n",
    ")\n",
    "\n",
    "from src.scorecard import generate_scorecard"
   ]
  },
  {
   "cell_type": "code",
   "execution_count": 30,
   "id": "d4cc010c",
   "metadata": {},
   "outputs": [
    {
     "name": "stdout",
     "output_type": "stream",
     "text": [
      "   UniqueID    LTV  manufacturer_id Employment_Type  State_ID  \\\n",
      "0    417428  88.17               86   Self employed         4   \n",
      "1    417429  83.78               86        Salaried         8   \n",
      "2    417430  77.39               86   Self employed         6   \n",
      "3    417431  72.14               86   Self employed         3   \n",
      "4    417432  85.92               86   Self employed         6   \n",
      "\n",
      "   PERFORM_CNS_SCORE  AgeInMonths  DaysSinceDisbursement  loan_default  \n",
      "0              681.0        638.0                  153.0             0  \n",
      "1              384.0        478.0                  153.0             0  \n",
      "2                NaN        441.0                  153.0             0  \n",
      "3                NaN        384.0                  153.0             0  \n",
      "4              721.0        343.0                  153.0             0  "
     ]
    }
   ],
   "source": [
    "dataset = pd.read_csv(data_dir/'vehicle_loans_subset.csv')\n",
    "dataset.head()"
   ]
  },
  {
   "cell_type": "code",
   "execution_count": 31,
   "id": "70ec6982",
   "metadata": {},
   "outputs": [],
   "source": [
    "dataset, p_vars = one_hot_encode_data(dataset, id_vars, targ_var)"
   ]
  },
  {
   "cell_type": "code",
   "execution_count": 32,
   "id": "789e9d7c",
   "metadata": {},
   "outputs": [
    {
     "name": "stdout",
     "output_type": "stream",
     "text": [
      "   UniqueID  loan_default  AgeInMonths  DaysSinceDisbursement    LTV  \\\n",
      "0    417428             0        638.0                  153.0  88.17   \n",
      "1    417429             0        478.0                  153.0  83.78   \n",
      "2    417430             0        441.0                  153.0  77.39   \n",
      "3    417431             0        384.0                  153.0  72.14   \n",
      "4    417432             0        343.0                  153.0  85.92   \n",
      "\n",
      "   PERFORM_CNS_SCORE  Employment_Type__Salaried  \\\n",
      "0              681.0                          0   \n",
      "1              384.0                          1   \n",
      "2                NaN                          0   \n",
      "3                NaN                          0   \n",
      "4              721.0                          0   \n",
      "\n",
      "   Employment_Type__Self employed  State_ID__1  State_ID__2  State_ID__3  \\\n",
      "0                               1            0            0            0   \n",
      "1                               0            0            0            0   \n",
      "2                               1            0            0            0   \n",
      "3                               1            0            0            1   \n",
      "4                               1            0            0            0   \n",
      "\n",
      "   State_ID__4  State_ID__5  State_ID__6  State_ID__7  State_ID__8  \\\n",
      "0            1            0            0            0            0   \n",
      "1            0            0            0            0            1   \n",
      "2            0            0            1            0            0   \n",
      "3            0            0            0            0            0   \n",
      "4            0            0            1            0            0   \n",
      "\n",
      "   State_ID__9  State_ID__10  State_ID__11  State_ID__12  State_ID__13  \\\n",
      "0            0             0             0             0             0   \n",
      "1            0             0             0             0             0   \n",
      "2            0             0             0             0             0   \n",
      "3            0             0             0             0             0   \n",
      "4            0             0             0             0             0   \n",
      "\n",
      "   State_ID__14  State_ID__15  State_ID__16  State_ID__17  State_ID__18  \\\n",
      "0             0             0             0             0             0   \n",
      "1             0             0             0             0             0   \n",
      "2             0             0             0             0             0   \n",
      "3             0             0             0             0             0   \n",
      "4             0             0             0             0             0   \n",
      "\n",
      "   State_ID__19  State_ID__20  State_ID__21  State_ID__22  \\\n",
      "0             0             0             0             0   \n",
      "1             0             0             0             0   \n",
      "2             0             0             0             0   \n",
      "3             0             0             0             0   \n",
      "4             0             0             0             0   \n",
      "\n",
      "   manufacturer_id__45  manufacturer_id__48  manufacturer_id__49  \\\n",
      "0                    0                    0                    0   \n",
      "1                    0                    0                    0   \n",
      "2                    0                    0                    0   \n",
      "3                    0                    0                    0   \n",
      "4                    0                    0                    0   \n",
      "\n",
      "   manufacturer_id__51  manufacturer_id__67  manufacturer_id__86  \\\n",
      "0                    0                    0                    1   \n",
      "1                    0                    0                    1   \n",
      "2                    0                    0                    1   \n",
      "3                    0                    0                    1   \n",
      "4                    0                    0                    1   \n",
      "\n",
      "   manufacturer_id__120  manufacturer_id__145  manufacturer_id__152  \\\n",
      "0                     0                     0                     0   \n",
      "1                     0                     0                     0   \n",
      "2                     0                     0                     0   \n",
      "3                     0                     0                     0   \n",
      "4                     0                     0                     0   \n",
      "\n",
      "   manufacturer_id__153  manufacturer_id__156  \n",
      "0                     0                     0  \n",
      "1                     0                     0  \n",
      "2                     0                     0  \n",
      "3                     0                     0  \n",
      "4                     0                     0  "
     ]
    }
   ],
   "source": [
    "dataset.head()"
   ]
  },
  {
   "cell_type": "code",
   "execution_count": 33,
   "id": "cc65101b",
   "metadata": {},
   "outputs": [
    {
     "name": "stdout",
     "output_type": "stream",
     "text": [
      "['AgeInMonths',\n",
      " 'DaysSinceDisbursement',\n",
      " 'LTV',\n",
      " 'PERFORM_CNS_SCORE',\n",
      " 'Employment_Type__Salaried',\n",
      " 'Employment_Type__Self employed',\n",
      " 'State_ID__1',\n",
      " 'State_ID__2',\n",
      " 'State_ID__3',\n",
      " 'State_ID__4',\n",
      " 'State_ID__5',\n",
      " 'State_ID__6',\n",
      " 'State_ID__7',\n",
      " 'State_ID__8',\n",
      " 'State_ID__9',\n",
      " 'State_ID__10',\n",
      " 'State_ID__11',\n",
      " 'State_ID__12',\n",
      " 'State_ID__13',\n",
      " 'State_ID__14',\n",
      " 'State_ID__15',\n",
      " 'State_ID__16',\n",
      " 'State_ID__17',\n",
      " 'State_ID__18',\n",
      " 'State_ID__19',\n",
      " 'State_ID__20',\n",
      " 'State_ID__21',\n",
      " 'State_ID__22',\n",
      " 'manufacturer_id__45',\n",
      " 'manufacturer_id__48',\n",
      " 'manufacturer_id__49',\n",
      " 'manufacturer_id__51',\n",
      " 'manufacturer_id__67',\n",
      " 'manufacturer_id__86',\n",
      " 'manufacturer_id__120',\n",
      " 'manufacturer_id__145',\n",
      " 'manufacturer_id__152',\n",
      " 'manufacturer_id__153',\n",
      " 'manufacturer_id__156']"
     ]
    }
   ],
   "source": [
    "p_vars"
   ]
  },
  {
   "cell_type": "code",
   "execution_count": 34,
   "id": "46cd7501",
   "metadata": {},
   "outputs": [],
   "source": [
    "# p_vars - это фичи, числовые и категориальные\n",
    "делаем датасет для категори"
   ]
  },
  {
   "cell_type": "code",
   "execution_count": 35,
   "id": "3d1d77b9",
   "metadata": {},
   "outputs": [],
   "source": [
    "processed_data_path = data_dir/'proc_ds.csv'"
   ]
  },
  {
   "cell_type": "code",
   "execution_count": 36,
   "id": "1a25138f",
   "metadata": {},
   "outputs": [],
   "source": [
    "processed_data_path = data_dir/'proc_ds.csv'\n",
    "dataset.to_csv(processed_data_path, index=False)"
   ]
  },
  {
   "cell_type": "code",
   "execution_count": 37,
   "id": "1263354e",
   "metadata": {},
   "outputs": [],
   "source": [
    "processed_ds_art = wandb.Artifact(name='vehicle_defaults_processed',\n",
    "                                  type='processed_dataset',\n",
    "                                  description='One-hot encoded dataset',\n",
    "                                  metadata={'preprocessing_fn': function_to_string(one_hot_encode_data)}\n",
    "                                  )"
   ]
  },
  {
   "cell_type": "code",
   "execution_count": 38,
   "id": "90a4cbb3",
   "metadata": {},
   "outputs": [
    {
     "name": "stdout",
     "output_type": "stream",
     "text": [
      "<ManifestEntry digest: cslJubeoq5UrWhqw3sBeqw==>"
     ]
    }
   ],
   "source": [
    "# Attach our processed data to the Artifact \n",
    "processed_ds_art.add_file(processed_data_path)"
   ]
  },
  {
   "cell_type": "code",
   "execution_count": 39,
   "id": "90319431",
   "metadata": {},
   "outputs": [],
   "source": [
    "run.log_artifact(processed_ds_art);\n",
    "run.finish()"
   ]
  },
  {
   "cell_type": "code",
   "execution_count": 40,
   "id": "9d7bbb53",
   "metadata": {},
   "outputs": [
    {
     "data": {
      "text/html": [
       "\n",
       "                    Syncing run <strong><a href=\"http://localhost:8080/den/credit_scorecard/runs/2hfyee43\" target=\"_blank\">score1</a></strong> to <a href=\"http://localhost:8080/den/credit_scorecard\" target=\"_blank\">Weights & Biases</a> (<a href=\"https://docs.wandb.com/integrations/jupyter.html\" target=\"_blank\">docs</a>).<br/>\n",
       "\n",
       "                "
      ],
      "text/plain": [
       "<IPython.core.display.HTML object>"
      ]
     },
     "metadata": {},
     "output_type": "display_data"
    }
   ],
   "source": [
    "run = wandb.init(entity=ENTITY, name=\"score1\", project='credit_scorecard', job_type='preprocess-data', config={'wandb_nb':'wandb_credit_soc'})  # config is optional here"
   ]
  },
  {
   "cell_type": "code",
   "execution_count": 41,
   "id": "3becb031",
   "metadata": {},
   "outputs": [],
   "source": [
    "from src.data_utils import (\n",
    "    describe_data_g_targ,\n",
    "    one_hot_encode_data,\n",
    "    create_feature_interaction_constraints,\n",
    "    get_monotonic_constraints,\n",
    "    load_training_data,\n",
    "    calculate_credit_scores\n",
    ")\n",
    "\n",
    "from src.scorecard import generate_scorecard"
   ]
  },
  {
   "cell_type": "code",
   "execution_count": 42,
   "id": "569936a2",
   "metadata": {},
   "outputs": [
    {
     "name": "stdout",
     "output_type": "stream",
     "text": [
      "   UniqueID    LTV  manufacturer_id Employment_Type  State_ID  \\\n",
      "0    417428  88.17               86   Self employed         4   \n",
      "1    417429  83.78               86        Salaried         8   \n",
      "2    417430  77.39               86   Self employed         6   \n",
      "3    417431  72.14               86   Self employed         3   \n",
      "4    417432  85.92               86   Self employed         6   \n",
      "\n",
      "   PERFORM_CNS_SCORE  AgeInMonths  DaysSinceDisbursement  loan_default  \n",
      "0              681.0        638.0                  153.0             0  \n",
      "1              384.0        478.0                  153.0             0  \n",
      "2                NaN        441.0                  153.0             0  \n",
      "3                NaN        384.0                  153.0             0  \n",
      "4              721.0        343.0                  153.0             0  "
     ]
    }
   ],
   "source": [
    "dataset = pd.read_csv(data_dir/'vehicle_loans_subset.csv')\n",
    "dataset.head()"
   ]
  },
  {
   "cell_type": "code",
   "execution_count": 43,
   "id": "15f1a8ce",
   "metadata": {},
   "outputs": [],
   "source": [
    "dataset, p_vars = one_hot_encode_data(dataset, id_vars, targ_var)"
   ]
  },
  {
   "cell_type": "code",
   "execution_count": 44,
   "id": "16d73d1a",
   "metadata": {},
   "outputs": [],
   "source": [
    "processed_data_path = data_dir/'proc_ds.csv'\n",
    "dataset.to_csv(processed_data_path, index=False)"
   ]
  },
  {
   "cell_type": "code",
   "execution_count": 45,
   "id": "5893422f",
   "metadata": {},
   "outputs": [],
   "source": [
    "processed_ds_art = wandb.Artifact(name='vehicle_defaults_processed',\n",
    "                                  type='processed_dataset',\n",
    "                                  description='One-hot encoded dataset',\n",
    "                                  metadata={'preprocessing_fn': function_to_string(one_hot_encode_data)}\n",
    "                                  )"
   ]
  },
  {
   "cell_type": "code",
   "execution_count": 46,
   "id": "9d690ed9",
   "metadata": {},
   "outputs": [
    {
     "name": "stdout",
     "output_type": "stream",
     "text": [
      "<ManifestEntry digest: cslJubeoq5UrWhqw3sBeqw==>"
     ]
    }
   ],
   "source": [
    "# Attach our processed data to the Artifact\n",
    "processed_ds_art.add_file(processed_data_path)"
   ]
  },
  {
   "cell_type": "code",
   "execution_count": 47,
   "id": "349dd7a6",
   "metadata": {},
   "outputs": [],
   "source": [
    "run.log_artifact(processed_ds_art)\n",
    "run.finish()"
   ]
  }
 ],
 "metadata": {
  "kernelspec": {
   "display_name": "Python 3",
   "language": "python",
   "name": "python3"
  },
  "language_info": {
   "codemirror_mode": {
    "name": "ipython",
    "version": 3
   },
   "file_extension": ".py",
   "mimetype": "text/x-python",
   "name": "python",
   "nbconvert_exporter": "python",
   "pygments_lexer": "ipython3",
   "version": "3.9.9"
  }
 },
 "nbformat": 4,
 "nbformat_minor": 5
}
