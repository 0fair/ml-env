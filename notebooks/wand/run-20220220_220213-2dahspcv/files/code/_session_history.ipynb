{
 "cells": [
  {
   "cell_type": "code",
   "execution_count": 1,
   "id": "d189bab0",
   "metadata": {},
   "outputs": [],
   "source": [
    "!export AWS_S3_ENDPOINT_URL=http://localhost:8000\n",
    "!export AWS_ACCESS_KEY_ID=DevAccessKey\n",
    "!export AWS_SECRET_ACCESS_KEY=DevSecretKey"
   ]
  },
  {
   "cell_type": "code",
   "execution_count": 2,
   "id": "e29b5fc9",
   "metadata": {},
   "outputs": [],
   "source": [
    "import wandb\n",
    "wandb.login(key='local-8c4310dcf3cb371cac7343a466e09de6b04e4282', host='http://localhost:8080')\n",
    "ENTITY = None"
   ]
  },
  {
   "cell_type": "code",
   "execution_count": 3,
   "id": "ac681234",
   "metadata": {},
   "outputs": [],
   "source": [
    "import ast\n",
    "import sys\n",
    "import json\n",
    "import boto3\n",
    "from pathlib import Path\n",
    "from dill.source import getsource\n",
    "from dill import detect\n",
    "\n",
    "import pandas as pd\n",
    "import numpy as np\n",
    "import plotly\n",
    "import matplotlib.pyplot as plt\n",
    "\n",
    "from scipy.stats import ks_2samp\n",
    "from sklearn import metrics\n",
    "from sklearn import model_selection\n",
    "import xgboost as xgb\n",
    "\n",
    "pd.set_option('display.max_columns', None)"
   ]
  },
  {
   "cell_type": "code",
   "execution_count": 4,
   "id": "efebd969",
   "metadata": {},
   "outputs": [],
   "source": [
    "data_dir = Path('../data/')\n",
    "model_dir = Path('../models')\n",
    "model_dir.mkdir(exist_ok=True)\n",
    "\n",
    "id_vars = ['UniqueID']\n",
    "targ_var = 'loan_default'"
   ]
  },
  {
   "cell_type": "code",
   "execution_count": 5,
   "id": "bdc2ae63",
   "metadata": {},
   "outputs": [],
   "source": [
    "def function_to_string(fn):\n",
    "    return getsource(detect.code(fn))"
   ]
  },
  {
   "cell_type": "code",
   "execution_count": 6,
   "id": "860a046b",
   "metadata": {},
   "outputs": [],
   "source": [
    "run = wandb.init(entity=ENTITY, name=\"score1\", project='credit_scorecard', job_type='preprocess-data', config={'wandb_nb':'wandb_credit_soc'})  # config is optional here"
   ]
  },
  {
   "cell_type": "code",
   "execution_count": 7,
   "id": "fbf21672",
   "metadata": {},
   "outputs": [],
   "source": [
    "from src.data_utils import (\n",
    "    describe_data_g_targ,\n",
    "    one_hot_encode_data,\n",
    "    create_feature_interaction_constraints,\n",
    "    get_monotonic_constraints,\n",
    "    load_training_data,\n",
    "    calculate_credit_scores\n",
    ")\n",
    "\n",
    "from src.scorecard import generate_scorecard"
   ]
  },
  {
   "cell_type": "code",
   "execution_count": 8,
   "id": "6a6f265b",
   "metadata": {},
   "outputs": [
    {
     "name": "stdout",
     "output_type": "stream",
     "text": [
      "   UniqueID    LTV  manufacturer_id Employment_Type  State_ID  \\\n",
      "0    417428  88.17               86   Self employed         4   \n",
      "1    417429  83.78               86        Salaried         8   \n",
      "2    417430  77.39               86   Self employed         6   \n",
      "3    417431  72.14               86   Self employed         3   \n",
      "4    417432  85.92               86   Self employed         6   \n",
      "\n",
      "   PERFORM_CNS_SCORE  AgeInMonths  DaysSinceDisbursement  loan_default  \n",
      "0              681.0        638.0                  153.0             0  \n",
      "1              384.0        478.0                  153.0             0  \n",
      "2                NaN        441.0                  153.0             0  \n",
      "3                NaN        384.0                  153.0             0  \n",
      "4              721.0        343.0                  153.0             0  "
     ]
    }
   ],
   "source": [
    "dataset = pd.read_csv(data_dir/'vehicle_loans_subset.csv')\n",
    "dataset.head()"
   ]
  },
  {
   "cell_type": "code",
   "execution_count": 9,
   "id": "774b6d88",
   "metadata": {},
   "outputs": [],
   "source": [
    "dataset, p_vars = one_hot_encode_data(dataset, id_vars, targ_var)"
   ]
  },
  {
   "cell_type": "code",
   "execution_count": 10,
   "id": "ee21efc1",
   "metadata": {},
   "outputs": [],
   "source": [
    "processed_data_path = data_dir/'proc_ds.csv'\n",
    "dataset.to_csv(processed_data_path, index=False)"
   ]
  },
  {
   "cell_type": "code",
   "execution_count": 11,
   "id": "bf24b2cc",
   "metadata": {},
   "outputs": [],
   "source": [
    "processed_ds_art = wandb.Artifact(name='vehicle_defaults_processed',\n",
    "                                  type='processed_dataset',\n",
    "                                  description='One-hot encoded dataset',\n",
    "                                  metadata={'preprocessing_fn': function_to_string(one_hot_encode_data)}\n",
    "                                  )\n",
    "processed_ds_art.add_reference('s3://creditscore/datasets/process')"
   ]
  },
  {
   "cell_type": "code",
   "execution_count": 12,
   "id": "2533a41b",
   "metadata": {},
   "outputs": [],
   "source": [
    "import ast\n",
    "import sys\n",
    "import os\n",
    "import json\n",
    "import boto3\n",
    "from pathlib import Path\n",
    "from dill.source import getsource\n",
    "from dill import detect\n",
    "\n",
    "import pandas as pd\n",
    "import numpy as np\n",
    "import plotly\n",
    "import matplotlib.pyplot as plt\n",
    "\n",
    "from scipy.stats import ks_2samp\n",
    "from sklearn import metrics\n",
    "from sklearn import model_selection\n",
    "import xgboost as xgb\n",
    "\n",
    "pd.set_option('display.max_columns', None)"
   ]
  },
  {
   "cell_type": "code",
   "execution_count": 13,
   "id": "4f7fc889",
   "metadata": {},
   "outputs": [],
   "source": [
    "import ast\n",
    "import sys\n",
    "import os\n",
    "import json\n",
    "import boto3\n",
    "from pathlib import Path\n",
    "from dill.source import getsource\n",
    "from dill import detect\n",
    "\n",
    "import pandas as pd\n",
    "import numpy as np\n",
    "import plotly\n",
    "import matplotlib.pyplot as plt\n",
    "\n",
    "from scipy.stats import ks_2samp\n",
    "from sklearn import metrics\n",
    "from sklearn import model_selection\n",
    "import xgboost as xgb\n",
    "\n",
    "pd.set_option('display.max_columns', None)"
   ]
  },
  {
   "cell_type": "code",
   "execution_count": 14,
   "id": "ad69830b",
   "metadata": {},
   "outputs": [],
   "source": [
    "os.environ[\"AWS_S3_ENDPOINT_URL\"] = \"http://localhost:8000\"\n",
    "os.environ[\"AWS_ACCESS_KEY_ID\"] = \"DevAccessKey\"\n",
    "os.environ[\"AWS_SECRET_ACCESS_KEY\"] = \"DevSecretKey\""
   ]
  },
  {
   "cell_type": "code",
   "execution_count": 15,
   "id": "f8858682",
   "metadata": {},
   "outputs": [
    {
     "name": "stdout",
     "output_type": "stream",
     "text": [
      "[]"
     ]
    }
   ],
   "source": [
    "processed_ds_art = wandb.Artifact(name='vehicle_defaults_processed',\n",
    "                                  type='processed_dataset',\n",
    "                                  description='One-hot encoded dataset',\n",
    "                                  metadata={'preprocessing_fn': function_to_string(one_hot_encode_data)}\n",
    "                                  )\n",
    "processed_ds_art.add_reference('s3://creditscore/datasets/process')"
   ]
  },
  {
   "cell_type": "code",
   "execution_count": 16,
   "id": "864487cd",
   "metadata": {},
   "outputs": [
    {
     "name": "stdout",
     "output_type": "stream",
     "text": [
      "<ManifestEntry digest: cslJubeoq5UrWhqw3sBeqw==>"
     ]
    }
   ],
   "source": [
    "# Attach our processed data to the Artifact\n",
    "processed_ds_art.add_file(processed_data_path)"
   ]
  },
  {
   "cell_type": "code",
   "execution_count": 17,
   "id": "6779cf3c",
   "metadata": {},
   "outputs": [],
   "source": [
    "run.log_artifact(processed_ds_art)\n",
    "run.finish()"
   ]
  },
  {
   "cell_type": "code",
   "execution_count": 18,
   "id": "e95a80b5",
   "metadata": {},
   "outputs": [
    {
     "name": "stdout",
     "output_type": "stream",
     "text": [
      "[]"
     ]
    }
   ],
   "source": [
    "processed_ds_art = wandb.Artifact(name='vehicle_defaults_processed',\n",
    "                                  type='processed_dataset',\n",
    "                                  description='One-hot encoded dataset',\n",
    "                                  metadata={'preprocessing_fn': function_to_string(one_hot_encode_data)}\n",
    "                                  )\n",
    "processed_ds_art.add_reference('s3://creditscore/datasets/vehicle_defaults_processed')"
   ]
  },
  {
   "cell_type": "code",
   "execution_count": 19,
   "id": "d38e5c1f",
   "metadata": {},
   "outputs": [
    {
     "name": "stdout",
     "output_type": "stream",
     "text": [
      "<ManifestEntry digest: cslJubeoq5UrWhqw3sBeqw==>"
     ]
    }
   ],
   "source": [
    "# Attach our processed data to the Artifact\n",
    "processed_ds_art.add_file(processed_data_path)"
   ]
  },
  {
   "cell_type": "code",
   "execution_count": 20,
   "id": "8e03d75b",
   "metadata": {},
   "outputs": [],
   "source": [
    "run.log_artifact(processed_ds_art)\n",
    "run.finish()"
   ]
  },
  {
   "cell_type": "code",
   "execution_count": 21,
   "id": "23e603ba",
   "metadata": {},
   "outputs": [],
   "source": [
    "run = wandb.init(entity=ENTITY, name=\"score1\", project='credit_scorecard', job_type='preprocess-data', config={'wandb_nb':'wandb_credit_soc'})  # config is optional here"
   ]
  },
  {
   "cell_type": "code",
   "execution_count": 22,
   "id": "8c6f7b08",
   "metadata": {},
   "outputs": [],
   "source": [
    "from src.data_utils import (\n",
    "    describe_data_g_targ,\n",
    "    one_hot_encode_data,\n",
    "    create_feature_interaction_constraints,\n",
    "    get_monotonic_constraints,\n",
    "    load_training_data,\n",
    "    calculate_credit_scores\n",
    ")\n",
    "\n",
    "from src.scorecard import generate_scorecard"
   ]
  },
  {
   "cell_type": "code",
   "execution_count": 23,
   "id": "b2a9d012",
   "metadata": {},
   "outputs": [
    {
     "name": "stdout",
     "output_type": "stream",
     "text": [
      "   UniqueID    LTV  manufacturer_id Employment_Type  State_ID  \\\n",
      "0    417428  88.17               86   Self employed         4   \n",
      "1    417429  83.78               86        Salaried         8   \n",
      "2    417430  77.39               86   Self employed         6   \n",
      "3    417431  72.14               86   Self employed         3   \n",
      "4    417432  85.92               86   Self employed         6   \n",
      "\n",
      "   PERFORM_CNS_SCORE  AgeInMonths  DaysSinceDisbursement  loan_default  \n",
      "0              681.0        638.0                  153.0             0  \n",
      "1              384.0        478.0                  153.0             0  \n",
      "2                NaN        441.0                  153.0             0  \n",
      "3                NaN        384.0                  153.0             0  \n",
      "4              721.0        343.0                  153.0             0  "
     ]
    }
   ],
   "source": [
    "dataset = pd.read_csv(data_dir/'vehicle_loans_subset.csv')\n",
    "dataset.head()"
   ]
  },
  {
   "cell_type": "code",
   "execution_count": 24,
   "id": "0f4be3ea",
   "metadata": {},
   "outputs": [],
   "source": [
    "dataset, p_vars = one_hot_encode_data(dataset, id_vars, targ_var)"
   ]
  },
  {
   "cell_type": "code",
   "execution_count": 25,
   "id": "0aa973da",
   "metadata": {},
   "outputs": [],
   "source": [
    "processed_data_path = data_dir/'proc_ds.csv'\n",
    "dataset.to_csv(processed_data_path, index=False)"
   ]
  },
  {
   "cell_type": "code",
   "execution_count": 26,
   "id": "201163d5",
   "metadata": {},
   "outputs": [
    {
     "name": "stdout",
     "output_type": "stream",
     "text": [
      "[]"
     ]
    }
   ],
   "source": [
    "processed_ds_art = wandb.Artifact(name='vehicle_defaults_processed',\n",
    "                                  type='processed_dataset',\n",
    "                                  description='One-hot encoded dataset',\n",
    "                                  metadata={'preprocessing_fn': function_to_string(one_hot_encode_data)}\n",
    "                                  )\n",
    "processed_ds_art.add_reference('s3://creditscore/datasets/vehicle_defaults_processed')"
   ]
  },
  {
   "cell_type": "code",
   "execution_count": 27,
   "id": "8b6f8d76",
   "metadata": {},
   "outputs": [
    {
     "name": "stdout",
     "output_type": "stream",
     "text": [
      "<ManifestEntry digest: cslJubeoq5UrWhqw3sBeqw==>"
     ]
    }
   ],
   "source": [
    "# Attach our processed data to the Artifact\n",
    "processed_ds_art.add_file(processed_data_path)"
   ]
  },
  {
   "cell_type": "code",
   "execution_count": 28,
   "id": "33d0b81b",
   "metadata": {},
   "outputs": [],
   "source": [
    "run.log_artifact(processed_ds_art)\n",
    "run.finish()"
   ]
  },
  {
   "cell_type": "code",
   "execution_count": 29,
   "id": "ff51d80d",
   "metadata": {},
   "outputs": [
    {
     "data": {
      "text/html": [
       "\n",
       "                    Syncing run <strong><a href=\"http://localhost:8080/den/credit_scorecard/runs/2dahspcv\" target=\"_blank\">score2</a></strong> to <a href=\"http://localhost:8080/den/credit_scorecard\" target=\"_blank\">Weights & Biases</a> (<a href=\"https://docs.wandb.com/integrations/jupyter.html\" target=\"_blank\">docs</a>).<br/>\n",
       "\n",
       "                "
      ],
      "text/plain": [
       "<IPython.core.display.HTML object>"
      ]
     },
     "metadata": {},
     "output_type": "display_data"
    }
   ],
   "source": [
    "run = wandb.init(entity=ENTITY, name=\"score2\", project='credit_scorecard', job_type='preprocess-data', config={'wandb_nb':'wandb_credit_soc'})  # config is optional here"
   ]
  },
  {
   "cell_type": "code",
   "execution_count": 30,
   "id": "b7351efd",
   "metadata": {},
   "outputs": [],
   "source": [
    "from src.data_utils import (\n",
    "    describe_data_g_targ,\n",
    "    one_hot_encode_data,\n",
    "    create_feature_interaction_constraints,\n",
    "    get_monotonic_constraints,\n",
    "    load_training_data,\n",
    "    calculate_credit_scores\n",
    ")\n",
    "\n",
    "from src.scorecard import generate_scorecard"
   ]
  },
  {
   "cell_type": "code",
   "execution_count": 31,
   "id": "e52b9637",
   "metadata": {},
   "outputs": [
    {
     "name": "stdout",
     "output_type": "stream",
     "text": [
      "   UniqueID    LTV  manufacturer_id Employment_Type  State_ID  \\\n",
      "0    417428  88.17               86   Self employed         4   \n",
      "1    417429  83.78               86        Salaried         8   \n",
      "2    417430  77.39               86   Self employed         6   \n",
      "3    417431  72.14               86   Self employed         3   \n",
      "4    417432  85.92               86   Self employed         6   \n",
      "\n",
      "   PERFORM_CNS_SCORE  AgeInMonths  DaysSinceDisbursement  loan_default  \n",
      "0              681.0        638.0                  153.0             0  \n",
      "1              384.0        478.0                  153.0             0  \n",
      "2                NaN        441.0                  153.0             0  \n",
      "3                NaN        384.0                  153.0             0  \n",
      "4              721.0        343.0                  153.0             0  "
     ]
    }
   ],
   "source": [
    "dataset = pd.read_csv(data_dir/'vehicle_loans_subset.csv')\n",
    "dataset.head()"
   ]
  },
  {
   "cell_type": "code",
   "execution_count": 32,
   "id": "9c17255f",
   "metadata": {},
   "outputs": [
    {
     "data": {
      "text/html": [
       "<div>\n",
       "<style scoped>\n",
       "    .dataframe tbody tr th:only-of-type {\n",
       "        vertical-align: middle;\n",
       "    }\n",
       "\n",
       "    .dataframe tbody tr th {\n",
       "        vertical-align: top;\n",
       "    }\n",
       "\n",
       "    .dataframe thead th {\n",
       "        text-align: right;\n",
       "    }\n",
       "</style>\n",
       "<table border=\"1\" class=\"dataframe\">\n",
       "  <thead>\n",
       "    <tr style=\"text-align: right;\">\n",
       "      <th></th>\n",
       "      <th>UniqueID</th>\n",
       "      <th>LTV</th>\n",
       "      <th>manufacturer_id</th>\n",
       "      <th>Employment_Type</th>\n",
       "      <th>State_ID</th>\n",
       "      <th>PERFORM_CNS_SCORE</th>\n",
       "      <th>AgeInMonths</th>\n",
       "      <th>DaysSinceDisbursement</th>\n",
       "      <th>loan_default</th>\n",
       "    </tr>\n",
       "  </thead>\n",
       "  <tbody>\n",
       "    <tr>\n",
       "      <th>0</th>\n",
       "      <td>417428</td>\n",
       "      <td>88.17</td>\n",
       "      <td>86</td>\n",
       "      <td>Self employed</td>\n",
       "      <td>4</td>\n",
       "      <td>681.0</td>\n",
       "      <td>638.0</td>\n",
       "      <td>153.0</td>\n",
       "      <td>0</td>\n",
       "    </tr>\n",
       "    <tr>\n",
       "      <th>1</th>\n",
       "      <td>417429</td>\n",
       "      <td>83.78</td>\n",
       "      <td>86</td>\n",
       "      <td>Salaried</td>\n",
       "      <td>8</td>\n",
       "      <td>384.0</td>\n",
       "      <td>478.0</td>\n",
       "      <td>153.0</td>\n",
       "      <td>0</td>\n",
       "    </tr>\n",
       "    <tr>\n",
       "      <th>2</th>\n",
       "      <td>417430</td>\n",
       "      <td>77.39</td>\n",
       "      <td>86</td>\n",
       "      <td>Self employed</td>\n",
       "      <td>6</td>\n",
       "      <td>NaN</td>\n",
       "      <td>441.0</td>\n",
       "      <td>153.0</td>\n",
       "      <td>0</td>\n",
       "    </tr>\n",
       "    <tr>\n",
       "      <th>3</th>\n",
       "      <td>417431</td>\n",
       "      <td>72.14</td>\n",
       "      <td>86</td>\n",
       "      <td>Self employed</td>\n",
       "      <td>3</td>\n",
       "      <td>NaN</td>\n",
       "      <td>384.0</td>\n",
       "      <td>153.0</td>\n",
       "      <td>0</td>\n",
       "    </tr>\n",
       "    <tr>\n",
       "      <th>4</th>\n",
       "      <td>417432</td>\n",
       "      <td>85.92</td>\n",
       "      <td>86</td>\n",
       "      <td>Self employed</td>\n",
       "      <td>6</td>\n",
       "      <td>721.0</td>\n",
       "      <td>343.0</td>\n",
       "      <td>153.0</td>\n",
       "      <td>0</td>\n",
       "    </tr>\n",
       "  </tbody>\n",
       "</table>\n",
       "</div>"
      ],
      "text/plain": [
       "   UniqueID    LTV  manufacturer_id Employment_Type  State_ID  \\\n",
       "0    417428  88.17               86   Self employed         4   \n",
       "1    417429  83.78               86        Salaried         8   \n",
       "2    417430  77.39               86   Self employed         6   \n",
       "3    417431  72.14               86   Self employed         3   \n",
       "4    417432  85.92               86   Self employed         6   \n",
       "\n",
       "   PERFORM_CNS_SCORE  AgeInMonths  DaysSinceDisbursement  loan_default  \n",
       "0              681.0        638.0                  153.0             0  \n",
       "1              384.0        478.0                  153.0             0  \n",
       "2                NaN        441.0                  153.0             0  \n",
       "3                NaN        384.0                  153.0             0  \n",
       "4              721.0        343.0                  153.0             0  "
      ]
     },
     "metadata": {},
     "output_type": "display_data"
    }
   ],
   "source": [
    "dataset, p_vars = one_hot_encode_data(dataset, id_vars, targ_var)"
   ]
  },
  {
   "cell_type": "code",
   "execution_count": 33,
   "id": "1e94aa08",
   "metadata": {},
   "outputs": [],
   "source": [
    "processed_data_path = data_dir/'proc_ds.csv'\n",
    "dataset.to_csv(processed_data_path, index=False)"
   ]
  },
  {
   "cell_type": "code",
   "execution_count": 34,
   "id": "f0ba2235",
   "metadata": {},
   "outputs": [],
   "source": [
    "s3_client = boto3.client('s3')\n",
    "s3_client.upload_file('proc_ds.csv', 'creditscore', 'datasets/vehicle_defaults_processed')\n",
    "\n",
    "processed_ds_art = wandb.Artifact(name='vehicle_defaults_processed',\n",
    "                                  type='processed_dataset',\n",
    "                                  description='One-hot encoded dataset',\n",
    "                                  metadata={'preprocessing_fn': function_to_string(one_hot_encode_data)}\n",
    "                                  )\n",
    "processed_ds_art.add_reference('s3://creditscore/datasets/vehicle_defaults_processed')"
   ]
  },
  {
   "cell_type": "code",
   "execution_count": 35,
   "id": "9bb3dce4",
   "metadata": {},
   "outputs": [],
   "source": [
    "s3_client = boto3.client('s3')\n",
    "s3_client.upload_file(data_dir/'proc_ds.csv', 'creditscore', 'datasets/vehicle_defaults_processed')\n",
    "\n",
    "processed_ds_art = wandb.Artifact(name='vehicle_defaults_processed',\n",
    "                                  type='processed_dataset',\n",
    "                                  description='One-hot encoded dataset',\n",
    "                                  metadata={'preprocessing_fn': function_to_string(one_hot_encode_data)}\n",
    "                                  )\n",
    "processed_ds_art.add_reference('s3://creditscore/datasets/vehicle_defaults_processed')"
   ]
  },
  {
   "cell_type": "code",
   "execution_count": 36,
   "id": "e480f4f3",
   "metadata": {},
   "outputs": [],
   "source": [
    "s3_client = boto3.client('s3')\n",
    "s3_client.upload_file(data_dir/'proc_ds.csv', 'creditscore', 'datasets/vehicle_defaults_processed')\n",
    "\n",
    "processed_ds_art = wandb.Artifact(name='vehicle_defaults_processed',\n",
    "                                  type='processed_dataset',\n",
    "                                  description='One-hot encoded dataset',\n",
    "                                  metadata={'preprocessing_fn': function_to_string(one_hot_encode_data)}\n",
    "                                  )\n",
    "processed_ds_art.add_reference('s3://creditscore/datasets/vehicle_defaults_processed')"
   ]
  },
  {
   "cell_type": "code",
   "execution_count": 37,
   "id": "ed7232f3",
   "metadata": {},
   "outputs": [],
   "source": [
    "s3_client = boto3.client('s3')"
   ]
  },
  {
   "cell_type": "code",
   "execution_count": 38,
   "id": "04619883",
   "metadata": {},
   "outputs": [],
   "source": [
    "s3_client.upload_file(data_dir/'proc_ds.csv', 'creditscore', 'datasets/vehicle_defaults_processed')\n",
    "\n",
    "processed_ds_art = wandb.Artifact(name='vehicle_defaults_processed',\n",
    "                                  type='processed_dataset',\n",
    "                                  description='One-hot encoded dataset',\n",
    "                                  metadata={'preprocessing_fn': function_to_string(one_hot_encode_data)}\n",
    "                                  )\n",
    "processed_ds_art.add_reference('s3://creditscore/datasets/vehicle_defaults_processed')"
   ]
  },
  {
   "cell_type": "code",
   "execution_count": 39,
   "id": "a17981c4",
   "metadata": {},
   "outputs": [],
   "source": [
    "s3_client.upload_file(data_dir + '/proc_ds.csv', 'creditscore', 'datasets/vehicle_defaults_processed')\n",
    "\n",
    "processed_ds_art = wandb.Artifact(name='vehicle_defaults_processed',\n",
    "                                  type='processed_dataset',\n",
    "                                  description='One-hot encoded dataset',\n",
    "                                  metadata={'preprocessing_fn': function_to_string(one_hot_encode_data)}\n",
    "                                  )\n",
    "processed_ds_art.add_reference('s3://creditscore/datasets/vehicle_defaults_processed')"
   ]
  },
  {
   "cell_type": "code",
   "execution_count": 40,
   "id": "02e507b4",
   "metadata": {},
   "outputs": [],
   "source": [
    "s3_client.upload_file((data_dir/'proc_ds.csv'.__str__()), 'creditscore', 'datasets/vehicle_defaults_processed')\n",
    "\n",
    "processed_ds_art = wandb.Artifact(name='vehicle_defaults_processed',\n",
    "                                  type='processed_dataset',\n",
    "                                  description='One-hot encoded dataset',\n",
    "                                  metadata={'preprocessing_fn': function_to_string(one_hot_encode_data)}\n",
    "                                  )\n",
    "processed_ds_art.add_reference('s3://creditscore/datasets/vehicle_defaults_processed')"
   ]
  },
  {
   "cell_type": "code",
   "execution_count": 41,
   "id": "54d9fe99",
   "metadata": {},
   "outputs": [],
   "source": [
    "s3_client.upload_file((data_dir/'proc_ds.csv').__str__()), 'creditscore', 'datasets/vehicle_defaults_processed')\n",
    "\n",
    "processed_ds_art = wandb.Artifact(name='vehicle_defaults_processed',\n",
    "                                  type='processed_dataset',\n",
    "                                  description='One-hot encoded dataset',\n",
    "                                  metadata={'preprocessing_fn': function_to_string(one_hot_encode_data)}\n",
    "                                  )\n",
    "processed_ds_art.add_reference('s3://creditscore/datasets/vehicle_defaults_processed')"
   ]
  },
  {
   "cell_type": "code",
   "execution_count": 42,
   "id": "916f8def",
   "metadata": {},
   "outputs": [],
   "source": [
    "s3_client.upload_file((data_dir/'proc_ds.csv').__str__(), 'creditscore', 'datasets/vehicle_defaults_processed')\n",
    "\n",
    "processed_ds_art = wandb.Artifact(name='vehicle_defaults_processed',\n",
    "                                  type='processed_dataset',\n",
    "                                  description='One-hot encoded dataset',\n",
    "                                  metadata={'preprocessing_fn': function_to_string(one_hot_encode_data)}\n",
    "                                  )\n",
    "processed_ds_art.add_reference('s3://creditscore/datasets/vehicle_defaults_processed')"
   ]
  },
  {
   "cell_type": "code",
   "execution_count": 43,
   "id": "34dcbd73",
   "metadata": {},
   "outputs": [],
   "source": [
    "os.environ[\"AWS_S3_ENDPOINT_URL\"] = \"http://localhost:8000\"\n",
    "os.environ[\"AWS_ACCESS_KEY_ID\"] = \"DevAccessKey\"\n",
    "os.environ[\"AWS_SECRET_ACCESS_KEY\"] = \"DevSecretKey\""
   ]
  },
  {
   "cell_type": "code",
   "execution_count": 44,
   "id": "bd8c73dd",
   "metadata": {},
   "outputs": [],
   "source": [
    "s3_client.upload_file((data_dir/'proc_ds.csv').__str__(), 'creditscore', 'datasets/vehicle_defaults_processed')\n",
    "\n",
    "processed_ds_art = wandb.Artifact(name='vehicle_defaults_processed',\n",
    "                                  type='processed_dataset',\n",
    "                                  description='One-hot encoded dataset',\n",
    "                                  metadata={'preprocessing_fn': function_to_string(one_hot_encode_data)}\n",
    "                                  )\n",
    "processed_ds_art.add_reference('s3://creditscore/datasets/vehicle_defaults_processed')"
   ]
  },
  {
   "cell_type": "code",
   "execution_count": 45,
   "id": "d0f2f680",
   "metadata": {},
   "outputs": [],
   "source": [
    "s3_client.upload_file((data_dir/'proc_ds.csv').__str__(), 'creditscore', 'datasets/vehicle_defaults_processed')"
   ]
  },
  {
   "cell_type": "code",
   "execution_count": 46,
   "id": "09557b50",
   "metadata": {},
   "outputs": [],
   "source": [
    "s3_client.upload_file((data_dir/'proc_ds.csv').__str__(), 'creditscore', 'datasets/vehicle_defaults_processed')"
   ]
  },
  {
   "cell_type": "code",
   "execution_count": 47,
   "id": "7249bea6",
   "metadata": {},
   "outputs": [],
   "source": [
    "os.environ[\"AWS_S3_ENDPOINT_URL\"] = \"http://localhost:8000\"\n",
    "os.environ[\"AWS_ACCESS_KEY_ID\"] = \"DevAccessKeym\"\n",
    "os.environ[\"AWS_SECRET_ACCESS_KEY\"] = \"DevSecretKey\""
   ]
  },
  {
   "cell_type": "code",
   "execution_count": 48,
   "id": "e34bc16c",
   "metadata": {},
   "outputs": [],
   "source": [
    "s3_client.upload_file((data_dir/'proc_ds.csv').__str__(), 'creditscore', 'datasets/vehicle_defaults_processed')"
   ]
  },
  {
   "cell_type": "code",
   "execution_count": 49,
   "id": "f60c4acf",
   "metadata": {},
   "outputs": [],
   "source": [
    "s3_client = boto3.client('s3', endpoint_url=\"http://localhost:8000\",\n",
    "                         aws_access_key_id=\"DevAccessKey\", aws_secret_access_key=\"DevSecretKey\")"
   ]
  },
  {
   "cell_type": "code",
   "execution_count": 50,
   "id": "36c60366",
   "metadata": {},
   "outputs": [],
   "source": [
    "s3_client.upload_file((data_dir/'proc_ds.csv').__str__(), 'creditscore', 'datasets/vehicle_defaults_processed')"
   ]
  },
  {
   "cell_type": "code",
   "execution_count": 51,
   "id": "c06b5e5e",
   "metadata": {},
   "outputs": [],
   "source": [
    "\n",
    "processed_ds_art = wandb.Artifact(name='vehicle_defaults_processed',\n",
    "                                  type='processed_dataset',\n",
    "                                  description='One-hot encoded dataset',\n",
    "                                  metadata={'preprocessing_fn': function_to_string(one_hot_encode_data)}\n",
    "                                  )\n",
    "processed_ds_art.add_reference('s3://creditscore/datasets/vehicle_defaults_processed')"
   ]
  },
  {
   "cell_type": "code",
   "execution_count": 52,
   "id": "01c6f481",
   "metadata": {},
   "outputs": [],
   "source": [
    "s3_client.upload_file((data_dir/'proc_ds.csv').__str__(), 'creditscore', 'datasets/vehicle_defaults_processed1')"
   ]
  },
  {
   "cell_type": "code",
   "execution_count": 53,
   "id": "da23e7d0",
   "metadata": {},
   "outputs": [],
   "source": [
    "\n",
    "processed_ds_art = wandb.Artifact(name='vehicle_defaults_processed',\n",
    "                                  type='processed_dataset',\n",
    "                                  description='One-hot encoded dataset',\n",
    "                                  metadata={'preprocessing_fn': function_to_string(one_hot_encode_data)}\n",
    "                                  )\n",
    "processed_ds_art.add_reference('s3://creditscore/datasets/vehicle_defaults_processed')"
   ]
  },
  {
   "cell_type": "code",
   "execution_count": 54,
   "id": "bfbd74e7",
   "metadata": {},
   "outputs": [],
   "source": [
    "os.environ[\"AWS_S3_ENDPOINT_URL\"] = \"http://localhost:8000\"\n",
    "os.environ[\"AWS_ACCESS_KEY_ID\"] = \"DevAccessKey\"\n",
    "os.environ[\"AWS_SECRET_ACCESS_KEY\"] = \"DevSecretKey\""
   ]
  },
  {
   "cell_type": "code",
   "execution_count": 55,
   "id": "22997eae",
   "metadata": {},
   "outputs": [
    {
     "name": "stdout",
     "output_type": "stream",
     "text": [
      "[<ManifestEntry ref: s3://creditscore/datasets/vehicle_defaults_processed/vehicle_defaults_processed>]"
     ]
    }
   ],
   "source": [
    "\n",
    "processed_ds_art = wandb.Artifact(name='vehicle_defaults_processed',\n",
    "                                  type='processed_dataset',\n",
    "                                  description='One-hot encoded dataset',\n",
    "                                  metadata={'preprocessing_fn': function_to_string(one_hot_encode_data)}\n",
    "                                  )\n",
    "processed_ds_art.add_reference('s3://creditscore/datasets/vehicle_defaults_processed')"
   ]
  },
  {
   "cell_type": "code",
   "execution_count": 56,
   "id": "27983e1d",
   "metadata": {},
   "outputs": [
    {
     "name": "stdout",
     "output_type": "stream",
     "text": [
      "<ManifestEntry digest: cslJubeoq5UrWhqw3sBeqw==>"
     ]
    }
   ],
   "source": [
    "# Attach our processed data to the Artifact\n",
    "processed_ds_art.add_file(processed_data_path)"
   ]
  },
  {
   "cell_type": "code",
   "execution_count": 57,
   "id": "d06f6abe",
   "metadata": {},
   "outputs": [],
   "source": [
    "run.log_artifact(processed_ds_art)\n",
    "run.finish()"
   ]
  }
 ],
 "metadata": {
  "kernelspec": {
   "display_name": "Python 3",
   "language": "python",
   "name": "python3"
  },
  "language_info": {
   "codemirror_mode": {
    "name": "ipython",
    "version": 3
   },
   "file_extension": ".py",
   "mimetype": "text/x-python",
   "name": "python",
   "nbconvert_exporter": "python",
   "pygments_lexer": "ipython3",
   "version": "3.9.9"
  }
 },
 "nbformat": 4,
 "nbformat_minor": 5
}
