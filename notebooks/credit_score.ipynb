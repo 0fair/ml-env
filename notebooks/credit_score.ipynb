{
 "cells": [
  {
   "cell_type": "code",
   "execution_count": 2,
   "metadata": {
    "pycharm": {
     "name": "#%%\n"
    }
   },
   "outputs": [
    {
     "name": "stderr",
     "output_type": "stream",
     "text": [
      "\u001B[34m\u001B[1mwandb\u001B[0m: Currently logged in as: \u001B[33mden\u001B[0m (use `wandb login --relogin` to force relogin)\n",
      "\u001B[34m\u001B[1mwandb\u001B[0m: \u001B[33mWARNING\u001B[0m If you're specifying your api key in code, ensure this code is not shared publicly.\n",
      "\u001B[34m\u001B[1mwandb\u001B[0m: \u001B[33mWARNING\u001B[0m Consider setting the WANDB_API_KEY environment variable, or running `wandb login` from the command line.\n",
      "\u001B[34m\u001B[1mwandb\u001B[0m: Appending key for localhost to your netrc file: /Users/den/.netrc\n"
     ]
    }
   ],
   "source": [
    "import wandb\n",
    "wandb.login(key='local-8c4310dcf3cb371cac7343a466e09de6b04e4282', host='http://localhost:8080')\n",
    "ENTITY = None"
   ]
  },
  {
   "cell_type": "code",
   "execution_count": 13,
   "metadata": {
    "pycharm": {
     "name": "#%%\n"
    }
   },
   "outputs": [],
   "source": [
    "import ast\n",
    "import sys\n",
    "import os\n",
    "import json\n",
    "import boto3\n",
    "from pathlib import Path\n",
    "from dill.source import getsource\n",
    "from dill import detect\n",
    "\n",
    "import pandas as pd\n",
    "import numpy as np\n",
    "import plotly\n",
    "import matplotlib.pyplot as plt\n",
    "\n",
    "from scipy.stats import ks_2samp\n",
    "from sklearn import metrics\n",
    "from sklearn import model_selection\n",
    "import xgboost as xgb\n",
    "\n",
    "pd.set_option('display.max_columns', None)"
   ]
  },
  {
   "cell_type": "code",
   "execution_count": 14,
   "metadata": {
    "pycharm": {
     "name": "#%%\n"
    }
   },
   "outputs": [],
   "source": [
    "os.environ[\"AWS_S3_ENDPOINT_URL\"] = \"http://localhost:8000\"\n",
    "os.environ[\"AWS_ACCESS_KEY_ID\"] = \"DevAccessKey\"\n",
    "os.environ[\"AWS_SECRET_ACCESS_KEY\"] = \"DevSecretKey\""
   ]
  },
  {
   "cell_type": "code",
   "execution_count": 4,
   "metadata": {
    "pycharm": {
     "name": "#%%\n"
    }
   },
   "outputs": [],
   "source": [
    "data_dir = Path('../data/')\n",
    "model_dir = Path('../models')\n",
    "model_dir.mkdir(exist_ok=True)\n",
    "\n",
    "id_vars = ['UniqueID']\n",
    "targ_var = 'loan_default'\n",
    "s3_client = boto3.client('s3', endpoint_url=\"http://localhost:8000\",\n",
    "                         aws_access_key_id=\"DevAccessKey\", aws_secret_access_key=\"DevSecretKey\")\n"
   ]
  },
  {
   "cell_type": "code",
   "execution_count": 4,
   "metadata": {
    "pycharm": {
     "name": "#%%\n"
    }
   },
   "outputs": [],
   "source": []
  },
  {
   "cell_type": "code",
   "execution_count": 5,
   "metadata": {
    "pycharm": {
     "name": "#%%\n"
    }
   },
   "outputs": [],
   "source": [
    "def function_to_string(fn):\n",
    "    return getsource(detect.code(fn))"
   ]
  },
  {
   "cell_type": "code",
   "execution_count": 29,
   "metadata": {
    "pycharm": {
     "name": "#%%\n"
    }
   },
   "outputs": [
    {
     "data": {
      "text/html": [
       "\n",
       "                    Syncing run <strong><a href=\"http://localhost:8080/den/credit_scorecard/runs/2dahspcv\" target=\"_blank\">score2</a></strong> to <a href=\"http://localhost:8080/den/credit_scorecard\" target=\"_blank\">Weights & Biases</a> (<a href=\"https://docs.wandb.com/integrations/jupyter.html\" target=\"_blank\">docs</a>).<br/>\n",
       "\n",
       "                "
      ],
      "text/plain": [
       "<IPython.core.display.HTML object>"
      ]
     },
     "metadata": {},
     "output_type": "display_data"
    }
   ],
   "source": [
    "run = wandb.init(entity=ENTITY, name=\"score2\", project='credit_scorecard', job_type='preprocess-data', config={'wandb_nb':'wandb_credit_soc'})  # config is optional here\n"
   ]
  },
  {
   "cell_type": "code",
   "execution_count": 30,
   "metadata": {
    "pycharm": {
     "name": "#%%\n"
    }
   },
   "outputs": [],
   "source": [
    "from src.data_utils import (\n",
    "    describe_data_g_targ,\n",
    "    one_hot_encode_data,\n",
    "    create_feature_interaction_constraints,\n",
    "    get_monotonic_constraints,\n",
    "    load_training_data,\n",
    "    calculate_credit_scores\n",
    ")\n",
    "\n",
    "from src.scorecard import generate_scorecard"
   ]
  },
  {
   "cell_type": "code",
   "execution_count": 31,
   "metadata": {
    "pycharm": {
     "name": "#%%\n"
    }
   },
   "outputs": [
    {
     "data": {
      "text/html": [
       "<div>\n",
       "<style scoped>\n",
       "    .dataframe tbody tr th:only-of-type {\n",
       "        vertical-align: middle;\n",
       "    }\n",
       "\n",
       "    .dataframe tbody tr th {\n",
       "        vertical-align: top;\n",
       "    }\n",
       "\n",
       "    .dataframe thead th {\n",
       "        text-align: right;\n",
       "    }\n",
       "</style>\n",
       "<table border=\"1\" class=\"dataframe\">\n",
       "  <thead>\n",
       "    <tr style=\"text-align: right;\">\n",
       "      <th></th>\n",
       "      <th>UniqueID</th>\n",
       "      <th>LTV</th>\n",
       "      <th>manufacturer_id</th>\n",
       "      <th>Employment_Type</th>\n",
       "      <th>State_ID</th>\n",
       "      <th>PERFORM_CNS_SCORE</th>\n",
       "      <th>AgeInMonths</th>\n",
       "      <th>DaysSinceDisbursement</th>\n",
       "      <th>loan_default</th>\n",
       "    </tr>\n",
       "  </thead>\n",
       "  <tbody>\n",
       "    <tr>\n",
       "      <th>0</th>\n",
       "      <td>417428</td>\n",
       "      <td>88.17</td>\n",
       "      <td>86</td>\n",
       "      <td>Self employed</td>\n",
       "      <td>4</td>\n",
       "      <td>681.0</td>\n",
       "      <td>638.0</td>\n",
       "      <td>153.0</td>\n",
       "      <td>0</td>\n",
       "    </tr>\n",
       "    <tr>\n",
       "      <th>1</th>\n",
       "      <td>417429</td>\n",
       "      <td>83.78</td>\n",
       "      <td>86</td>\n",
       "      <td>Salaried</td>\n",
       "      <td>8</td>\n",
       "      <td>384.0</td>\n",
       "      <td>478.0</td>\n",
       "      <td>153.0</td>\n",
       "      <td>0</td>\n",
       "    </tr>\n",
       "    <tr>\n",
       "      <th>2</th>\n",
       "      <td>417430</td>\n",
       "      <td>77.39</td>\n",
       "      <td>86</td>\n",
       "      <td>Self employed</td>\n",
       "      <td>6</td>\n",
       "      <td>NaN</td>\n",
       "      <td>441.0</td>\n",
       "      <td>153.0</td>\n",
       "      <td>0</td>\n",
       "    </tr>\n",
       "    <tr>\n",
       "      <th>3</th>\n",
       "      <td>417431</td>\n",
       "      <td>72.14</td>\n",
       "      <td>86</td>\n",
       "      <td>Self employed</td>\n",
       "      <td>3</td>\n",
       "      <td>NaN</td>\n",
       "      <td>384.0</td>\n",
       "      <td>153.0</td>\n",
       "      <td>0</td>\n",
       "    </tr>\n",
       "    <tr>\n",
       "      <th>4</th>\n",
       "      <td>417432</td>\n",
       "      <td>85.92</td>\n",
       "      <td>86</td>\n",
       "      <td>Self employed</td>\n",
       "      <td>6</td>\n",
       "      <td>721.0</td>\n",
       "      <td>343.0</td>\n",
       "      <td>153.0</td>\n",
       "      <td>0</td>\n",
       "    </tr>\n",
       "  </tbody>\n",
       "</table>\n",
       "</div>"
      ],
      "text/plain": [
       "   UniqueID    LTV  manufacturer_id Employment_Type  State_ID  \\\n",
       "0    417428  88.17               86   Self employed         4   \n",
       "1    417429  83.78               86        Salaried         8   \n",
       "2    417430  77.39               86   Self employed         6   \n",
       "3    417431  72.14               86   Self employed         3   \n",
       "4    417432  85.92               86   Self employed         6   \n",
       "\n",
       "   PERFORM_CNS_SCORE  AgeInMonths  DaysSinceDisbursement  loan_default  \n",
       "0              681.0        638.0                  153.0             0  \n",
       "1              384.0        478.0                  153.0             0  \n",
       "2                NaN        441.0                  153.0             0  \n",
       "3                NaN        384.0                  153.0             0  \n",
       "4              721.0        343.0                  153.0             0  "
      ]
     },
     "execution_count": 31,
     "metadata": {},
     "output_type": "execute_result"
    }
   ],
   "source": [
    "dataset = pd.read_csv(data_dir/'vehicle_loans_subset.csv')\n",
    "dataset.head()"
   ]
  },
  {
   "cell_type": "markdown",
   "metadata": {
    "pycharm": {
     "name": "#%% md\n"
    }
   },
   "source": [
    "# additional\n",
    "p_vars - это фичи, числовые и категориальные\n",
    "делаем датасет, где подготовлены категориальные колонки"
   ]
  },
  {
   "cell_type": "code",
   "execution_count": 32,
   "metadata": {
    "pycharm": {
     "name": "#%%\n"
    }
   },
   "outputs": [],
   "source": [
    "dataset, p_vars = one_hot_encode_data(dataset, id_vars, targ_var)"
   ]
  },
  {
   "cell_type": "code",
   "execution_count": 33,
   "metadata": {
    "pycharm": {
     "name": "#%%\n"
    }
   },
   "outputs": [],
   "source": [
    "processed_data_path = data_dir/'proc_ds.csv'\n",
    "dataset.to_csv(processed_data_path, index=False)"
   ]
  },
  {
   "cell_type": "code",
   "execution_count": 49,
   "metadata": {
    "pycharm": {
     "name": "#%%\n"
    }
   },
   "outputs": [],
   "source": []
  },
  {
   "cell_type": "code",
   "execution_count": 54,
   "metadata": {
    "pycharm": {
     "name": "#%%\n"
    }
   },
   "outputs": [],
   "source": []
  },
  {
   "cell_type": "code",
   "execution_count": 52,
   "metadata": {
    "pycharm": {
     "name": "#%%\n"
    }
   },
   "outputs": [],
   "source": [
    "s3_client.upload_file((data_dir/'proc_ds.csv').__str__(), 'creditscore', 'datasets/vehicle_defaults_processed')\n"
   ]
  },
  {
   "cell_type": "code",
   "execution_count": 55,
   "metadata": {
    "pycharm": {
     "name": "#%%\n"
    }
   },
   "outputs": [
    {
     "data": {
      "text/plain": [
       "[<ManifestEntry ref: s3://creditscore/datasets/vehicle_defaults_processed/vehicle_defaults_processed>]"
      ]
     },
     "execution_count": 55,
     "metadata": {},
     "output_type": "execute_result"
    }
   ],
   "source": [
    "os.environ[\"AWS_S3_ENDPOINT_URL\"] = \"http://localhost:8000\"\n",
    "os.environ[\"AWS_ACCESS_KEY_ID\"] = \"DevAccessKey\"\n",
    "os.environ[\"AWS_SECRET_ACCESS_KEY\"] = \"DevSecretKey\"\n",
    "processed_ds_art = wandb.Artifact(name='vehicle_defaults_processed',\n",
    "                                  type='processed_dataset',\n",
    "                                  description='One-hot encoded dataset',\n",
    "                                  metadata={'preprocessing_fn': function_to_string(one_hot_encode_data)}\n",
    "                                  )\n",
    "processed_ds_art.add_reference('s3://creditscore/datasets/vehicle_defaults_processed')\n"
   ]
  },
  {
   "cell_type": "code",
   "execution_count": null,
   "metadata": {
    "pycharm": {
     "name": "#%%\n"
    }
   },
   "outputs": [],
   "source": []
  },
  {
   "cell_type": "code",
   "execution_count": 56,
   "metadata": {
    "pycharm": {
     "name": "#%%\n"
    }
   },
   "outputs": [
    {
     "data": {
      "text/plain": [
       "<ManifestEntry digest: cslJubeoq5UrWhqw3sBeqw==>"
      ]
     },
     "execution_count": 56,
     "metadata": {},
     "output_type": "execute_result"
    }
   ],
   "source": [
    "# Attach our processed data to the Artifact\n",
    "processed_ds_art.add_file(processed_data_path)"
   ]
  },
  {
   "cell_type": "code",
   "execution_count": 57,
   "metadata": {
    "pycharm": {
     "name": "#%%\n"
    }
   },
   "outputs": [
    {
     "data": {
      "text/html": [
       "<br/>Waiting for W&B process to finish, PID 67562... <strong style=\"color:green\">(success).</strong>"
      ],
      "text/plain": [
       "<IPython.core.display.HTML object>"
      ]
     },
     "metadata": {},
     "output_type": "display_data"
    },
    {
     "data": {
      "application/vnd.jupyter.widget-view+json": {
       "model_id": "d1c89dd4976c4d15860160a373f1f8ef",
       "version_major": 2,
       "version_minor": 0
      },
      "text/plain": [
       "VBox(children=(Label(value=' 22.14MB of 22.14MB uploaded (22.14MB deduped)\\r'), FloatProgress(value=1.0, max=1…"
      ]
     },
     "metadata": {},
     "output_type": "display_data"
    },
    {
     "data": {
      "text/html": [
       "<style>\n",
       "    table.wandb td:nth-child(1) { padding: 0 10px; text-align: right }\n",
       "    .wandb-row { display: flex; flex-direction: row; flex-wrap: wrap; width: 100% }\n",
       "    .wandb-col { display: flex; flex-direction: column; flex-basis: 100%; flex: 1; padding: 10px; }\n",
       "    </style>\n",
       "<div class=\"wandb-row\"><div class=\"wandb-col\">\n",
       "</div><div class=\"wandb-col\">\n",
       "</div></div>\n",
       "Synced 6 W&B file(s), 0 media file(s), 1 artifact file(s) and 1 other file(s)\n",
       "<br/>Synced <strong style=\"color:#cdcd00\">score2</strong>: <a href=\"http://localhost:8080/den/credit_scorecard/runs/2dahspcv\" target=\"_blank\">http://localhost:8080/den/credit_scorecard/runs/2dahspcv</a><br/>\n",
       "Find logs at: <code>./wandb/run-20220220_220213-2dahspcv/logs</code><br/>\n"
      ],
      "text/plain": [
       "<IPython.core.display.HTML object>"
      ]
     },
     "metadata": {},
     "output_type": "display_data"
    }
   ],
   "source": [
    "run.log_artifact(processed_ds_art)\n",
    "run.finish()"
   ]
  },
  {
   "cell_type": "code",
   "execution_count": null,
   "metadata": {
    "pycharm": {
     "name": "#%%\n"
    }
   },
   "outputs": [],
   "source": []
  },
  {
   "cell_type": "code",
   "execution_count": null,
   "metadata": {
    "pycharm": {
     "name": "#%%\n"
    }
   },
   "outputs": [],
   "source": []
  },
  {
   "cell_type": "code",
   "execution_count": null,
   "metadata": {
    "pycharm": {
     "name": "#%%\n"
    }
   },
   "outputs": [],
   "source": []
  },
  {
   "cell_type": "code",
   "execution_count": 61,
   "metadata": {
    "pycharm": {
     "name": "#%%\n"
    }
   },
   "outputs": [
    {
     "data": {
      "text/plain": "<IPython.core.display.HTML object>",
      "text/html": "\n                    Syncing run <strong><a href=\"http://localhost:8080/den/credit_scorecard/runs/edvla5g0\" target=\"_blank\">split4</a></strong> to <a href=\"http://localhost:8080/den/credit_scorecard\" target=\"_blank\">Weights & Biases</a> (<a href=\"https://docs.wandb.com/integrations/jupyter.html\" target=\"_blank\">docs</a>).<br/>\n\n                "
     },
     "metadata": {},
     "output_type": "display_data"
    },
    {
     "name": "stdout",
     "output_type": "stream",
     "text": [
      "Train dataset size: 0    136907\n",
      "1     37958\n",
      "Name: loan_default, dtype: int64 \n",
      "\n",
      "Validation dataset sizeL 0    45636\n",
      "1    12653\n",
      "Name: loan_default, dtype: int64\n"
     ]
    },
    {
     "name": "stderr",
     "output_type": "stream",
     "text": [
      "\u001B[34m\u001B[1mwandb\u001B[0m: Generating checksum for up to 10000 objects with prefix \"artifacts\"... Done. 0.0s\n"
     ]
    },
    {
     "data": {
      "text/plain": "<IPython.core.display.HTML object>",
      "text/html": "<br/>Waiting for W&B process to finish, PID 76753... <strong style=\"color:red\">(failed 1).</strong> Press ctrl-c to abort syncing."
     },
     "metadata": {},
     "output_type": "display_data"
    },
    {
     "data": {
      "text/plain": "VBox(children=(Label(value=' 0.00MB of 0.00MB uploaded (0.00MB deduped)\\r'), FloatProgress(value=1.0, max=1.0)…",
      "application/vnd.jupyter.widget-view+json": {
       "version_major": 2,
       "version_minor": 0,
       "model_id": "d5836065bca0496ea433ae6334aa08ad"
      }
     },
     "metadata": {},
     "output_type": "display_data"
    },
    {
     "data": {
      "text/plain": "<IPython.core.display.HTML object>",
      "text/html": "<style>\n    table.wandb td:nth-child(1) { padding: 0 10px; text-align: right }\n    .wandb-row { display: flex; flex-direction: row; flex-wrap: wrap; width: 100% }\n    .wandb-col { display: flex; flex-direction: column; flex-basis: 100%; flex: 1; padding: 10px; }\n    </style>\n<div class=\"wandb-row\"><div class=\"wandb-col\">\n</div><div class=\"wandb-col\">\n</div></div>\nSynced 6 W&B file(s), 0 media file(s), 0 artifact file(s) and 1 other file(s)\n<br/>Synced <strong style=\"color:#cdcd00\">split4</strong>: <a href=\"http://localhost:8080/den/credit_scorecard/runs/edvla5g0\" target=\"_blank\">http://localhost:8080/den/credit_scorecard/runs/edvla5g0</a><br/>\nFind logs at: <code>./wandb/run-20220220_234642-edvla5g0/logs</code><br/>\n"
     },
     "metadata": {},
     "output_type": "display_data"
    },
    {
     "ename": "ValueError",
     "evalue": "Path is not a file: train.csv",
     "output_type": "error",
     "traceback": [
      "\u001B[0;31m---------------------------------------------------------------------------\u001B[0m",
      "\u001B[0;31mValueError\u001B[0m                                Traceback (most recent call last)",
      "\u001B[0;32m<ipython-input-61-773e8f5c0bff>\u001B[0m in \u001B[0;36m<module>\u001B[0;34m\u001B[0m\n\u001B[1;32m     38\u001B[0m \u001B[0;34m\u001B[0m\u001B[0m\n\u001B[1;32m     39\u001B[0m     \u001B[0;31m# Attach our processed data to the Artifact\u001B[0m\u001B[0;34m\u001B[0m\u001B[0;34m\u001B[0m\u001B[0m\n\u001B[0;32m---> 40\u001B[0;31m     \u001B[0msplit_ds_art\u001B[0m\u001B[0;34m.\u001B[0m\u001B[0madd_file\u001B[0m\u001B[0;34m(\u001B[0m\u001B[0;34m'train.csv'\u001B[0m\u001B[0;34m)\u001B[0m\u001B[0;34m\u001B[0m\u001B[0;34m\u001B[0m\u001B[0m\n\u001B[0m\u001B[1;32m     41\u001B[0m     \u001B[0msplit_ds_art\u001B[0m\u001B[0;34m.\u001B[0m\u001B[0madd_file\u001B[0m\u001B[0;34m(\u001B[0m\u001B[0;34m'val.csv'\u001B[0m\u001B[0;34m)\u001B[0m\u001B[0;34m\u001B[0m\u001B[0;34m\u001B[0m\u001B[0m\n\u001B[1;32m     42\u001B[0m \u001B[0;34m\u001B[0m\u001B[0m\n",
      "\u001B[0;32m~/my/fast/ml-env/venv/lib/python3.9/site-packages/wandb/sdk/wandb_artifacts.py\u001B[0m in \u001B[0;36madd_file\u001B[0;34m(self, local_path, name, is_tmp)\u001B[0m\n\u001B[1;32m    375\u001B[0m         \u001B[0mself\u001B[0m\u001B[0;34m.\u001B[0m\u001B[0m_ensure_can_add\u001B[0m\u001B[0;34m(\u001B[0m\u001B[0;34m)\u001B[0m\u001B[0;34m\u001B[0m\u001B[0;34m\u001B[0m\u001B[0m\n\u001B[1;32m    376\u001B[0m         \u001B[0;32mif\u001B[0m \u001B[0;32mnot\u001B[0m \u001B[0mos\u001B[0m\u001B[0;34m.\u001B[0m\u001B[0mpath\u001B[0m\u001B[0;34m.\u001B[0m\u001B[0misfile\u001B[0m\u001B[0;34m(\u001B[0m\u001B[0mlocal_path\u001B[0m\u001B[0;34m)\u001B[0m\u001B[0;34m:\u001B[0m\u001B[0;34m\u001B[0m\u001B[0;34m\u001B[0m\u001B[0m\n\u001B[0;32m--> 377\u001B[0;31m             \u001B[0;32mraise\u001B[0m \u001B[0mValueError\u001B[0m\u001B[0;34m(\u001B[0m\u001B[0;34m\"Path is not a file: %s\"\u001B[0m \u001B[0;34m%\u001B[0m \u001B[0mlocal_path\u001B[0m\u001B[0;34m)\u001B[0m\u001B[0;34m\u001B[0m\u001B[0;34m\u001B[0m\u001B[0m\n\u001B[0m\u001B[1;32m    378\u001B[0m \u001B[0;34m\u001B[0m\u001B[0m\n\u001B[1;32m    379\u001B[0m         \u001B[0mname\u001B[0m \u001B[0;34m=\u001B[0m \u001B[0mutil\u001B[0m\u001B[0;34m.\u001B[0m\u001B[0mto_forward_slash_path\u001B[0m\u001B[0;34m(\u001B[0m\u001B[0mname\u001B[0m \u001B[0;32mor\u001B[0m \u001B[0mos\u001B[0m\u001B[0;34m.\u001B[0m\u001B[0mpath\u001B[0m\u001B[0;34m.\u001B[0m\u001B[0mbasename\u001B[0m\u001B[0;34m(\u001B[0m\u001B[0mlocal_path\u001B[0m\u001B[0;34m)\u001B[0m\u001B[0;34m)\u001B[0m\u001B[0;34m\u001B[0m\u001B[0;34m\u001B[0m\u001B[0m\n",
      "\u001B[0;31mValueError\u001B[0m: Path is not a file: train.csv"
     ]
    }
   ],
   "source": []
  },
  {
   "cell_type": "code",
   "execution_count": 62,
   "metadata": {
    "pycharm": {
     "name": "#%%\n"
    }
   },
   "outputs": [
    {
     "name": "stdout",
     "output_type": "stream",
     "text": [
      "Number of records (num): 174865\n",
      "Target count (n_targ): 37958\n",
      "Target rate (base_rate): 0.21707031138306693\n",
      "Target odds (base_odds): 0.27725390228403224\n",
      "Target log odds (base_log_odds): -1.2828215778857626\n",
      "Dummy model negative log-likelihood (NLL_null): 91484.9725597928\n",
      "Dummy model LogLoss (LogLoss_null): 0.5231748638080393\n",
      "\n"
     ]
    },
    {
     "data": {
      "text/plain": "        UniqueID  loan_default  AgeInMonths  DaysSinceDisbursement    LTV  \\\n17797     435556             0        324.0                  141.0  80.00   \n4403      421891             0        351.0                  150.0  64.96   \n190714    611145             0        255.0                   69.0  83.98   \n115372    534751             0        229.0                   98.0  76.38   \n98591     517772             0        325.0                  104.0  77.25   \n\n        PERFORM_CNS_SCORE  Employment_Type__Salaried  \\\n17797                 NaN                          0   \n4403                718.0                          0   \n190714                NaN                          0   \n115372                NaN                          0   \n98591               700.0                          0   \n\n        Employment_Type__Self employed  State_ID__1  State_ID__2  State_ID__3  \\\n17797                                1            0            0            0   \n4403                                 1            0            0            0   \n190714                               1            0            0            0   \n115372                               0            0            0            1   \n98591                                1            0            0            0   \n\n        State_ID__4  State_ID__5  State_ID__6  State_ID__7  State_ID__8  \\\n17797             0            0            1            0            0   \n4403              0            0            0            0            0   \n190714            0            0            0            0            0   \n115372            0            0            0            0            0   \n98591             0            0            1            0            0   \n\n        State_ID__9  State_ID__10  State_ID__11  State_ID__12  State_ID__13  \\\n17797             0             0             0             0             0   \n4403              0             0             0             0             1   \n190714            0             0             0             0             1   \n115372            0             0             0             0             0   \n98591             0             0             0             0             0   \n\n        State_ID__14  State_ID__15  State_ID__16  State_ID__17  State_ID__18  \\\n17797              0             0             0             0             0   \n4403               0             0             0             0             0   \n190714             0             0             0             0             0   \n115372             0             0             0             0             0   \n98591              0             0             0             0             0   \n\n        State_ID__19  State_ID__20  State_ID__21  State_ID__22  \\\n17797              0             0             0             0   \n4403               0             0             0             0   \n190714             0             0             0             0   \n115372             0             0             0             0   \n98591              0             0             0             0   \n\n        manufacturer_id__45  manufacturer_id__48  manufacturer_id__49  \\\n17797                     0                    0                    0   \n4403                      0                    1                    0   \n190714                    1                    0                    0   \n115372                    1                    0                    0   \n98591                     0                    0                    0   \n\n        manufacturer_id__51  manufacturer_id__67  manufacturer_id__86  \\\n17797                     0                    0                    1   \n4403                      0                    0                    0   \n190714                    0                    0                    0   \n115372                    0                    0                    0   \n98591                     0                    0                    1   \n\n        manufacturer_id__120  manufacturer_id__145  manufacturer_id__152  \\\n17797                      0                     0                     0   \n4403                       0                     0                     0   \n190714                     0                     0                     0   \n115372                     0                     0                     0   \n98591                      0                     0                     0   \n\n        manufacturer_id__153  manufacturer_id__156  \n17797                      0                     0  \n4403                       0                     0  \n190714                     0                     0  \n115372                     0                     0  \n98591                      0                     0  ",
      "text/html": "<div>\n<style scoped>\n    .dataframe tbody tr th:only-of-type {\n        vertical-align: middle;\n    }\n\n    .dataframe tbody tr th {\n        vertical-align: top;\n    }\n\n    .dataframe thead th {\n        text-align: right;\n    }\n</style>\n<table border=\"1\" class=\"dataframe\">\n  <thead>\n    <tr style=\"text-align: right;\">\n      <th></th>\n      <th>UniqueID</th>\n      <th>loan_default</th>\n      <th>AgeInMonths</th>\n      <th>DaysSinceDisbursement</th>\n      <th>LTV</th>\n      <th>PERFORM_CNS_SCORE</th>\n      <th>Employment_Type__Salaried</th>\n      <th>Employment_Type__Self employed</th>\n      <th>State_ID__1</th>\n      <th>State_ID__2</th>\n      <th>State_ID__3</th>\n      <th>State_ID__4</th>\n      <th>State_ID__5</th>\n      <th>State_ID__6</th>\n      <th>State_ID__7</th>\n      <th>State_ID__8</th>\n      <th>State_ID__9</th>\n      <th>State_ID__10</th>\n      <th>State_ID__11</th>\n      <th>State_ID__12</th>\n      <th>State_ID__13</th>\n      <th>State_ID__14</th>\n      <th>State_ID__15</th>\n      <th>State_ID__16</th>\n      <th>State_ID__17</th>\n      <th>State_ID__18</th>\n      <th>State_ID__19</th>\n      <th>State_ID__20</th>\n      <th>State_ID__21</th>\n      <th>State_ID__22</th>\n      <th>manufacturer_id__45</th>\n      <th>manufacturer_id__48</th>\n      <th>manufacturer_id__49</th>\n      <th>manufacturer_id__51</th>\n      <th>manufacturer_id__67</th>\n      <th>manufacturer_id__86</th>\n      <th>manufacturer_id__120</th>\n      <th>manufacturer_id__145</th>\n      <th>manufacturer_id__152</th>\n      <th>manufacturer_id__153</th>\n      <th>manufacturer_id__156</th>\n    </tr>\n  </thead>\n  <tbody>\n    <tr>\n      <th>17797</th>\n      <td>435556</td>\n      <td>0</td>\n      <td>324.0</td>\n      <td>141.0</td>\n      <td>80.00</td>\n      <td>NaN</td>\n      <td>0</td>\n      <td>1</td>\n      <td>0</td>\n      <td>0</td>\n      <td>0</td>\n      <td>0</td>\n      <td>0</td>\n      <td>1</td>\n      <td>0</td>\n      <td>0</td>\n      <td>0</td>\n      <td>0</td>\n      <td>0</td>\n      <td>0</td>\n      <td>0</td>\n      <td>0</td>\n      <td>0</td>\n      <td>0</td>\n      <td>0</td>\n      <td>0</td>\n      <td>0</td>\n      <td>0</td>\n      <td>0</td>\n      <td>0</td>\n      <td>0</td>\n      <td>0</td>\n      <td>0</td>\n      <td>0</td>\n      <td>0</td>\n      <td>1</td>\n      <td>0</td>\n      <td>0</td>\n      <td>0</td>\n      <td>0</td>\n      <td>0</td>\n    </tr>\n    <tr>\n      <th>4403</th>\n      <td>421891</td>\n      <td>0</td>\n      <td>351.0</td>\n      <td>150.0</td>\n      <td>64.96</td>\n      <td>718.0</td>\n      <td>0</td>\n      <td>1</td>\n      <td>0</td>\n      <td>0</td>\n      <td>0</td>\n      <td>0</td>\n      <td>0</td>\n      <td>0</td>\n      <td>0</td>\n      <td>0</td>\n      <td>0</td>\n      <td>0</td>\n      <td>0</td>\n      <td>0</td>\n      <td>1</td>\n      <td>0</td>\n      <td>0</td>\n      <td>0</td>\n      <td>0</td>\n      <td>0</td>\n      <td>0</td>\n      <td>0</td>\n      <td>0</td>\n      <td>0</td>\n      <td>0</td>\n      <td>1</td>\n      <td>0</td>\n      <td>0</td>\n      <td>0</td>\n      <td>0</td>\n      <td>0</td>\n      <td>0</td>\n      <td>0</td>\n      <td>0</td>\n      <td>0</td>\n    </tr>\n    <tr>\n      <th>190714</th>\n      <td>611145</td>\n      <td>0</td>\n      <td>255.0</td>\n      <td>69.0</td>\n      <td>83.98</td>\n      <td>NaN</td>\n      <td>0</td>\n      <td>1</td>\n      <td>0</td>\n      <td>0</td>\n      <td>0</td>\n      <td>0</td>\n      <td>0</td>\n      <td>0</td>\n      <td>0</td>\n      <td>0</td>\n      <td>0</td>\n      <td>0</td>\n      <td>0</td>\n      <td>0</td>\n      <td>1</td>\n      <td>0</td>\n      <td>0</td>\n      <td>0</td>\n      <td>0</td>\n      <td>0</td>\n      <td>0</td>\n      <td>0</td>\n      <td>0</td>\n      <td>0</td>\n      <td>1</td>\n      <td>0</td>\n      <td>0</td>\n      <td>0</td>\n      <td>0</td>\n      <td>0</td>\n      <td>0</td>\n      <td>0</td>\n      <td>0</td>\n      <td>0</td>\n      <td>0</td>\n    </tr>\n    <tr>\n      <th>115372</th>\n      <td>534751</td>\n      <td>0</td>\n      <td>229.0</td>\n      <td>98.0</td>\n      <td>76.38</td>\n      <td>NaN</td>\n      <td>0</td>\n      <td>0</td>\n      <td>0</td>\n      <td>0</td>\n      <td>1</td>\n      <td>0</td>\n      <td>0</td>\n      <td>0</td>\n      <td>0</td>\n      <td>0</td>\n      <td>0</td>\n      <td>0</td>\n      <td>0</td>\n      <td>0</td>\n      <td>0</td>\n      <td>0</td>\n      <td>0</td>\n      <td>0</td>\n      <td>0</td>\n      <td>0</td>\n      <td>0</td>\n      <td>0</td>\n      <td>0</td>\n      <td>0</td>\n      <td>1</td>\n      <td>0</td>\n      <td>0</td>\n      <td>0</td>\n      <td>0</td>\n      <td>0</td>\n      <td>0</td>\n      <td>0</td>\n      <td>0</td>\n      <td>0</td>\n      <td>0</td>\n    </tr>\n    <tr>\n      <th>98591</th>\n      <td>517772</td>\n      <td>0</td>\n      <td>325.0</td>\n      <td>104.0</td>\n      <td>77.25</td>\n      <td>700.0</td>\n      <td>0</td>\n      <td>1</td>\n      <td>0</td>\n      <td>0</td>\n      <td>0</td>\n      <td>0</td>\n      <td>0</td>\n      <td>1</td>\n      <td>0</td>\n      <td>0</td>\n      <td>0</td>\n      <td>0</td>\n      <td>0</td>\n      <td>0</td>\n      <td>0</td>\n      <td>0</td>\n      <td>0</td>\n      <td>0</td>\n      <td>0</td>\n      <td>0</td>\n      <td>0</td>\n      <td>0</td>\n      <td>0</td>\n      <td>0</td>\n      <td>0</td>\n      <td>0</td>\n      <td>0</td>\n      <td>0</td>\n      <td>0</td>\n      <td>1</td>\n      <td>0</td>\n      <td>0</td>\n      <td>0</td>\n      <td>0</td>\n      <td>0</td>\n    </tr>\n  </tbody>\n</table>\n</div>"
     },
     "execution_count": 62,
     "metadata": {},
     "output_type": "execute_result"
    }
   ],
   "source": [
    "trndat.head()"
   ]
  },
  {
   "cell_type": "code",
   "execution_count": 63,
   "outputs": [
    {
     "data": {
      "text/plain": "<IPython.core.display.HTML object>",
      "text/html": "\n                    Syncing run <strong><a href=\"http://localhost:8080/den/credit_scorecard/runs/dit825yu\" target=\"_blank\">worthy-totem-11</a></strong> to <a href=\"http://localhost:8080/den/credit_scorecard\" target=\"_blank\">Weights & Biases</a> (<a href=\"https://docs.wandb.com/integrations/jupyter.html\" target=\"_blank\">docs</a>).<br/>\n\n                "
     },
     "metadata": {},
     "output_type": "display_data"
    },
    {
     "data": {
      "text/plain": "<IPython.core.display.HTML object>",
      "text/html": "<br/>Waiting for W&B process to finish, PID 77327... <strong style=\"color:green\">(success).</strong>"
     },
     "metadata": {},
     "output_type": "display_data"
    },
    {
     "data": {
      "text/plain": "VBox(children=(Label(value=' 0.28MB of 0.28MB uploaded (0.00MB deduped)\\r'), FloatProgress(value=1.0, max=1.0)…",
      "application/vnd.jupyter.widget-view+json": {
       "version_major": 2,
       "version_minor": 0,
       "model_id": "c544760df710450e9f3186f6b070146d"
      }
     },
     "metadata": {},
     "output_type": "display_data"
    },
    {
     "data": {
      "text/plain": "<IPython.core.display.HTML object>",
      "text/html": "<style>\n    table.wandb td:nth-child(1) { padding: 0 10px; text-align: right }\n    .wandb-row { display: flex; flex-direction: row; flex-wrap: wrap; width: 100% }\n    .wandb-col { display: flex; flex-direction: column; flex-basis: 100%; flex: 1; padding: 10px; }\n    </style>\n<div class=\"wandb-row\"><div class=\"wandb-col\">\n</div><div class=\"wandb-col\">\n</div></div>\nSynced 5 W&B file(s), 1 media file(s), 1 artifact file(s) and 1 other file(s)\n<br/>Synced <strong style=\"color:#cdcd00\">worthy-totem-11</strong>: <a href=\"http://localhost:8080/den/credit_scorecard/runs/dit825yu\" target=\"_blank\">http://localhost:8080/den/credit_scorecard/runs/dit825yu</a><br/>\nFind logs at: <code>./wandb/run-20220220_235319-dit825yu/logs</code><br/>\n"
     },
     "metadata": {},
     "output_type": "display_data"
    }
   ],
   "source": [
    "# Create a wandb run, with an optional \"log-dataset\" job type to keep things tidy\n",
    "run = wandb.init(entity=ENTITY, project='credit_scorecard', job_type='log-dataset', config={'wandb_nb':'wandb_credit_soc'})  # config is optional here\n",
    "\n",
    "dataset_art = run.use_artifact('vehicle_defaults_processed:latest', type='processed_dataset')\n",
    "dataset_dir = dataset_art.download(data_dir)\n",
    "dataset = pd.read_csv(processed_data_path)\n",
    "\n",
    "# Set Split Params\n",
    "test_size = 0.25\n",
    "random_state = 42\n",
    "\n",
    "# Log the splilt params\n",
    "run.config.update({'test_size':test_size, 'random_state': random_state})\n",
    "\n",
    "# Do the Train/Val Split\n",
    "trndat, valdat = model_selection.train_test_split(dataset, test_size=test_size,\n",
    "                                                  random_state=random_state, stratify=dataset[[targ_var]])\n",
    "\n",
    "print(f'Train dataset size: {trndat[targ_var].value_counts()} \\n')\n",
    "print(f'Validation dataset sizeL {valdat[targ_var].value_counts()}')\n",
    "\n",
    "# Save split datasets\n",
    "train_path = data_dir/'train.csv'\n",
    "val_path = data_dir/'val.csv'\n",
    "trndat.to_csv(train_path, index=False)\n",
    "valdat.to_csv(val_path, index=False)\n",
    "\n",
    "s3_client.upload_file(train_path.__str__(), 'creditscore', 'artifacts/train.csv')\n",
    "s3_client.upload_file(val_path.__str__(), 'creditscore', 'artifacts/val.csv')\n",
    "\n",
    "# Create a new artifact for the processed data, including the function that created it, to Artifacts\n",
    "split_ds_art = wandb.Artifact(name='vehicle_defaults_split',\n",
    "                              type='train-val-dataset',\n",
    "                              description='Processed dataset split into train and valiation',\n",
    "                              metadata={'test_size': test_size, 'random_state': random_state}\n",
    "                              )\n",
    "split_ds_art.add_reference('s3://creditscore/artifacts')\n",
    "\n",
    "# Attach our processed data to the Artifact\n",
    "# split_ds_art.add_file('train.csv')\n",
    "# split_ds_art.add_file('val.csv')\n",
    "\n",
    "# Log the Artifact\n",
    "run.log_artifact(split_ds_art)\n",
    "\n",
    "trndict = describe_data_g_targ(trndat, targ_var)\n",
    "\n",
    "# Create a W&B Table and log 1000 random rows of the dataset to explore\n",
    "table = wandb.Table(dataframe=trndat.sample(1000))\n",
    "\n",
    "# Log the Table to your W&B workspace\n",
    "wandb.log({'processed_dataset': table})\n",
    "\n",
    "# Close the wandb run\n",
    "wandb.finish()"
   ],
   "metadata": {
    "collapsed": false,
    "pycharm": {
     "name": "#%%\n"
    }
   }
  },
  {
   "cell_type": "code",
   "execution_count": null,
   "outputs": [],
   "source": [],
   "metadata": {
    "collapsed": false,
    "pycharm": {
     "name": "#%%\n"
    }
   }
  }
 ],
 "metadata": {
  "kernelspec": {
   "display_name": "Python 3",
   "language": "python",
   "name": "python3"
  },
  "language_info": {
   "codemirror_mode": {
    "name": "ipython",
    "version": 3
   },
   "file_extension": ".py",
   "mimetype": "text/x-python",
   "name": "python",
   "nbconvert_exporter": "python",
   "pygments_lexer": "ipython3",
   "version": "3.9.9"
  }
 },
 "nbformat": 4,
 "nbformat_minor": 1
}